{
  "nbformat": 4,
  "nbformat_minor": 0,
  "metadata": {
    "colab": {
      "name": "LSTM_ShortPaperSpecs_NadamOptimizer.ipynb",
      "provenance": [],
      "collapsed_sections": [],
      "authorship_tag": "ABX9TyMfa5Nom5cWKuhoSd+JooqZ",
      "include_colab_link": true
    },
    "kernelspec": {
      "name": "python3",
      "display_name": "Python 3"
    },
    "language_info": {
      "name": "python"
    }
  },
  "cells": [
    {
      "cell_type": "markdown",
      "metadata": {
        "id": "view-in-github",
        "colab_type": "text"
      },
      "source": [
        "<a href=\"https://colab.research.google.com/github/MeriSP/Option_Pricing_F_Sub/blob/main/LSTM_ShortPaperSpecs_NadamOptimizer.ipynb\" target=\"_parent\"><img src=\"https://colab.research.google.com/assets/colab-badge.svg\" alt=\"Open In Colab\"/></a>"
      ]
    },
    {
      "cell_type": "markdown",
      "source": [
        "**1. Importing the necessay libraries**"
      ],
      "metadata": {
        "id": "NvNKJh_4WXQZ"
      }
    },
    {
      "cell_type": "code",
      "source": [
        "import os\n",
        "import sys\n",
        "import pandas as pd\n",
        "import numpy as np\n",
        "%matplotlib inline\n",
        "from matplotlib import pyplot as plt\n",
        "import seaborn as sns\n",
        "import datetime"
      ],
      "metadata": {
        "id": "T8M0tconfonK"
      },
      "execution_count": 1,
      "outputs": []
    },
    {
      "cell_type": "markdown",
      "source": [
        "**2. Uploading the dataset**"
      ],
      "metadata": {
        "id": "NpJ0COBmWZTA"
      }
    },
    {
      "cell_type": "code",
      "source": [
        "# Step 1. Upload file \"AlgoSeek_SPy500Jun172022.csv\" to Google Colab Document\n",
        "df = pd.read_csv('/content/sample_data/AlgoSeek_SPy500Jun172022.csv')\n",
        "df.head(5)"
      ],
      "metadata": {
        "colab": {
          "base_uri": "https://localhost:8080/",
          "height": 270
        },
        "id": "8nYyoWlmfvhQ",
        "outputId": "740c5a6f-d55a-42d5-b362-fc546c4c4911"
      },
      "execution_count": 2,
      "outputs": [
        {
          "output_type": "execute_result",
          "data": {
            "text/plain": [
              "   No      date TimeBarStart  year  month  day  hour  minute ticker call  \\\n",
              "0   1  20220103  10:01:00 AM  2022      1    3    10       1    SPY    C   \n",
              "1   2  20220103  10:05:00 AM  2022      1    3    10       5    SPY    C   \n",
              "2   3  20220103  10:37:00 AM  2022      1    3    10      37    SPY    C   \n",
              "3   4  20220103  11:11:00 AM  2022      1    3    11      11    SPY    C   \n",
              "4   5  20220103  11:18:00 AM  2022      1    3    11      18    SPY    C   \n",
              "\n",
              "   strike expiration_date  option_price  underlying_price  moneyness  \\\n",
              "0     500       6/17/2022          9.33           475.535    0.95107   \n",
              "1     500       6/17/2022          9.16           475.195    0.95039   \n",
              "2     500       6/17/2022          9.37           475.995    0.95199   \n",
              "3     500       6/17/2022          9.20           475.565    0.95113   \n",
              "4     500       6/17/2022          9.07           475.240    0.95048   \n",
              "\n",
              "   days_to_ex  std_underlying  treasury_rate  \n",
              "0         118        0.001322           0.22  \n",
              "1         118        0.001181           0.22  \n",
              "2         118        0.001080           0.22  \n",
              "3         118        0.001175           0.22  \n",
              "4         118        0.001065           0.22  "
            ],
            "text/html": [
              "\n",
              "  <div id=\"df-ba6855dd-8e4b-4ee4-8a6b-15caeffe34dd\">\n",
              "    <div class=\"colab-df-container\">\n",
              "      <div>\n",
              "<style scoped>\n",
              "    .dataframe tbody tr th:only-of-type {\n",
              "        vertical-align: middle;\n",
              "    }\n",
              "\n",
              "    .dataframe tbody tr th {\n",
              "        vertical-align: top;\n",
              "    }\n",
              "\n",
              "    .dataframe thead th {\n",
              "        text-align: right;\n",
              "    }\n",
              "</style>\n",
              "<table border=\"1\" class=\"dataframe\">\n",
              "  <thead>\n",
              "    <tr style=\"text-align: right;\">\n",
              "      <th></th>\n",
              "      <th>No</th>\n",
              "      <th>date</th>\n",
              "      <th>TimeBarStart</th>\n",
              "      <th>year</th>\n",
              "      <th>month</th>\n",
              "      <th>day</th>\n",
              "      <th>hour</th>\n",
              "      <th>minute</th>\n",
              "      <th>ticker</th>\n",
              "      <th>call</th>\n",
              "      <th>strike</th>\n",
              "      <th>expiration_date</th>\n",
              "      <th>option_price</th>\n",
              "      <th>underlying_price</th>\n",
              "      <th>moneyness</th>\n",
              "      <th>days_to_ex</th>\n",
              "      <th>std_underlying</th>\n",
              "      <th>treasury_rate</th>\n",
              "    </tr>\n",
              "  </thead>\n",
              "  <tbody>\n",
              "    <tr>\n",
              "      <th>0</th>\n",
              "      <td>1</td>\n",
              "      <td>20220103</td>\n",
              "      <td>10:01:00 AM</td>\n",
              "      <td>2022</td>\n",
              "      <td>1</td>\n",
              "      <td>3</td>\n",
              "      <td>10</td>\n",
              "      <td>1</td>\n",
              "      <td>SPY</td>\n",
              "      <td>C</td>\n",
              "      <td>500</td>\n",
              "      <td>6/17/2022</td>\n",
              "      <td>9.33</td>\n",
              "      <td>475.535</td>\n",
              "      <td>0.95107</td>\n",
              "      <td>118</td>\n",
              "      <td>0.001322</td>\n",
              "      <td>0.22</td>\n",
              "    </tr>\n",
              "    <tr>\n",
              "      <th>1</th>\n",
              "      <td>2</td>\n",
              "      <td>20220103</td>\n",
              "      <td>10:05:00 AM</td>\n",
              "      <td>2022</td>\n",
              "      <td>1</td>\n",
              "      <td>3</td>\n",
              "      <td>10</td>\n",
              "      <td>5</td>\n",
              "      <td>SPY</td>\n",
              "      <td>C</td>\n",
              "      <td>500</td>\n",
              "      <td>6/17/2022</td>\n",
              "      <td>9.16</td>\n",
              "      <td>475.195</td>\n",
              "      <td>0.95039</td>\n",
              "      <td>118</td>\n",
              "      <td>0.001181</td>\n",
              "      <td>0.22</td>\n",
              "    </tr>\n",
              "    <tr>\n",
              "      <th>2</th>\n",
              "      <td>3</td>\n",
              "      <td>20220103</td>\n",
              "      <td>10:37:00 AM</td>\n",
              "      <td>2022</td>\n",
              "      <td>1</td>\n",
              "      <td>3</td>\n",
              "      <td>10</td>\n",
              "      <td>37</td>\n",
              "      <td>SPY</td>\n",
              "      <td>C</td>\n",
              "      <td>500</td>\n",
              "      <td>6/17/2022</td>\n",
              "      <td>9.37</td>\n",
              "      <td>475.995</td>\n",
              "      <td>0.95199</td>\n",
              "      <td>118</td>\n",
              "      <td>0.001080</td>\n",
              "      <td>0.22</td>\n",
              "    </tr>\n",
              "    <tr>\n",
              "      <th>3</th>\n",
              "      <td>4</td>\n",
              "      <td>20220103</td>\n",
              "      <td>11:11:00 AM</td>\n",
              "      <td>2022</td>\n",
              "      <td>1</td>\n",
              "      <td>3</td>\n",
              "      <td>11</td>\n",
              "      <td>11</td>\n",
              "      <td>SPY</td>\n",
              "      <td>C</td>\n",
              "      <td>500</td>\n",
              "      <td>6/17/2022</td>\n",
              "      <td>9.20</td>\n",
              "      <td>475.565</td>\n",
              "      <td>0.95113</td>\n",
              "      <td>118</td>\n",
              "      <td>0.001175</td>\n",
              "      <td>0.22</td>\n",
              "    </tr>\n",
              "    <tr>\n",
              "      <th>4</th>\n",
              "      <td>5</td>\n",
              "      <td>20220103</td>\n",
              "      <td>11:18:00 AM</td>\n",
              "      <td>2022</td>\n",
              "      <td>1</td>\n",
              "      <td>3</td>\n",
              "      <td>11</td>\n",
              "      <td>18</td>\n",
              "      <td>SPY</td>\n",
              "      <td>C</td>\n",
              "      <td>500</td>\n",
              "      <td>6/17/2022</td>\n",
              "      <td>9.07</td>\n",
              "      <td>475.240</td>\n",
              "      <td>0.95048</td>\n",
              "      <td>118</td>\n",
              "      <td>0.001065</td>\n",
              "      <td>0.22</td>\n",
              "    </tr>\n",
              "  </tbody>\n",
              "</table>\n",
              "</div>\n",
              "      <button class=\"colab-df-convert\" onclick=\"convertToInteractive('df-ba6855dd-8e4b-4ee4-8a6b-15caeffe34dd')\"\n",
              "              title=\"Convert this dataframe to an interactive table.\"\n",
              "              style=\"display:none;\">\n",
              "        \n",
              "  <svg xmlns=\"http://www.w3.org/2000/svg\" height=\"24px\"viewBox=\"0 0 24 24\"\n",
              "       width=\"24px\">\n",
              "    <path d=\"M0 0h24v24H0V0z\" fill=\"none\"/>\n",
              "    <path d=\"M18.56 5.44l.94 2.06.94-2.06 2.06-.94-2.06-.94-.94-2.06-.94 2.06-2.06.94zm-11 1L8.5 8.5l.94-2.06 2.06-.94-2.06-.94L8.5 2.5l-.94 2.06-2.06.94zm10 10l.94 2.06.94-2.06 2.06-.94-2.06-.94-.94-2.06-.94 2.06-2.06.94z\"/><path d=\"M17.41 7.96l-1.37-1.37c-.4-.4-.92-.59-1.43-.59-.52 0-1.04.2-1.43.59L10.3 9.45l-7.72 7.72c-.78.78-.78 2.05 0 2.83L4 21.41c.39.39.9.59 1.41.59.51 0 1.02-.2 1.41-.59l7.78-7.78 2.81-2.81c.8-.78.8-2.07 0-2.86zM5.41 20L4 18.59l7.72-7.72 1.47 1.35L5.41 20z\"/>\n",
              "  </svg>\n",
              "      </button>\n",
              "      \n",
              "  <style>\n",
              "    .colab-df-container {\n",
              "      display:flex;\n",
              "      flex-wrap:wrap;\n",
              "      gap: 12px;\n",
              "    }\n",
              "\n",
              "    .colab-df-convert {\n",
              "      background-color: #E8F0FE;\n",
              "      border: none;\n",
              "      border-radius: 50%;\n",
              "      cursor: pointer;\n",
              "      display: none;\n",
              "      fill: #1967D2;\n",
              "      height: 32px;\n",
              "      padding: 0 0 0 0;\n",
              "      width: 32px;\n",
              "    }\n",
              "\n",
              "    .colab-df-convert:hover {\n",
              "      background-color: #E2EBFA;\n",
              "      box-shadow: 0px 1px 2px rgba(60, 64, 67, 0.3), 0px 1px 3px 1px rgba(60, 64, 67, 0.15);\n",
              "      fill: #174EA6;\n",
              "    }\n",
              "\n",
              "    [theme=dark] .colab-df-convert {\n",
              "      background-color: #3B4455;\n",
              "      fill: #D2E3FC;\n",
              "    }\n",
              "\n",
              "    [theme=dark] .colab-df-convert:hover {\n",
              "      background-color: #434B5C;\n",
              "      box-shadow: 0px 1px 3px 1px rgba(0, 0, 0, 0.15);\n",
              "      filter: drop-shadow(0px 1px 2px rgba(0, 0, 0, 0.3));\n",
              "      fill: #FFFFFF;\n",
              "    }\n",
              "  </style>\n",
              "\n",
              "      <script>\n",
              "        const buttonEl =\n",
              "          document.querySelector('#df-ba6855dd-8e4b-4ee4-8a6b-15caeffe34dd button.colab-df-convert');\n",
              "        buttonEl.style.display =\n",
              "          google.colab.kernel.accessAllowed ? 'block' : 'none';\n",
              "\n",
              "        async function convertToInteractive(key) {\n",
              "          const element = document.querySelector('#df-ba6855dd-8e4b-4ee4-8a6b-15caeffe34dd');\n",
              "          const dataTable =\n",
              "            await google.colab.kernel.invokeFunction('convertToInteractive',\n",
              "                                                     [key], {});\n",
              "          if (!dataTable) return;\n",
              "\n",
              "          const docLinkHtml = 'Like what you see? Visit the ' +\n",
              "            '<a target=\"_blank\" href=https://colab.research.google.com/notebooks/data_table.ipynb>data table notebook</a>'\n",
              "            + ' to learn more about interactive tables.';\n",
              "          element.innerHTML = '';\n",
              "          dataTable['output_type'] = 'display_data';\n",
              "          await google.colab.output.renderOutput(dataTable, element);\n",
              "          const docLink = document.createElement('div');\n",
              "          docLink.innerHTML = docLinkHtml;\n",
              "          element.appendChild(docLink);\n",
              "        }\n",
              "      </script>\n",
              "    </div>\n",
              "  </div>\n",
              "  "
            ]
          },
          "metadata": {},
          "execution_count": 2
        }
      ]
    },
    {
      "cell_type": "markdown",
      "source": [
        "**3. Data Preprocessing**"
      ],
      "metadata": {
        "id": "g4B9XEdPWecY"
      }
    },
    {
      "cell_type": "code",
      "source": [
        "# Creating a new column with datatime module.\n",
        "df['datetime'] = df[['year', 'month', 'day', 'hour', 'minute']].apply(lambda row: datetime.datetime(year=row['year'], month=row['month'], day=row['day'],\n",
        "                                                                                          hour=row['hour'], minute=row['minute']), axis=1)\n",
        "# Sorting values in ascending order\n",
        "df.sort_values('datetime', ascending=True, inplace=True)\n",
        "df['datetime'].head()"
      ],
      "metadata": {
        "colab": {
          "base_uri": "https://localhost:8080/"
        },
        "id": "0wsmQWK_fwWD",
        "outputId": "a69eba60-b78e-4246-ebd5-f1961a58dfa5"
      },
      "execution_count": 3,
      "outputs": [
        {
          "output_type": "execute_result",
          "data": {
            "text/plain": [
              "0   2022-01-03 10:01:00\n",
              "1   2022-01-03 10:05:00\n",
              "2   2022-01-03 10:37:00\n",
              "3   2022-01-03 11:11:00\n",
              "4   2022-01-03 11:18:00\n",
              "Name: datetime, dtype: datetime64[ns]"
            ]
          },
          "metadata": {},
          "execution_count": 3
        }
      ]
    },
    {
      "cell_type": "code",
      "source": [
        "# Cleaning the dataframe, selecting feature variables and output for the model.\n",
        "option_df = df[['datetime', 'moneyness', 'days_to_ex', 'treasury_rate', 'std_underlying', 'option_price']].copy()\n",
        "option_df.head()"
      ],
      "metadata": {
        "colab": {
          "base_uri": "https://localhost:8080/",
          "height": 206
        },
        "id": "3__7Aeb7g6Uy",
        "outputId": "ea01f533-7a26-481c-af5e-51ee0e896632"
      },
      "execution_count": 4,
      "outputs": [
        {
          "output_type": "execute_result",
          "data": {
            "text/plain": [
              "             datetime  moneyness  days_to_ex  treasury_rate  std_underlying  \\\n",
              "0 2022-01-03 10:01:00    0.95107         118           0.22        0.001322   \n",
              "1 2022-01-03 10:05:00    0.95039         118           0.22        0.001181   \n",
              "2 2022-01-03 10:37:00    0.95199         118           0.22        0.001080   \n",
              "3 2022-01-03 11:11:00    0.95113         118           0.22        0.001175   \n",
              "4 2022-01-03 11:18:00    0.95048         118           0.22        0.001065   \n",
              "\n",
              "   option_price  \n",
              "0          9.33  \n",
              "1          9.16  \n",
              "2          9.37  \n",
              "3          9.20  \n",
              "4          9.07  "
            ],
            "text/html": [
              "\n",
              "  <div id=\"df-227def7f-c45d-47b6-aa17-da11bdcce78a\">\n",
              "    <div class=\"colab-df-container\">\n",
              "      <div>\n",
              "<style scoped>\n",
              "    .dataframe tbody tr th:only-of-type {\n",
              "        vertical-align: middle;\n",
              "    }\n",
              "\n",
              "    .dataframe tbody tr th {\n",
              "        vertical-align: top;\n",
              "    }\n",
              "\n",
              "    .dataframe thead th {\n",
              "        text-align: right;\n",
              "    }\n",
              "</style>\n",
              "<table border=\"1\" class=\"dataframe\">\n",
              "  <thead>\n",
              "    <tr style=\"text-align: right;\">\n",
              "      <th></th>\n",
              "      <th>datetime</th>\n",
              "      <th>moneyness</th>\n",
              "      <th>days_to_ex</th>\n",
              "      <th>treasury_rate</th>\n",
              "      <th>std_underlying</th>\n",
              "      <th>option_price</th>\n",
              "    </tr>\n",
              "  </thead>\n",
              "  <tbody>\n",
              "    <tr>\n",
              "      <th>0</th>\n",
              "      <td>2022-01-03 10:01:00</td>\n",
              "      <td>0.95107</td>\n",
              "      <td>118</td>\n",
              "      <td>0.22</td>\n",
              "      <td>0.001322</td>\n",
              "      <td>9.33</td>\n",
              "    </tr>\n",
              "    <tr>\n",
              "      <th>1</th>\n",
              "      <td>2022-01-03 10:05:00</td>\n",
              "      <td>0.95039</td>\n",
              "      <td>118</td>\n",
              "      <td>0.22</td>\n",
              "      <td>0.001181</td>\n",
              "      <td>9.16</td>\n",
              "    </tr>\n",
              "    <tr>\n",
              "      <th>2</th>\n",
              "      <td>2022-01-03 10:37:00</td>\n",
              "      <td>0.95199</td>\n",
              "      <td>118</td>\n",
              "      <td>0.22</td>\n",
              "      <td>0.001080</td>\n",
              "      <td>9.37</td>\n",
              "    </tr>\n",
              "    <tr>\n",
              "      <th>3</th>\n",
              "      <td>2022-01-03 11:11:00</td>\n",
              "      <td>0.95113</td>\n",
              "      <td>118</td>\n",
              "      <td>0.22</td>\n",
              "      <td>0.001175</td>\n",
              "      <td>9.20</td>\n",
              "    </tr>\n",
              "    <tr>\n",
              "      <th>4</th>\n",
              "      <td>2022-01-03 11:18:00</td>\n",
              "      <td>0.95048</td>\n",
              "      <td>118</td>\n",
              "      <td>0.22</td>\n",
              "      <td>0.001065</td>\n",
              "      <td>9.07</td>\n",
              "    </tr>\n",
              "  </tbody>\n",
              "</table>\n",
              "</div>\n",
              "      <button class=\"colab-df-convert\" onclick=\"convertToInteractive('df-227def7f-c45d-47b6-aa17-da11bdcce78a')\"\n",
              "              title=\"Convert this dataframe to an interactive table.\"\n",
              "              style=\"display:none;\">\n",
              "        \n",
              "  <svg xmlns=\"http://www.w3.org/2000/svg\" height=\"24px\"viewBox=\"0 0 24 24\"\n",
              "       width=\"24px\">\n",
              "    <path d=\"M0 0h24v24H0V0z\" fill=\"none\"/>\n",
              "    <path d=\"M18.56 5.44l.94 2.06.94-2.06 2.06-.94-2.06-.94-.94-2.06-.94 2.06-2.06.94zm-11 1L8.5 8.5l.94-2.06 2.06-.94-2.06-.94L8.5 2.5l-.94 2.06-2.06.94zm10 10l.94 2.06.94-2.06 2.06-.94-2.06-.94-.94-2.06-.94 2.06-2.06.94z\"/><path d=\"M17.41 7.96l-1.37-1.37c-.4-.4-.92-.59-1.43-.59-.52 0-1.04.2-1.43.59L10.3 9.45l-7.72 7.72c-.78.78-.78 2.05 0 2.83L4 21.41c.39.39.9.59 1.41.59.51 0 1.02-.2 1.41-.59l7.78-7.78 2.81-2.81c.8-.78.8-2.07 0-2.86zM5.41 20L4 18.59l7.72-7.72 1.47 1.35L5.41 20z\"/>\n",
              "  </svg>\n",
              "      </button>\n",
              "      \n",
              "  <style>\n",
              "    .colab-df-container {\n",
              "      display:flex;\n",
              "      flex-wrap:wrap;\n",
              "      gap: 12px;\n",
              "    }\n",
              "\n",
              "    .colab-df-convert {\n",
              "      background-color: #E8F0FE;\n",
              "      border: none;\n",
              "      border-radius: 50%;\n",
              "      cursor: pointer;\n",
              "      display: none;\n",
              "      fill: #1967D2;\n",
              "      height: 32px;\n",
              "      padding: 0 0 0 0;\n",
              "      width: 32px;\n",
              "    }\n",
              "\n",
              "    .colab-df-convert:hover {\n",
              "      background-color: #E2EBFA;\n",
              "      box-shadow: 0px 1px 2px rgba(60, 64, 67, 0.3), 0px 1px 3px 1px rgba(60, 64, 67, 0.15);\n",
              "      fill: #174EA6;\n",
              "    }\n",
              "\n",
              "    [theme=dark] .colab-df-convert {\n",
              "      background-color: #3B4455;\n",
              "      fill: #D2E3FC;\n",
              "    }\n",
              "\n",
              "    [theme=dark] .colab-df-convert:hover {\n",
              "      background-color: #434B5C;\n",
              "      box-shadow: 0px 1px 3px 1px rgba(0, 0, 0, 0.15);\n",
              "      filter: drop-shadow(0px 1px 2px rgba(0, 0, 0, 0.3));\n",
              "      fill: #FFFFFF;\n",
              "    }\n",
              "  </style>\n",
              "\n",
              "      <script>\n",
              "        const buttonEl =\n",
              "          document.querySelector('#df-227def7f-c45d-47b6-aa17-da11bdcce78a button.colab-df-convert');\n",
              "        buttonEl.style.display =\n",
              "          google.colab.kernel.accessAllowed ? 'block' : 'none';\n",
              "\n",
              "        async function convertToInteractive(key) {\n",
              "          const element = document.querySelector('#df-227def7f-c45d-47b6-aa17-da11bdcce78a');\n",
              "          const dataTable =\n",
              "            await google.colab.kernel.invokeFunction('convertToInteractive',\n",
              "                                                     [key], {});\n",
              "          if (!dataTable) return;\n",
              "\n",
              "          const docLinkHtml = 'Like what you see? Visit the ' +\n",
              "            '<a target=\"_blank\" href=https://colab.research.google.com/notebooks/data_table.ipynb>data table notebook</a>'\n",
              "            + ' to learn more about interactive tables.';\n",
              "          element.innerHTML = '';\n",
              "          dataTable['output_type'] = 'display_data';\n",
              "          await google.colab.output.renderOutput(dataTable, element);\n",
              "          const docLink = document.createElement('div');\n",
              "          docLink.innerHTML = docLinkHtml;\n",
              "          element.appendChild(docLink);\n",
              "        }\n",
              "      </script>\n",
              "    </div>\n",
              "  </div>\n",
              "  "
            ]
          },
          "metadata": {},
          "execution_count": 4
        }
      ]
    },
    {
      "cell_type": "markdown",
      "source": [
        "**4. Train/Validation Split**"
      ],
      "metadata": {
        "id": "eNZrGmLVWvmj"
      }
    },
    {
      "cell_type": "markdown",
      "source": [
        "Before starting the training the model we need to create four different arrays separating features variables from the output variables for both training and validation dataset.\n"
      ],
      "metadata": {
        "id": "AnzhDkzfg_Qo"
      }
    },
    {
      "cell_type": "code",
      "source": [
        "# Spliting the data while mantaining the order of the dataset.\n",
        "split_date = datetime.datetime(year=2022, month=3, day=10, hour=0)\n",
        "df_train = option_df.loc[df['datetime']<split_date]\n",
        "df_val = option_df.loc[df['datetime']>=split_date]\n",
        "print('Shape of train:', df_train.shape)\n",
        "print('Shape of test:', df_val.shape)"
      ],
      "metadata": {
        "colab": {
          "base_uri": "https://localhost:8080/"
        },
        "id": "c-I77SqmfxDQ",
        "outputId": "d01f521e-590b-4819-d8c4-c35b4d493faa"
      },
      "execution_count": 5,
      "outputs": [
        {
          "output_type": "stream",
          "name": "stdout",
          "text": [
            "Shape of train: (4008, 6)\n",
            "Shape of test: (1045, 6)\n"
          ]
        }
      ]
    },
    {
      "cell_type": "code",
      "source": [
        "# Datetime variable is eliminated as it is not a feature variable for the model.\n",
        "df_train = df_train[['moneyness', 'days_to_ex', 'treasury_rate', 'std_underlying', 'option_price']].copy()\n",
        "df_train.head()"
      ],
      "metadata": {
        "colab": {
          "base_uri": "https://localhost:8080/",
          "height": 206
        },
        "id": "-ua5GrX0hKQG",
        "outputId": "bdd1c16a-2b57-4525-d816-b972c4e905fd"
      },
      "execution_count": 6,
      "outputs": [
        {
          "output_type": "execute_result",
          "data": {
            "text/plain": [
              "   moneyness  days_to_ex  treasury_rate  std_underlying  option_price\n",
              "0    0.95107         118           0.22        0.001322          9.33\n",
              "1    0.95039         118           0.22        0.001181          9.16\n",
              "2    0.95199         118           0.22        0.001080          9.37\n",
              "3    0.95113         118           0.22        0.001175          9.20\n",
              "4    0.95048         118           0.22        0.001065          9.07"
            ],
            "text/html": [
              "\n",
              "  <div id=\"df-b2383f2f-caa2-4000-abcb-3d6204fc4b7d\">\n",
              "    <div class=\"colab-df-container\">\n",
              "      <div>\n",
              "<style scoped>\n",
              "    .dataframe tbody tr th:only-of-type {\n",
              "        vertical-align: middle;\n",
              "    }\n",
              "\n",
              "    .dataframe tbody tr th {\n",
              "        vertical-align: top;\n",
              "    }\n",
              "\n",
              "    .dataframe thead th {\n",
              "        text-align: right;\n",
              "    }\n",
              "</style>\n",
              "<table border=\"1\" class=\"dataframe\">\n",
              "  <thead>\n",
              "    <tr style=\"text-align: right;\">\n",
              "      <th></th>\n",
              "      <th>moneyness</th>\n",
              "      <th>days_to_ex</th>\n",
              "      <th>treasury_rate</th>\n",
              "      <th>std_underlying</th>\n",
              "      <th>option_price</th>\n",
              "    </tr>\n",
              "  </thead>\n",
              "  <tbody>\n",
              "    <tr>\n",
              "      <th>0</th>\n",
              "      <td>0.95107</td>\n",
              "      <td>118</td>\n",
              "      <td>0.22</td>\n",
              "      <td>0.001322</td>\n",
              "      <td>9.33</td>\n",
              "    </tr>\n",
              "    <tr>\n",
              "      <th>1</th>\n",
              "      <td>0.95039</td>\n",
              "      <td>118</td>\n",
              "      <td>0.22</td>\n",
              "      <td>0.001181</td>\n",
              "      <td>9.16</td>\n",
              "    </tr>\n",
              "    <tr>\n",
              "      <th>2</th>\n",
              "      <td>0.95199</td>\n",
              "      <td>118</td>\n",
              "      <td>0.22</td>\n",
              "      <td>0.001080</td>\n",
              "      <td>9.37</td>\n",
              "    </tr>\n",
              "    <tr>\n",
              "      <th>3</th>\n",
              "      <td>0.95113</td>\n",
              "      <td>118</td>\n",
              "      <td>0.22</td>\n",
              "      <td>0.001175</td>\n",
              "      <td>9.20</td>\n",
              "    </tr>\n",
              "    <tr>\n",
              "      <th>4</th>\n",
              "      <td>0.95048</td>\n",
              "      <td>118</td>\n",
              "      <td>0.22</td>\n",
              "      <td>0.001065</td>\n",
              "      <td>9.07</td>\n",
              "    </tr>\n",
              "  </tbody>\n",
              "</table>\n",
              "</div>\n",
              "      <button class=\"colab-df-convert\" onclick=\"convertToInteractive('df-b2383f2f-caa2-4000-abcb-3d6204fc4b7d')\"\n",
              "              title=\"Convert this dataframe to an interactive table.\"\n",
              "              style=\"display:none;\">\n",
              "        \n",
              "  <svg xmlns=\"http://www.w3.org/2000/svg\" height=\"24px\"viewBox=\"0 0 24 24\"\n",
              "       width=\"24px\">\n",
              "    <path d=\"M0 0h24v24H0V0z\" fill=\"none\"/>\n",
              "    <path d=\"M18.56 5.44l.94 2.06.94-2.06 2.06-.94-2.06-.94-.94-2.06-.94 2.06-2.06.94zm-11 1L8.5 8.5l.94-2.06 2.06-.94-2.06-.94L8.5 2.5l-.94 2.06-2.06.94zm10 10l.94 2.06.94-2.06 2.06-.94-2.06-.94-.94-2.06-.94 2.06-2.06.94z\"/><path d=\"M17.41 7.96l-1.37-1.37c-.4-.4-.92-.59-1.43-.59-.52 0-1.04.2-1.43.59L10.3 9.45l-7.72 7.72c-.78.78-.78 2.05 0 2.83L4 21.41c.39.39.9.59 1.41.59.51 0 1.02-.2 1.41-.59l7.78-7.78 2.81-2.81c.8-.78.8-2.07 0-2.86zM5.41 20L4 18.59l7.72-7.72 1.47 1.35L5.41 20z\"/>\n",
              "  </svg>\n",
              "      </button>\n",
              "      \n",
              "  <style>\n",
              "    .colab-df-container {\n",
              "      display:flex;\n",
              "      flex-wrap:wrap;\n",
              "      gap: 12px;\n",
              "    }\n",
              "\n",
              "    .colab-df-convert {\n",
              "      background-color: #E8F0FE;\n",
              "      border: none;\n",
              "      border-radius: 50%;\n",
              "      cursor: pointer;\n",
              "      display: none;\n",
              "      fill: #1967D2;\n",
              "      height: 32px;\n",
              "      padding: 0 0 0 0;\n",
              "      width: 32px;\n",
              "    }\n",
              "\n",
              "    .colab-df-convert:hover {\n",
              "      background-color: #E2EBFA;\n",
              "      box-shadow: 0px 1px 2px rgba(60, 64, 67, 0.3), 0px 1px 3px 1px rgba(60, 64, 67, 0.15);\n",
              "      fill: #174EA6;\n",
              "    }\n",
              "\n",
              "    [theme=dark] .colab-df-convert {\n",
              "      background-color: #3B4455;\n",
              "      fill: #D2E3FC;\n",
              "    }\n",
              "\n",
              "    [theme=dark] .colab-df-convert:hover {\n",
              "      background-color: #434B5C;\n",
              "      box-shadow: 0px 1px 3px 1px rgba(0, 0, 0, 0.15);\n",
              "      filter: drop-shadow(0px 1px 2px rgba(0, 0, 0, 0.3));\n",
              "      fill: #FFFFFF;\n",
              "    }\n",
              "  </style>\n",
              "\n",
              "      <script>\n",
              "        const buttonEl =\n",
              "          document.querySelector('#df-b2383f2f-caa2-4000-abcb-3d6204fc4b7d button.colab-df-convert');\n",
              "        buttonEl.style.display =\n",
              "          google.colab.kernel.accessAllowed ? 'block' : 'none';\n",
              "\n",
              "        async function convertToInteractive(key) {\n",
              "          const element = document.querySelector('#df-b2383f2f-caa2-4000-abcb-3d6204fc4b7d');\n",
              "          const dataTable =\n",
              "            await google.colab.kernel.invokeFunction('convertToInteractive',\n",
              "                                                     [key], {});\n",
              "          if (!dataTable) return;\n",
              "\n",
              "          const docLinkHtml = 'Like what you see? Visit the ' +\n",
              "            '<a target=\"_blank\" href=https://colab.research.google.com/notebooks/data_table.ipynb>data table notebook</a>'\n",
              "            + ' to learn more about interactive tables.';\n",
              "          element.innerHTML = '';\n",
              "          dataTable['output_type'] = 'display_data';\n",
              "          await google.colab.output.renderOutput(dataTable, element);\n",
              "          const docLink = document.createElement('div');\n",
              "          docLink.innerHTML = docLinkHtml;\n",
              "          element.appendChild(docLink);\n",
              "        }\n",
              "      </script>\n",
              "    </div>\n",
              "  </div>\n",
              "  "
            ]
          },
          "metadata": {},
          "execution_count": 6
        }
      ]
    },
    {
      "cell_type": "code",
      "source": [
        "# Datetime variable is eliminated as it is not a feature variable for the model.\n",
        "df_val = df_val[['moneyness', 'days_to_ex', 'treasury_rate', 'std_underlying', 'option_price']].copy()\n",
        "df_val.reset_index(inplace = True, drop = True)\n",
        "df_val.head()"
      ],
      "metadata": {
        "colab": {
          "base_uri": "https://localhost:8080/",
          "height": 206
        },
        "id": "L4JK6sFRhyvV",
        "outputId": "0f2e6d54-205d-41d3-fd5e-c2306ced5028"
      },
      "execution_count": 7,
      "outputs": [
        {
          "output_type": "execute_result",
          "data": {
            "text/plain": [
              "   moneyness  days_to_ex  treasury_rate  std_underlying  option_price\n",
              "0    0.84551          72           0.38        0.004437          0.65\n",
              "1    0.84491          72           0.38        0.004218          0.68\n",
              "2    0.84447          72           0.38        0.004123          0.63\n",
              "3    0.84587          72           0.38        0.004532          0.67\n",
              "4    0.84560          72           0.38        0.004523          0.68"
            ],
            "text/html": [
              "\n",
              "  <div id=\"df-bc72c090-7279-43f9-8f61-763395827f6f\">\n",
              "    <div class=\"colab-df-container\">\n",
              "      <div>\n",
              "<style scoped>\n",
              "    .dataframe tbody tr th:only-of-type {\n",
              "        vertical-align: middle;\n",
              "    }\n",
              "\n",
              "    .dataframe tbody tr th {\n",
              "        vertical-align: top;\n",
              "    }\n",
              "\n",
              "    .dataframe thead th {\n",
              "        text-align: right;\n",
              "    }\n",
              "</style>\n",
              "<table border=\"1\" class=\"dataframe\">\n",
              "  <thead>\n",
              "    <tr style=\"text-align: right;\">\n",
              "      <th></th>\n",
              "      <th>moneyness</th>\n",
              "      <th>days_to_ex</th>\n",
              "      <th>treasury_rate</th>\n",
              "      <th>std_underlying</th>\n",
              "      <th>option_price</th>\n",
              "    </tr>\n",
              "  </thead>\n",
              "  <tbody>\n",
              "    <tr>\n",
              "      <th>0</th>\n",
              "      <td>0.84551</td>\n",
              "      <td>72</td>\n",
              "      <td>0.38</td>\n",
              "      <td>0.004437</td>\n",
              "      <td>0.65</td>\n",
              "    </tr>\n",
              "    <tr>\n",
              "      <th>1</th>\n",
              "      <td>0.84491</td>\n",
              "      <td>72</td>\n",
              "      <td>0.38</td>\n",
              "      <td>0.004218</td>\n",
              "      <td>0.68</td>\n",
              "    </tr>\n",
              "    <tr>\n",
              "      <th>2</th>\n",
              "      <td>0.84447</td>\n",
              "      <td>72</td>\n",
              "      <td>0.38</td>\n",
              "      <td>0.004123</td>\n",
              "      <td>0.63</td>\n",
              "    </tr>\n",
              "    <tr>\n",
              "      <th>3</th>\n",
              "      <td>0.84587</td>\n",
              "      <td>72</td>\n",
              "      <td>0.38</td>\n",
              "      <td>0.004532</td>\n",
              "      <td>0.67</td>\n",
              "    </tr>\n",
              "    <tr>\n",
              "      <th>4</th>\n",
              "      <td>0.84560</td>\n",
              "      <td>72</td>\n",
              "      <td>0.38</td>\n",
              "      <td>0.004523</td>\n",
              "      <td>0.68</td>\n",
              "    </tr>\n",
              "  </tbody>\n",
              "</table>\n",
              "</div>\n",
              "      <button class=\"colab-df-convert\" onclick=\"convertToInteractive('df-bc72c090-7279-43f9-8f61-763395827f6f')\"\n",
              "              title=\"Convert this dataframe to an interactive table.\"\n",
              "              style=\"display:none;\">\n",
              "        \n",
              "  <svg xmlns=\"http://www.w3.org/2000/svg\" height=\"24px\"viewBox=\"0 0 24 24\"\n",
              "       width=\"24px\">\n",
              "    <path d=\"M0 0h24v24H0V0z\" fill=\"none\"/>\n",
              "    <path d=\"M18.56 5.44l.94 2.06.94-2.06 2.06-.94-2.06-.94-.94-2.06-.94 2.06-2.06.94zm-11 1L8.5 8.5l.94-2.06 2.06-.94-2.06-.94L8.5 2.5l-.94 2.06-2.06.94zm10 10l.94 2.06.94-2.06 2.06-.94-2.06-.94-.94-2.06-.94 2.06-2.06.94z\"/><path d=\"M17.41 7.96l-1.37-1.37c-.4-.4-.92-.59-1.43-.59-.52 0-1.04.2-1.43.59L10.3 9.45l-7.72 7.72c-.78.78-.78 2.05 0 2.83L4 21.41c.39.39.9.59 1.41.59.51 0 1.02-.2 1.41-.59l7.78-7.78 2.81-2.81c.8-.78.8-2.07 0-2.86zM5.41 20L4 18.59l7.72-7.72 1.47 1.35L5.41 20z\"/>\n",
              "  </svg>\n",
              "      </button>\n",
              "      \n",
              "  <style>\n",
              "    .colab-df-container {\n",
              "      display:flex;\n",
              "      flex-wrap:wrap;\n",
              "      gap: 12px;\n",
              "    }\n",
              "\n",
              "    .colab-df-convert {\n",
              "      background-color: #E8F0FE;\n",
              "      border: none;\n",
              "      border-radius: 50%;\n",
              "      cursor: pointer;\n",
              "      display: none;\n",
              "      fill: #1967D2;\n",
              "      height: 32px;\n",
              "      padding: 0 0 0 0;\n",
              "      width: 32px;\n",
              "    }\n",
              "\n",
              "    .colab-df-convert:hover {\n",
              "      background-color: #E2EBFA;\n",
              "      box-shadow: 0px 1px 2px rgba(60, 64, 67, 0.3), 0px 1px 3px 1px rgba(60, 64, 67, 0.15);\n",
              "      fill: #174EA6;\n",
              "    }\n",
              "\n",
              "    [theme=dark] .colab-df-convert {\n",
              "      background-color: #3B4455;\n",
              "      fill: #D2E3FC;\n",
              "    }\n",
              "\n",
              "    [theme=dark] .colab-df-convert:hover {\n",
              "      background-color: #434B5C;\n",
              "      box-shadow: 0px 1px 3px 1px rgba(0, 0, 0, 0.15);\n",
              "      filter: drop-shadow(0px 1px 2px rgba(0, 0, 0, 0.3));\n",
              "      fill: #FFFFFF;\n",
              "    }\n",
              "  </style>\n",
              "\n",
              "      <script>\n",
              "        const buttonEl =\n",
              "          document.querySelector('#df-bc72c090-7279-43f9-8f61-763395827f6f button.colab-df-convert');\n",
              "        buttonEl.style.display =\n",
              "          google.colab.kernel.accessAllowed ? 'block' : 'none';\n",
              "\n",
              "        async function convertToInteractive(key) {\n",
              "          const element = document.querySelector('#df-bc72c090-7279-43f9-8f61-763395827f6f');\n",
              "          const dataTable =\n",
              "            await google.colab.kernel.invokeFunction('convertToInteractive',\n",
              "                                                     [key], {});\n",
              "          if (!dataTable) return;\n",
              "\n",
              "          const docLinkHtml = 'Like what you see? Visit the ' +\n",
              "            '<a target=\"_blank\" href=https://colab.research.google.com/notebooks/data_table.ipynb>data table notebook</a>'\n",
              "            + ' to learn more about interactive tables.';\n",
              "          element.innerHTML = '';\n",
              "          dataTable['output_type'] = 'display_data';\n",
              "          await google.colab.output.renderOutput(dataTable, element);\n",
              "          const docLink = document.createElement('div');\n",
              "          docLink.innerHTML = docLinkHtml;\n",
              "          element.appendChild(docLink);\n",
              "        }\n",
              "      </script>\n",
              "    </div>\n",
              "  </div>\n",
              "  "
            ]
          },
          "metadata": {},
          "execution_count": 7
        }
      ]
    },
    {
      "cell_type": "code",
      "source": [
        "def train_X_Y(n_future, n_past):\n",
        "  # Inputs:\n",
        "  # n_future = Number of days to be predicted in the future based on past days.\n",
        "  # Output:\n",
        "  # train_X = 3D array (n_samples, n_timesteps, n_features)\n",
        "  # train_Y = 3D array (n_samples, n_timesteps, n_features)\n",
        "\n",
        "  train_X = []\n",
        "  train_Y = []\n",
        "\n",
        "  array_train = df_train.to_numpy()\n",
        "\n",
        "  for i in range(n_past, len(array_train) - n_future +1):\n",
        "      train_X.append(array_train[i - n_past:i, 0:(array_train.shape[1]-1)])\n",
        "      train_Y.append(array_train[i + n_future - 1:i + n_future, 4])\n",
        "\n",
        "  train_X, train_Y = np.array(train_X), np.array(train_Y)\n",
        "  return train_X, train_Y"
      ],
      "metadata": {
        "id": "Kf5oHlrfhL3e"
      },
      "execution_count": 8,
      "outputs": []
    },
    {
      "cell_type": "code",
      "source": [
        "n_future = 1\n",
        "n_past = 5\n",
        "\n",
        "train_X, train_Y = train_X_Y(n_future, n_past)\n",
        "print('train_X shape == {}'.format(train_X.shape))\n",
        "print('train_Y shape == {}'.format(train_Y.shape))"
      ],
      "metadata": {
        "colab": {
          "base_uri": "https://localhost:8080/"
        },
        "id": "xIAlzf_9hUy9",
        "outputId": "3b14b83b-a6d2-467c-e1d0-d2fc8c8bb7d9"
      },
      "execution_count": 9,
      "outputs": [
        {
          "output_type": "stream",
          "name": "stdout",
          "text": [
            "train_X shape == (4003, 5, 4)\n",
            "train_Y shape == (4003, 1)\n"
          ]
        }
      ]
    },
    {
      "cell_type": "code",
      "source": [
        "def valid_X_Y(n_future, n_past):\n",
        "  # Inputs:\n",
        "  # n_future = Number of days to be predicted in the future based on past days.\n",
        "  # Output:\n",
        "  # valid_X = 3D array (n_samples, n_timesteps, n_features)\n",
        "  # valid_Y = 3D array (n_samples, n_timesteps, n_features)\n",
        "\n",
        "  valid_X = []\n",
        "  valid_Y = []\n",
        "\n",
        "  array_valid = df_val.to_numpy()\n",
        "\n",
        "  for i in range(n_past, len(array_valid ) - n_future +1):\n",
        "      valid_X.append(array_valid[i - n_past:i, 0:(array_valid.shape[1]-1)])\n",
        "      valid_Y.append(array_valid[i + n_future - 1:i + n_future, 4])\n",
        "\n",
        "  valid_X, valid_Y = np.array(valid_X), np.array(valid_Y)\n",
        "  return valid_X, valid_Y "
      ],
      "metadata": {
        "id": "DJk87zwLhZUH"
      },
      "execution_count": 10,
      "outputs": []
    },
    {
      "cell_type": "code",
      "source": [
        "n_future = 1\n",
        "n_past = 5\n",
        "\n",
        "valid_X, valid_Y = valid_X_Y(n_future, n_past)\n",
        "print('valid_X shape == {}'.format(valid_X.shape))\n",
        "print('valid_Y shape == {}'.format(valid_Y.shape))"
      ],
      "metadata": {
        "colab": {
          "base_uri": "https://localhost:8080/"
        },
        "id": "Q44Tw2FThdd6",
        "outputId": "5b0eded7-8c16-42a3-dac4-45b76da6d587"
      },
      "execution_count": 11,
      "outputs": [
        {
          "output_type": "stream",
          "name": "stdout",
          "text": [
            "valid_X shape == (1040, 5, 4)\n",
            "valid_Y shape == (1040, 1)\n"
          ]
        }
      ]
    },
    {
      "cell_type": "markdown",
      "source": [
        "**5. Standardizing data**"
      ],
      "metadata": {
        "id": "MU8-0hXiW1Am"
      }
    },
    {
      "cell_type": "code",
      "source": [
        "# Standarization of feature variables is a common requirement for machine learning estimators:\n",
        "from sklearn import preprocessing\n",
        "# Datetime variable is eliminated as it is not a feature variable for the model.\n",
        "df_train = df_train[['moneyness', 'days_to_ex', 'treasury_rate', 'std_underlying', 'option_price']].copy()\n",
        "\n",
        "# Preprocessing transforms dataframe into array\n",
        "scaler_X = preprocessing.StandardScaler().fit(train_X.reshape(-1, train_X.shape[-1]))\n",
        "scaler_Y = preprocessing.StandardScaler().fit(train_Y.reshape(-1, train_Y.shape[-1]))\n",
        "\n",
        "array_train_scaled_X = scaler_X.transform(train_X.reshape(-1, train_X.shape[-1])).reshape(train_X.shape)\n",
        "array_train_scaled_Y = scaler_Y.transform(train_Y.reshape(-1, train_Y.shape[-1])).reshape(train_Y.shape)\n",
        "\n",
        "print('Shape of scaled train X:', array_train_scaled_X.shape)\n",
        "print('Shape of scaled train Y:', array_train_scaled_Y.shape)\n",
        "\n",
        "# MinMaxScaler(feature_range=(0, 1)) / StandardScaler()"
      ],
      "metadata": {
        "colab": {
          "base_uri": "https://localhost:8080/"
        },
        "id": "f8go2D9Sfx8Z",
        "outputId": "5b181d0b-8035-4d4e-9d4e-5c765640afb4"
      },
      "execution_count": 12,
      "outputs": [
        {
          "output_type": "stream",
          "name": "stdout",
          "text": [
            "Shape of scaled train X: (4003, 5, 4)\n",
            "Shape of scaled train Y: (4003, 1)\n"
          ]
        }
      ]
    },
    {
      "cell_type": "code",
      "source": [
        "# Preprocessing transforms dataframe into array\n",
        "array_val_scaled_X = scaler_X.transform(valid_X.reshape(-1, valid_X.shape[-1])).reshape(valid_X.shape)\n",
        "array_val_scaled_Y = scaler_Y.transform(valid_Y.reshape(-1, valid_Y.shape[-1])).reshape(valid_Y.shape)\n",
        "print('Shape of scaled test X:', array_val_scaled_X.shape)\n",
        "print('Shape of scaled test Y:', array_val_scaled_Y.shape)"
      ],
      "metadata": {
        "colab": {
          "base_uri": "https://localhost:8080/"
        },
        "id": "sPJmwVZGhk5D",
        "outputId": "054ee20f-60b5-4879-fc1c-b0eadbe89d33"
      },
      "execution_count": 13,
      "outputs": [
        {
          "output_type": "stream",
          "name": "stdout",
          "text": [
            "Shape of scaled test X: (1040, 5, 4)\n",
            "Shape of scaled test Y: (1040, 1)\n"
          ]
        }
      ]
    },
    {
      "cell_type": "markdown",
      "source": [
        "**6. Defining the model**"
      ],
      "metadata": {
        "id": "hkJ6KvGFW1yQ"
      }
    },
    {
      "cell_type": "code",
      "source": [
        "from keras.models import Model\n",
        "from keras.models import load_model\n",
        "from keras.layers import Dense, Input\n",
        "from keras.layers.recurrent import LSTM\n",
        "from tensorflow.keras.layers import BatchNormalization\n",
        "from tensorflow.keras.optimizers import Adam, Nadam\n",
        "from keras.callbacks import ModelCheckpoint"
      ],
      "metadata": {
        "id": "IO7KHECbfyfo"
      },
      "execution_count": 14,
      "outputs": []
    },
    {
      "cell_type": "code",
      "source": [
        "# Defining the shape of the input layer as (None, 5, 4),\n",
        "# where \"None\" indicates the number of instances\n",
        "# five indicates the number of timesteps, and four, the number of features.\n",
        "# data type is float32\n",
        "input_shape = array_train_scaled_X[0,:, :].shape\n",
        "model_input = Input(shape=input_shape, dtype='float32')"
      ],
      "metadata": {
        "id": "OuK_bntTjL2J"
      },
      "execution_count": 15,
      "outputs": []
    },
    {
      "cell_type": "code",
      "source": [
        "# Hyperparameters\n",
        "num_epochs = 20\n",
        "batch_size=16"
      ],
      "metadata": {
        "id": "R6xH6u9WkyVT"
      },
      "execution_count": 16,
      "outputs": []
    },
    {
      "cell_type": "code",
      "source": [
        "# Output Activation funtion - linear \n",
        "def lstm_model_specs(model_input):\n",
        "  lstm_layer = LSTM(100, return_sequences=True)(model_input)\n",
        "  batch_norm = BatchNormalization()(lstm_layer)\n",
        "  lstm_layer2= LSTM(100)(batch_norm)\n",
        "  batch_norm2 = BatchNormalization()(lstm_layer2)\n",
        "  output_layer = Dense(1, activation='linear')(batch_norm2)\n",
        "  model = Model(model_input, output_layer, name='lstm_model')\n",
        "  return model"
      ],
      "metadata": {
        "id": "rnZd4XCfmmOV"
      },
      "execution_count": 17,
      "outputs": []
    },
    {
      "cell_type": "code",
      "source": [
        "lstm_model_1 = lstm_model_specs(model_input)"
      ],
      "metadata": {
        "id": "gpX1apoZJ54T"
      },
      "execution_count": 18,
      "outputs": []
    },
    {
      "cell_type": "code",
      "source": [
        "# NADAM OPTIMIZER, LEARNING RATE 1e-3\n",
        "def compile_and_train(model, num_epochs, batch_size): \n",
        "  model.compile(loss='mse', optimizer=Nadam(1e-3))\n",
        "  model.summary()\n",
        "  save_weights_at = os.path.join('keras_lstm_models', 'Option_Prices_LSTM_weights.{epoch:02d}-{val_loss:.4f}.hdf5')\n",
        "  save_best = ModelCheckpoint(save_weights_at, monitor='val_loss', verbose=0, save_weights_only=False,\n",
        "                                                 save_best_only=True, mode='min', period=1)\n",
        "  history = model.fit(x=array_train_scaled_X, y=array_train_scaled_Y, batch_size=batch_size, \n",
        "                     epochs=num_epochs, verbose=1, callbacks=[save_best], \n",
        "                     validation_data=(array_val_scaled_X, array_val_scaled_Y), shuffle=True)\n",
        "  return history"
      ],
      "metadata": {
        "id": "kdJSfQVdlsKS"
      },
      "execution_count": 19,
      "outputs": []
    },
    {
      "cell_type": "code",
      "source": [
        "lstm_model_history = compile_and_train(lstm_model_1, num_epochs, batch_size)"
      ],
      "metadata": {
        "colab": {
          "base_uri": "https://localhost:8080/"
        },
        "id": "uvIEUQjTmCQY",
        "outputId": "fed95f63-c184-4655-ed7e-97ffbe9ed410"
      },
      "execution_count": 20,
      "outputs": [
        {
          "output_type": "stream",
          "name": "stdout",
          "text": [
            "Model: \"lstm_model\"\n",
            "_________________________________________________________________\n",
            " Layer (type)                Output Shape              Param #   \n",
            "=================================================================\n",
            " input_1 (InputLayer)        [(None, 5, 4)]            0         \n",
            "                                                                 \n",
            " lstm (LSTM)                 (None, 5, 100)            42000     \n",
            "                                                                 \n",
            " batch_normalization (BatchN  (None, 5, 100)           400       \n",
            " ormalization)                                                   \n",
            "                                                                 \n",
            " lstm_1 (LSTM)               (None, 100)               80400     \n",
            "                                                                 \n",
            " batch_normalization_1 (Batc  (None, 100)              400       \n",
            " hNormalization)                                                 \n",
            "                                                                 \n",
            " dense (Dense)               (None, 1)                 101       \n",
            "                                                                 \n",
            "=================================================================\n",
            "Total params: 123,301\n",
            "Trainable params: 122,901\n",
            "Non-trainable params: 400\n",
            "_________________________________________________________________\n",
            "WARNING:tensorflow:`period` argument is deprecated. Please use `save_freq` to specify the frequency in number of batches seen.\n",
            "Epoch 1/20\n",
            "251/251 [==============================] - 19s 46ms/step - loss: 0.1649 - val_loss: 0.3133\n",
            "Epoch 2/20\n",
            "251/251 [==============================] - 10s 41ms/step - loss: 0.0961 - val_loss: 0.0347\n",
            "Epoch 3/20\n",
            "251/251 [==============================] - 10s 40ms/step - loss: 0.1077 - val_loss: 0.1994\n",
            "Epoch 4/20\n",
            "251/251 [==============================] - 10s 38ms/step - loss: 0.0930 - val_loss: 0.0758\n",
            "Epoch 5/20\n",
            "251/251 [==============================] - 8s 31ms/step - loss: 0.0836 - val_loss: 0.0732\n",
            "Epoch 6/20\n",
            "251/251 [==============================] - 7s 27ms/step - loss: 0.0827 - val_loss: 0.0740\n",
            "Epoch 7/20\n",
            "251/251 [==============================] - 10s 38ms/step - loss: 0.0795 - val_loss: 0.1471\n",
            "Epoch 8/20\n",
            "251/251 [==============================] - 9s 34ms/step - loss: 0.0762 - val_loss: 0.0435\n",
            "Epoch 9/20\n",
            "251/251 [==============================] - 9s 35ms/step - loss: 0.0690 - val_loss: 0.0336\n",
            "Epoch 10/20\n",
            "251/251 [==============================] - 9s 37ms/step - loss: 0.0737 - val_loss: 0.0164\n",
            "Epoch 11/20\n",
            "251/251 [==============================] - 8s 30ms/step - loss: 0.0810 - val_loss: 0.2221\n",
            "Epoch 12/20\n",
            "251/251 [==============================] - 9s 37ms/step - loss: 0.0777 - val_loss: 0.3107\n",
            "Epoch 13/20\n",
            "251/251 [==============================] - 13s 51ms/step - loss: 0.0766 - val_loss: 0.0167\n",
            "Epoch 14/20\n",
            "251/251 [==============================] - 11s 44ms/step - loss: 0.0737 - val_loss: 0.1062\n",
            "Epoch 15/20\n",
            "251/251 [==============================] - 10s 40ms/step - loss: 0.0582 - val_loss: 0.0567\n",
            "Epoch 16/20\n",
            "251/251 [==============================] - 9s 38ms/step - loss: 0.0655 - val_loss: 0.0383\n",
            "Epoch 17/20\n",
            "251/251 [==============================] - 8s 30ms/step - loss: 0.0835 - val_loss: 0.0454\n",
            "Epoch 18/20\n",
            "251/251 [==============================] - 9s 37ms/step - loss: 0.0723 - val_loss: 0.0946\n",
            "Epoch 19/20\n",
            "251/251 [==============================] - 10s 41ms/step - loss: 0.0765 - val_loss: 0.0440\n",
            "Epoch 20/20\n",
            "251/251 [==============================] - 8s 34ms/step - loss: 0.0660 - val_loss: 0.0364\n"
          ]
        }
      ]
    },
    {
      "cell_type": "code",
      "source": [
        "# Chosing the best epoch for the calculation of predictions.\n",
        "best_model_lstm = load_model(os.path.join('keras_lstm_models', 'Option_Prices_LSTM_weights.10-0.0164.hdf5'))\n",
        "preds_lstm = best_model_lstm(array_val_scaled_X)\n",
        "\n",
        "# Option_Prices_LSTM_weights.10-0.0164.hdf5, 18/05/2022"
      ],
      "metadata": {
        "id": "nL05qWo4nxLQ"
      },
      "execution_count": 21,
      "outputs": []
    },
    {
      "cell_type": "code",
      "source": [
        "# Reversing the standard scalar transformation\n",
        "preds_lstm_Y = scaler_Y.inverse_transform(preds_lstm)"
      ],
      "metadata": {
        "id": "-8_B7sC4opmI"
      },
      "execution_count": 22,
      "outputs": []
    },
    {
      "cell_type": "code",
      "source": [
        "# Checking the results obtained\n",
        "preds_lstm_df = pd.DataFrame(preds_lstm_Y)\n",
        "preds_lstm_df[0].describe()"
      ],
      "metadata": {
        "colab": {
          "base_uri": "https://localhost:8080/"
        },
        "id": "lO_psuOEowbp",
        "outputId": "dfb3c53c-08f2-4468-f6db-af77813d6aec"
      },
      "execution_count": 23,
      "outputs": [
        {
          "output_type": "execute_result",
          "data": {
            "text/plain": [
              "count    1040.000000\n",
              "mean        1.010019\n",
              "std         0.366104\n",
              "min         0.216065\n",
              "25%         0.807502\n",
              "50%         1.164031\n",
              "75%         1.264593\n",
              "max         1.448650\n",
              "Name: 0, dtype: float64"
            ]
          },
          "metadata": {},
          "execution_count": 23
        }
      ]
    },
    {
      "cell_type": "code",
      "source": [
        "# NADAM OPTIMIZER, LEARNING RATE 1e-4\n",
        "def compile_and_train_2(model, num_epochs, batch_size): \n",
        "  model.compile(loss='mse', optimizer=Nadam(1e-4))\n",
        "  model.summary()\n",
        "  save_weights_at = os.path.join('keras_lstm_models', 'Option_Prices_LSTM_Nadam2_weights.{epoch:02d}-{val_loss:.4f}.hdf5')\n",
        "  save_best = ModelCheckpoint(save_weights_at, monitor='val_loss', verbose=0, save_weights_only=False,\n",
        "                                                 save_best_only=True, mode='min', period=1)\n",
        "  history = model.fit(x=array_train_scaled_X, y=array_train_scaled_Y, batch_size=batch_size, \n",
        "                     epochs=num_epochs, verbose=1, callbacks=[save_best], \n",
        "                     validation_data=(array_val_scaled_X, array_val_scaled_Y), shuffle=True)\n",
        "  return history"
      ],
      "metadata": {
        "id": "ZUe46IOeqy7x"
      },
      "execution_count": 24,
      "outputs": []
    },
    {
      "cell_type": "code",
      "source": [
        "# linear activation function in output layer, Nadam optimizer learning rate 1e-4\n",
        "lstm_model_history_2 = compile_and_train_2(lstm_model_1, num_epochs, batch_size)"
      ],
      "metadata": {
        "colab": {
          "base_uri": "https://localhost:8080/"
        },
        "id": "iSoBLuRjq86_",
        "outputId": "bc9d9ac3-620f-4132-845a-00a869b220fd"
      },
      "execution_count": 26,
      "outputs": [
        {
          "output_type": "stream",
          "name": "stdout",
          "text": [
            "Model: \"lstm_model\"\n",
            "_________________________________________________________________\n",
            " Layer (type)                Output Shape              Param #   \n",
            "=================================================================\n",
            " input_1 (InputLayer)        [(None, 5, 4)]            0         \n",
            "                                                                 \n",
            " lstm (LSTM)                 (None, 5, 100)            42000     \n",
            "                                                                 \n",
            " batch_normalization (BatchN  (None, 5, 100)           400       \n",
            " ormalization)                                                   \n",
            "                                                                 \n",
            " lstm_1 (LSTM)               (None, 100)               80400     \n",
            "                                                                 \n",
            " batch_normalization_1 (Batc  (None, 100)              400       \n",
            " hNormalization)                                                 \n",
            "                                                                 \n",
            " dense (Dense)               (None, 1)                 101       \n",
            "                                                                 \n",
            "=================================================================\n",
            "Total params: 123,301\n",
            "Trainable params: 122,901\n",
            "Non-trainable params: 400\n",
            "_________________________________________________________________\n",
            "WARNING:tensorflow:`period` argument is deprecated. Please use `save_freq` to specify the frequency in number of batches seen.\n",
            "Epoch 1/20\n",
            "251/251 [==============================] - 30s 49ms/step - loss: 0.0648 - val_loss: 0.0893\n",
            "Epoch 2/20\n",
            "251/251 [==============================] - 9s 34ms/step - loss: 0.0637 - val_loss: 0.0501\n",
            "Epoch 3/20\n",
            "251/251 [==============================] - 6s 23ms/step - loss: 0.0618 - val_loss: 0.0646\n",
            "Epoch 4/20\n",
            "251/251 [==============================] - 6s 23ms/step - loss: 0.0670 - val_loss: 0.0352\n",
            "Epoch 5/20\n",
            "251/251 [==============================] - 6s 23ms/step - loss: 0.0759 - val_loss: 0.0426\n",
            "Epoch 6/20\n",
            "251/251 [==============================] - 6s 23ms/step - loss: 0.0642 - val_loss: 0.0562\n",
            "Epoch 7/20\n",
            "251/251 [==============================] - 6s 23ms/step - loss: 0.0656 - val_loss: 0.0561\n",
            "Epoch 8/20\n",
            "251/251 [==============================] - 6s 23ms/step - loss: 0.0662 - val_loss: 0.0663\n",
            "Epoch 9/20\n",
            "251/251 [==============================] - 6s 23ms/step - loss: 0.0691 - val_loss: 0.0609\n",
            "Epoch 10/20\n",
            "251/251 [==============================] - 6s 23ms/step - loss: 0.0746 - val_loss: 0.0588\n",
            "Epoch 11/20\n",
            "251/251 [==============================] - 6s 23ms/step - loss: 0.0681 - val_loss: 0.0534\n",
            "Epoch 12/20\n",
            "251/251 [==============================] - 6s 22ms/step - loss: 0.0537 - val_loss: 0.0869\n",
            "Epoch 13/20\n",
            "251/251 [==============================] - 6s 22ms/step - loss: 0.0615 - val_loss: 0.0648\n",
            "Epoch 14/20\n",
            "251/251 [==============================] - 6s 23ms/step - loss: 0.0731 - val_loss: 0.0485\n",
            "Epoch 15/20\n",
            "251/251 [==============================] - 6s 23ms/step - loss: 0.0686 - val_loss: 0.0460\n",
            "Epoch 16/20\n",
            "251/251 [==============================] - 6s 25ms/step - loss: 0.0651 - val_loss: 0.0595\n",
            "Epoch 17/20\n",
            "251/251 [==============================] - 6s 22ms/step - loss: 0.0594 - val_loss: 0.0549\n",
            "Epoch 18/20\n",
            "251/251 [==============================] - 6s 22ms/step - loss: 0.0687 - val_loss: 0.0454\n",
            "Epoch 19/20\n",
            "251/251 [==============================] - 6s 22ms/step - loss: 0.0658 - val_loss: 0.0480\n",
            "Epoch 20/20\n",
            "251/251 [==============================] - 6s 22ms/step - loss: 0.0616 - val_loss: 0.0369\n"
          ]
        }
      ]
    },
    {
      "cell_type": "code",
      "source": [
        "# Chosing the best epoch for the calculation of predictions.\n",
        "best_model_lstm_2 = load_model(os.path.join('keras_lstm_models', 'Option_Prices_LSTM_Nadam2_weights.04-0.0352.hdf5'))\n",
        "preds_lstm_2 = best_model_lstm_2(array_val_scaled_X)\n",
        "\n",
        "# Option_Prices_LSTM_Nadam2_weights.04-0.0352.hdf5, 18/05/2022"
      ],
      "metadata": {
        "id": "G4Hm_2HNrz5d"
      },
      "execution_count": 27,
      "outputs": []
    },
    {
      "cell_type": "code",
      "source": [
        "# Reversing the standard scalar transformation\n",
        "preds_lstm_Y_2 = scaler_Y.inverse_transform(preds_lstm_2)"
      ],
      "metadata": {
        "id": "tqLrv9-jsXEl"
      },
      "execution_count": 28,
      "outputs": []
    },
    {
      "cell_type": "code",
      "source": [
        "# Checking the results obtained\n",
        "preds_lstm_df_2 = pd.DataFrame(preds_lstm_Y_2)\n",
        "preds_lstm_df_2[0].describe()"
      ],
      "metadata": {
        "colab": {
          "base_uri": "https://localhost:8080/"
        },
        "id": "ZbtMGoJjsPBo",
        "outputId": "307c3cc5-6b99-4f65-b743-d5736bb6b337"
      },
      "execution_count": 29,
      "outputs": [
        {
          "output_type": "execute_result",
          "data": {
            "text/plain": [
              "count    1040.000000\n",
              "mean        1.079354\n",
              "std         0.280198\n",
              "min         0.452352\n",
              "25%         0.933229\n",
              "50%         1.129678\n",
              "75%         1.300289\n",
              "max         1.509676\n",
              "Name: 0, dtype: float64"
            ]
          },
          "metadata": {},
          "execution_count": 29
        }
      ]
    },
    {
      "cell_type": "code",
      "source": [
        "# NADAM OPTIMIZER, LEARNING RATE 1e-5\n",
        "def compile_and_train_3(model, num_epochs, batch_size): \n",
        "  model.compile(loss='mse', optimizer=Nadam(1e-5))\n",
        "  model.summary()\n",
        "  save_weights_at = os.path.join('keras_lstm_models', 'Option_Prices_LSTM_Nadam3_weights.{epoch:02d}-{val_loss:.4f}.hdf5')\n",
        "  save_best = ModelCheckpoint(save_weights_at, monitor='val_loss', verbose=0, save_weights_only=False,\n",
        "                                                 save_best_only=True, mode='min', period=1)\n",
        "  history = model.fit(x=array_train_scaled_X, y=array_train_scaled_Y, batch_size=batch_size, \n",
        "                     epochs=num_epochs, verbose=1, callbacks=[save_best], \n",
        "                     validation_data=(array_val_scaled_X, array_val_scaled_Y), shuffle=True)\n",
        "  return history"
      ],
      "metadata": {
        "id": "rsSkXgBd4_He"
      },
      "execution_count": 30,
      "outputs": []
    },
    {
      "cell_type": "code",
      "source": [
        "# linear activation function in output layer, Nadam optimizer learning rate 1e-5\n",
        "lstm_model_history_3 = compile_and_train_3(lstm_model_1, num_epochs, batch_size)"
      ],
      "metadata": {
        "colab": {
          "base_uri": "https://localhost:8080/"
        },
        "id": "_ua5548h5Sa_",
        "outputId": "3b083523-b9a7-4d1f-9b72-8036b5b6b170"
      },
      "execution_count": 31,
      "outputs": [
        {
          "output_type": "stream",
          "name": "stdout",
          "text": [
            "Model: \"lstm_model\"\n",
            "_________________________________________________________________\n",
            " Layer (type)                Output Shape              Param #   \n",
            "=================================================================\n",
            " input_1 (InputLayer)        [(None, 5, 4)]            0         \n",
            "                                                                 \n",
            " lstm (LSTM)                 (None, 5, 100)            42000     \n",
            "                                                                 \n",
            " batch_normalization (BatchN  (None, 5, 100)           400       \n",
            " ormalization)                                                   \n",
            "                                                                 \n",
            " lstm_1 (LSTM)               (None, 100)               80400     \n",
            "                                                                 \n",
            " batch_normalization_1 (Batc  (None, 100)              400       \n",
            " hNormalization)                                                 \n",
            "                                                                 \n",
            " dense (Dense)               (None, 1)                 101       \n",
            "                                                                 \n",
            "=================================================================\n",
            "Total params: 123,301\n",
            "Trainable params: 122,901\n",
            "Non-trainable params: 400\n",
            "_________________________________________________________________\n",
            "WARNING:tensorflow:`period` argument is deprecated. Please use `save_freq` to specify the frequency in number of batches seen.\n",
            "Epoch 1/20\n",
            "251/251 [==============================] - 12s 24ms/step - loss: 0.0693 - val_loss: 0.0449\n",
            "Epoch 2/20\n",
            "251/251 [==============================] - 6s 22ms/step - loss: 0.0685 - val_loss: 0.0438\n",
            "Epoch 3/20\n",
            "251/251 [==============================] - 6s 22ms/step - loss: 0.0644 - val_loss: 0.0506\n",
            "Epoch 4/20\n",
            "251/251 [==============================] - 6s 22ms/step - loss: 0.0597 - val_loss: 0.0486\n",
            "Epoch 5/20\n",
            "251/251 [==============================] - 6s 22ms/step - loss: 0.0669 - val_loss: 0.0460\n",
            "Epoch 6/20\n",
            "251/251 [==============================] - 6s 22ms/step - loss: 0.0626 - val_loss: 0.0476\n",
            "Epoch 7/20\n",
            "251/251 [==============================] - 5s 22ms/step - loss: 0.0639 - val_loss: 0.0481\n",
            "Epoch 8/20\n",
            "251/251 [==============================] - 6s 22ms/step - loss: 0.0638 - val_loss: 0.0430\n",
            "Epoch 9/20\n",
            "251/251 [==============================] - 6s 22ms/step - loss: 0.0701 - val_loss: 0.0451\n",
            "Epoch 10/20\n",
            "251/251 [==============================] - 6s 22ms/step - loss: 0.0623 - val_loss: 0.0622\n",
            "Epoch 11/20\n",
            "251/251 [==============================] - 5s 22ms/step - loss: 0.0658 - val_loss: 0.0501\n",
            "Epoch 12/20\n",
            "251/251 [==============================] - 5s 22ms/step - loss: 0.0645 - val_loss: 0.0431\n",
            "Epoch 13/20\n",
            "251/251 [==============================] - 5s 22ms/step - loss: 0.0640 - val_loss: 0.0544\n",
            "Epoch 14/20\n",
            "251/251 [==============================] - 6s 22ms/step - loss: 0.0605 - val_loss: 0.0423\n",
            "Epoch 15/20\n",
            "251/251 [==============================] - 5s 22ms/step - loss: 0.0795 - val_loss: 0.0466\n",
            "Epoch 16/20\n",
            "251/251 [==============================] - 6s 22ms/step - loss: 0.0664 - val_loss: 0.0474\n",
            "Epoch 17/20\n",
            "251/251 [==============================] - 5s 22ms/step - loss: 0.0705 - val_loss: 0.0415\n",
            "Epoch 18/20\n",
            "251/251 [==============================] - 5s 22ms/step - loss: 0.0606 - val_loss: 0.0437\n",
            "Epoch 19/20\n",
            "251/251 [==============================] - 5s 22ms/step - loss: 0.0698 - val_loss: 0.0442\n",
            "Epoch 20/20\n",
            "251/251 [==============================] - 5s 22ms/step - loss: 0.0647 - val_loss: 0.0489\n"
          ]
        }
      ]
    },
    {
      "cell_type": "code",
      "source": [
        "# Chosing the best epoch for the calculation of predictions.\n",
        "best_model_lstm_3 = load_model(os.path.join('keras_lstm_models', 'Option_Prices_LSTM_Nadam3_weights.17-0.0415.hdf5'))\n",
        "preds_lstm_3= best_model_lstm_3(array_val_scaled_X)\n",
        "\n",
        "# Option_Prices_LSTM_Nadam3_weights.17-0.0415.hdf5, 18/05/2022"
      ],
      "metadata": {
        "id": "aILzO2Px5ME4"
      },
      "execution_count": 32,
      "outputs": []
    },
    {
      "cell_type": "code",
      "source": [
        "# Reversing the standard scalar transformation\n",
        "preds_lstm_Y_3 = scaler_Y.inverse_transform(preds_lstm_3)"
      ],
      "metadata": {
        "id": "OnATNidF5Uxs"
      },
      "execution_count": 33,
      "outputs": []
    },
    {
      "cell_type": "code",
      "source": [
        "# Checking the results obtained\n",
        "preds_lstm_df_3 = pd.DataFrame(preds_lstm_Y_3)\n",
        "preds_lstm_df_3[0].describe()"
      ],
      "metadata": {
        "colab": {
          "base_uri": "https://localhost:8080/"
        },
        "id": "ITQ1zn3E5VgV",
        "outputId": "fc6ad00d-92cb-4807-c042-b8a852052364"
      },
      "execution_count": 34,
      "outputs": [
        {
          "output_type": "execute_result",
          "data": {
            "text/plain": [
              "count    1040.000000\n",
              "mean        1.150005\n",
              "std         0.305631\n",
              "min         0.414039\n",
              "25%         1.031308\n",
              "50%         1.252062\n",
              "75%         1.369080\n",
              "max         1.534204\n",
              "Name: 0, dtype: float64"
            ]
          },
          "metadata": {},
          "execution_count": 34
        }
      ]
    },
    {
      "cell_type": "code",
      "source": [
        "# NADAM OPTIMIZER, LEARNING RATE 1e-6\n",
        "def compile_and_train_4(model, num_epochs, batch_size): \n",
        "  model.compile(loss='mse', optimizer=Nadam(1e-6))\n",
        "  model.summary()\n",
        "  save_weights_at = os.path.join('keras_lstm_models', 'Option_Prices_LSTM_Nadam4_weights.{epoch:02d}-{val_loss:.4f}.hdf5')\n",
        "  save_best = ModelCheckpoint(save_weights_at, monitor='val_loss', verbose=0, save_weights_only=False,\n",
        "                                                 save_best_only=True, mode='min', period=1)\n",
        "  history = model.fit(x=array_train_scaled_X, y=array_train_scaled_Y, batch_size=batch_size, \n",
        "                     epochs=num_epochs, verbose=1, callbacks=[save_best], \n",
        "                     validation_data=(array_val_scaled_X, array_val_scaled_Y), shuffle=True)\n",
        "  return history"
      ],
      "metadata": {
        "id": "vwz3aote5Iyb"
      },
      "execution_count": 35,
      "outputs": []
    },
    {
      "cell_type": "code",
      "source": [
        "# linear activation function in output layer, Nadam optimizer learning rate 1e-6\n",
        "lstm_model_history_4 = compile_and_train_4(lstm_model_1, num_epochs, batch_size)"
      ],
      "metadata": {
        "colab": {
          "base_uri": "https://localhost:8080/"
        },
        "id": "PMcsFnFH5yM4",
        "outputId": "68be27dd-3de5-4398-fc78-4cec685e2b75"
      },
      "execution_count": 36,
      "outputs": [
        {
          "output_type": "stream",
          "name": "stdout",
          "text": [
            "Model: \"lstm_model\"\n",
            "_________________________________________________________________\n",
            " Layer (type)                Output Shape              Param #   \n",
            "=================================================================\n",
            " input_1 (InputLayer)        [(None, 5, 4)]            0         \n",
            "                                                                 \n",
            " lstm (LSTM)                 (None, 5, 100)            42000     \n",
            "                                                                 \n",
            " batch_normalization (BatchN  (None, 5, 100)           400       \n",
            " ormalization)                                                   \n",
            "                                                                 \n",
            " lstm_1 (LSTM)               (None, 100)               80400     \n",
            "                                                                 \n",
            " batch_normalization_1 (Batc  (None, 100)              400       \n",
            " hNormalization)                                                 \n",
            "                                                                 \n",
            " dense (Dense)               (None, 1)                 101       \n",
            "                                                                 \n",
            "=================================================================\n",
            "Total params: 123,301\n",
            "Trainable params: 122,901\n",
            "Non-trainable params: 400\n",
            "_________________________________________________________________\n",
            "WARNING:tensorflow:`period` argument is deprecated. Please use `save_freq` to specify the frequency in number of batches seen.\n",
            "Epoch 1/20\n",
            "251/251 [==============================] - 12s 24ms/step - loss: 0.0577 - val_loss: 0.0462\n",
            "Epoch 2/20\n",
            "251/251 [==============================] - 6s 22ms/step - loss: 0.0707 - val_loss: 0.0446\n",
            "Epoch 3/20\n",
            "251/251 [==============================] - 5s 21ms/step - loss: 0.0675 - val_loss: 0.0467\n",
            "Epoch 4/20\n",
            "251/251 [==============================] - 5s 22ms/step - loss: 0.0655 - val_loss: 0.0460\n",
            "Epoch 5/20\n",
            "251/251 [==============================] - 6s 22ms/step - loss: 0.0678 - val_loss: 0.0493\n",
            "Epoch 6/20\n",
            "251/251 [==============================] - 5s 22ms/step - loss: 0.0883 - val_loss: 0.0482\n",
            "Epoch 7/20\n",
            "251/251 [==============================] - 6s 22ms/step - loss: 0.0705 - val_loss: 0.0442\n",
            "Epoch 8/20\n",
            "251/251 [==============================] - 5s 22ms/step - loss: 0.0678 - val_loss: 0.0438\n",
            "Epoch 9/20\n",
            "251/251 [==============================] - 5s 22ms/step - loss: 0.0692 - val_loss: 0.0471\n",
            "Epoch 10/20\n",
            "251/251 [==============================] - 5s 22ms/step - loss: 0.0645 - val_loss: 0.0518\n",
            "Epoch 11/20\n",
            "251/251 [==============================] - 6s 22ms/step - loss: 0.0678 - val_loss: 0.0445\n",
            "Epoch 12/20\n",
            "251/251 [==============================] - 5s 22ms/step - loss: 0.0614 - val_loss: 0.0510\n",
            "Epoch 13/20\n",
            "251/251 [==============================] - 6s 22ms/step - loss: 0.0686 - val_loss: 0.0523\n",
            "Epoch 14/20\n",
            "251/251 [==============================] - 6s 22ms/step - loss: 0.0637 - val_loss: 0.0500\n",
            "Epoch 15/20\n",
            "251/251 [==============================] - 6s 22ms/step - loss: 0.0573 - val_loss: 0.0503\n",
            "Epoch 16/20\n",
            "251/251 [==============================] - 6s 22ms/step - loss: 0.0616 - val_loss: 0.0547\n",
            "Epoch 17/20\n",
            "251/251 [==============================] - 5s 22ms/step - loss: 0.0758 - val_loss: 0.0528\n",
            "Epoch 18/20\n",
            "251/251 [==============================] - 5s 22ms/step - loss: 0.0621 - val_loss: 0.0468\n",
            "Epoch 19/20\n",
            "251/251 [==============================] - 6s 22ms/step - loss: 0.0614 - val_loss: 0.0460\n",
            "Epoch 20/20\n",
            "251/251 [==============================] - 6s 22ms/step - loss: 0.0660 - val_loss: 0.0470\n"
          ]
        }
      ]
    },
    {
      "cell_type": "code",
      "source": [
        "# Chosing the best epoch for the calculation of predictions.\n",
        "best_model_lstm_4 = load_model(os.path.join('keras_lstm_models', 'Option_Prices_LSTM_Nadam4_weights.08-0.0438.hdf5'))\n",
        "preds_lstm_4= best_model_lstm_4(array_val_scaled_X)\n",
        "\n",
        "# Option_Prices_LSTM_Nadam4_weights.08-0.0438.hdf5, 18/05/2022"
      ],
      "metadata": {
        "id": "0oq73ioW52Fv"
      },
      "execution_count": 38,
      "outputs": []
    },
    {
      "cell_type": "code",
      "source": [
        "# Reversing the standard scalar transformation\n",
        "preds_lstm_Y_4 = scaler_Y.inverse_transform(preds_lstm_4)"
      ],
      "metadata": {
        "id": "Ut2dXYkDFLTd"
      },
      "execution_count": 39,
      "outputs": []
    },
    {
      "cell_type": "code",
      "source": [
        "# Checking the results obtained\n",
        "preds_lstm_df_4 = pd.DataFrame(preds_lstm_Y_4)"
      ],
      "metadata": {
        "id": "mCJXNXje516m"
      },
      "execution_count": 40,
      "outputs": []
    },
    {
      "cell_type": "code",
      "source": [
        "preds_lstm_df_4[0].describe()"
      ],
      "metadata": {
        "colab": {
          "base_uri": "https://localhost:8080/"
        },
        "id": "hQ4vpM5s9_XA",
        "outputId": "15541f82-8684-4651-dcee-21dbc16a8f71"
      },
      "execution_count": 41,
      "outputs": [
        {
          "output_type": "execute_result",
          "data": {
            "text/plain": [
              "count    1040.000000\n",
              "mean        1.162838\n",
              "std         0.299117\n",
              "min         0.430633\n",
              "25%         1.062166\n",
              "50%         1.263065\n",
              "75%         1.368461\n",
              "max         1.519715\n",
              "Name: 0, dtype: float64"
            ]
          },
          "metadata": {},
          "execution_count": 41
        }
      ]
    },
    {
      "cell_type": "markdown",
      "source": [
        "**7. Results**"
      ],
      "metadata": {
        "id": "hwZIVdpffklX"
      }
    },
    {
      "cell_type": "code",
      "source": [
        "# Plotting actual vs predicted values\n",
        "plt.figure(figsize=(10.5, 5.5))\n",
        "plt.plot(df_val['option_price'], linestyle='-', marker='.', linewidth=1, color='orangered')\n",
        "plt.plot(preds_lstm_df, linestyle='-', marker='.', linewidth=1, color='royalblue')\n",
        "plt.legend(['Actual','Predicted'], loc=2)\n",
        "plt.title('Actual vs Predicted Option prices - LSTM (Nadam - Learning Rate 1e-3)')\n",
        "plt.ylabel('Option prices')\n",
        "plt.xlabel('Time series steps')\n",
        "plot_path = 'sample_data'\n",
        "plot_file = 'lstm_lr1e-3.png'\n",
        "plt.savefig(os.path.join(plot_path, plot_file), format='png', dpi=300)"
      ],
      "metadata": {
        "colab": {
          "base_uri": "https://localhost:8080/",
          "height": 377
        },
        "id": "CJld4MIlfkAR",
        "outputId": "bb9734ba-4a80-435a-b189-4e362bd39697"
      },
      "execution_count": 42,
      "outputs": [
        {
          "output_type": "display_data",
          "data": {
            "text/plain": [
              "<Figure size 756x396 with 1 Axes>"
            ],
            "image/png": "[encoded data removed]"
          },
          "metadata": {
            "needs_background": "light"
          }
        }
      ]
    },
    {
      "cell_type": "code",
      "source": [
        "# Plotting actual vs predicted values\n",
        "plt.figure(figsize=(10.5, 5.5))\n",
        "plt.plot(df_val['option_price'], linestyle='-', marker='.', linewidth=1, color='orangered')\n",
        "plt.plot(preds_lstm_df_2, linestyle='-', marker='.', linewidth=1, color='royalblue')\n",
        "plt.legend(['Actual','Predicted'], loc=2)\n",
        "plt.title('Actual vs Predicted Option prices - LSTM (Nadam - Learning Rate 1e-4)')\n",
        "plt.ylabel('Option prices')\n",
        "plt.xlabel('Time series steps')\n",
        "plot_path = 'sample_data'\n",
        "plot_file = 'lstm_lr1e-4.png'\n",
        "plt.savefig(os.path.join(plot_path, plot_file), format='png', dpi=300)"
      ],
      "metadata": {
        "colab": {
          "base_uri": "https://localhost:8080/",
          "height": 377
        },
        "id": "0LAorrA-4O5p",
        "outputId": "ab9811e0-f25a-4956-8fe2-a708b44e34b8"
      },
      "execution_count": 43,
      "outputs": [
        {
          "output_type": "display_data",
          "data": {
            "text/plain": [
              "<Figure size 756x396 with 1 Axes>"
            ],
            "image/png": "[encoded data removed]"
          },
          "metadata": {
            "needs_background": "light"
          }
        }
      ]
    },
    {
      "cell_type": "code",
      "source": [
        "# Plotting actual vs predicted values\n",
        "plt.figure(figsize=(10.5, 5.5))\n",
        "plt.plot(df_val['option_price'], linestyle='-', marker='.', linewidth=1, color='orangered')\n",
        "plt.plot(preds_lstm_df_3, linestyle='-', marker='.', linewidth=1, color='royalblue')\n",
        "plt.legend(['Actual','Predicted'], loc=2)\n",
        "plt.title('Actual vs Predicted Option prices - LSTM (Nadam - Learning Rate 1e-5)')\n",
        "plt.ylabel('Option prices')\n",
        "plt.xlabel('Time series steps')\n",
        "plot_path = 'sample_data'\n",
        "plot_file = 'lstm_lr1e-5.png'\n",
        "plt.savefig(os.path.join(plot_path, plot_file), format='png', dpi=300)"
      ],
      "metadata": {
        "colab": {
          "base_uri": "https://localhost:8080/",
          "height": 377
        },
        "id": "hhSQQ5mt4rrc",
        "outputId": "68977cc8-a158-4075-bf17-f3a6b8c879b2"
      },
      "execution_count": 44,
      "outputs": [
        {
          "output_type": "display_data",
          "data": {
            "text/plain": [
              "<Figure size 756x396 with 1 Axes>"
            ],
            "image/png": "[encoded data removed]"
          },
          "metadata": {
            "needs_background": "light"
          }
        }
      ]
    },
    {
      "cell_type": "code",
      "source": [
        "# Plotting actual vs predicted values\n",
        "plt.figure(figsize=(10.5, 5.5))\n",
        "plt.plot(df_val['option_price'], linestyle='-', marker='.', linewidth=1, color='orangered')\n",
        "plt.plot(preds_lstm_df_4, linestyle='-', marker='.', linewidth=1, color='royalblue')\n",
        "plt.legend(['Actual','Predicted'], loc=2)\n",
        "plt.title('Actual vs Predicted Option prices - LSTM (Nadam - Learning Rate 1e-6)')\n",
        "plt.ylabel('Option prices')\n",
        "plt.xlabel('Time series steps')\n",
        "plot_path = 'sample_data'\n",
        "plot_file = 'lstm_lr1e-6.png'\n",
        "plt.savefig(os.path.join(plot_path, plot_file), format='png', dpi=300)"
      ],
      "metadata": {
        "colab": {
          "base_uri": "https://localhost:8080/",
          "height": 377
        },
        "id": "cBnxLenC-Rm8",
        "outputId": "1dda20dc-4fe5-4b8c-bea8-7bf794454a15"
      },
      "execution_count": 45,
      "outputs": [
        {
          "output_type": "display_data",
          "data": {
            "text/plain": [
              "<Figure size 756x396 with 1 Axes>"
            ],
            "image/png": "[encoded data removed]"
          },
          "metadata": {
            "needs_background": "light"
          }
        }
      ]
    },
    {
      "cell_type": "code",
      "source": [
        "from sklearn.metrics import mean_absolute_error, mean_squared_error, mean_absolute_percentage_error, r2_score\n",
        "from math import sqrt"
      ],
      "metadata": {
        "id": "q9ZSHiRcpL5E"
      },
      "execution_count": 46,
      "outputs": []
    },
    {
      "cell_type": "code",
      "execution_count": 47,
      "metadata": {
        "colab": {
          "base_uri": "https://localhost:8080/"
        },
        "id": "WkoodYFKWN-z",
        "outputId": "1f68ac29-a296-42c0-bf17-9ef9eb48cd20"
      },
      "outputs": [
        {
          "output_type": "execute_result",
          "data": {
            "text/plain": [
              "(1040, 1)"
            ]
          },
          "metadata": {},
          "execution_count": 47
        }
      ],
      "source": [
        "# Creating a dataframe for validation data.\n",
        "# Drop the 5 first entries to be able to calculate performance metrics:\n",
        "actual_option_df = df_val[['option_price']].copy()\n",
        "actual_option_df = actual_option_df.iloc[5:]\n",
        "actual_option_df.shape\n",
        "# Found input variables with inconsistent numbers of samples: [1045, 1040]"
      ]
    },
    {
      "cell_type": "code",
      "source": [
        "# Nadam - Learning Rate 1e-3\n",
        "def compute_metrics():\n",
        "  rmse = sqrt(mean_squared_error(actual_option_df, preds_lstm_df))\n",
        "  mae = mean_absolute_error(actual_option_df, preds_lstm_df)\n",
        "  mape = mean_absolute_percentage_error(actual_option_df, preds_lstm_df)\n",
        "  r_squared = r2_score(actual_option_df, preds_lstm_df)\n",
        "  return rmse, mae, mape, r_squared"
      ],
      "metadata": {
        "id": "YWLv7fZIpicj"
      },
      "execution_count": 48,
      "outputs": []
    },
    {
      "cell_type": "code",
      "source": [
        "rmse, mae, mape, r_squared = compute_metrics()\n",
        "\n",
        "print('RMSE for the validation set:', round(rmse, 4))\n",
        "print('MAE for the validation set:', round(mae, 4))\n",
        "print('MAPE for the validation set:', round(mape, 4))\n",
        "print('R Squared for the validation set:', round(r_squared, 4))"
      ],
      "metadata": {
        "colab": {
          "base_uri": "https://localhost:8080/"
        },
        "id": "fLQKfM7xptPx",
        "outputId": "fb1a0408-f36d-4c2b-9efe-c2a8b6474340"
      },
      "execution_count": 49,
      "outputs": [
        {
          "output_type": "stream",
          "name": "stdout",
          "text": [
            "RMSE for the validation set: 0.2412\n",
            "MAE for the validation set: 0.2122\n",
            "MAPE for the validation set: 0.2667\n",
            "R Squared for the validation set: 0.1158\n"
          ]
        }
      ]
    },
    {
      "cell_type": "code",
      "source": [
        "# Nadam - Learning Rate 1e-4\n",
        "def compute_metrics_2():\n",
        "  rmse = sqrt(mean_squared_error(actual_option_df, preds_lstm_df_2))\n",
        "  mae = mean_absolute_error(actual_option_df, preds_lstm_df_2)\n",
        "  mape = mean_absolute_percentage_error(actual_option_df, preds_lstm_df_2)\n",
        "  r_squared = r2_score(actual_option_df, preds_lstm_df_2)\n",
        "  return rmse, mae, mape, r_squared"
      ],
      "metadata": {
        "id": "G9HwWhv24b4n"
      },
      "execution_count": 50,
      "outputs": []
    },
    {
      "cell_type": "code",
      "source": [
        "rmse, mae, mape, r_squared = compute_metrics_2()\n",
        "\n",
        "print('RMSE for the validation set:', round(rmse, 4))\n",
        "print('MAE for the validation set:', round(mae, 4))\n",
        "print('MAPE for the validation set:', round(mape, 4))\n",
        "print('R Squared for the validation set:', round(r_squared, 4))"
      ],
      "metadata": {
        "colab": {
          "base_uri": "https://localhost:8080/"
        },
        "id": "U6en5AMb4n6b",
        "outputId": "372d23d5-d2c5-4601-f33e-fb66d677170a"
      },
      "execution_count": 51,
      "outputs": [
        {
          "output_type": "stream",
          "name": "stdout",
          "text": [
            "RMSE for the validation set: 0.3529\n",
            "MAE for the validation set: 0.2884\n",
            "MAPE for the validation set: 0.3451\n",
            "R Squared for the validation set: -0.8932\n"
          ]
        }
      ]
    },
    {
      "cell_type": "code",
      "source": [
        "# Nadam - Learning Rate 1e-5\n",
        "def compute_metrics_3():\n",
        "  rmse = sqrt(mean_squared_error(actual_option_df, preds_lstm_df_3))\n",
        "  mae = mean_absolute_error(actual_option_df, preds_lstm_df_3)\n",
        "  mape = mean_absolute_percentage_error(actual_option_df, preds_lstm_df_3)\n",
        "  r_squared = r2_score(actual_option_df, preds_lstm_df_3)\n",
        "  return rmse, mae, mape, r_squared"
      ],
      "metadata": {
        "id": "AUQbQvar6QM-"
      },
      "execution_count": 53,
      "outputs": []
    },
    {
      "cell_type": "code",
      "source": [
        "rmse, mae, mape, r_squared = compute_metrics_3()\n",
        "\n",
        "print('RMSE for the validation set:', round(rmse, 4))\n",
        "print('MAE for the validation set:', round(mae, 4))\n",
        "print('MAPE for the validation set:', round(mape, 4))\n",
        "print('R Squared for the validation set:', round(r_squared, 4))"
      ],
      "metadata": {
        "colab": {
          "base_uri": "https://localhost:8080/"
        },
        "id": "Rw_a-Ag66TQp",
        "outputId": "935d0e64-eb21-4303-8208-f96792b6e56d"
      },
      "execution_count": 54,
      "outputs": [
        {
          "output_type": "stream",
          "name": "stdout",
          "text": [
            "RMSE for the validation set: 0.3834\n",
            "MAE for the validation set: 0.3127\n",
            "MAPE for the validation set: 0.3755\n",
            "R Squared for the validation set: -1.2346\n"
          ]
        }
      ]
    },
    {
      "cell_type": "code",
      "source": [
        "# Nadam - Learning Rate 1e-6\n",
        "def compute_metrics_4():\n",
        "  rmse = sqrt(mean_squared_error(actual_option_df, preds_lstm_df_4))\n",
        "  mae = mean_absolute_error(actual_option_df, preds_lstm_df_4)\n",
        "  mape = mean_absolute_percentage_error(actual_option_df, preds_lstm_df_4)\n",
        "  r_squared = r2_score(actual_option_df, preds_lstm_df_4)\n",
        "  return rmse, mae, mape, r_squared"
      ],
      "metadata": {
        "id": "hg_LuzjE6UHV"
      },
      "execution_count": 55,
      "outputs": []
    },
    {
      "cell_type": "code",
      "source": [
        "rmse, mae, mape, r_squared = compute_metrics_4()\n",
        "\n",
        "print('RMSE for the validation set:', round(rmse, 4))\n",
        "print('MAE for the validation set:', round(mae, 4))\n",
        "print('MAPE for the validation set:', round(mape, 4))\n",
        "print('R Squared for the validation set:', round(r_squared, 4))"
      ],
      "metadata": {
        "colab": {
          "base_uri": "https://localhost:8080/"
        },
        "id": "irAcMvVn846v",
        "outputId": "c50beb38-bef4-4b0c-c6b8-a8f0ad301dc7"
      },
      "execution_count": 56,
      "outputs": [
        {
          "output_type": "stream",
          "name": "stdout",
          "text": [
            "RMSE for the validation set: 0.3937\n",
            "MAE for the validation set: 0.3213\n",
            "MAPE for the validation set: 0.3894\n",
            "R Squared for the validation set: -1.3567\n"
          ]
        }
      ]
    }
  ]
}