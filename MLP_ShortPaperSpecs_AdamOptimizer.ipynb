{
  "nbformat": 4,
  "nbformat_minor": 0,
  "metadata": {
    "colab": {
      "name": "MLP_ShortPaperSpecs_AdamOptimizer.ipynb",
      "provenance": [],
      "collapsed_sections": [],
      "authorship_tag": "ABX9TyP2cIcGxA9h4cIRsJ2teA7z",
      "include_colab_link": true
    },
    "kernelspec": {
      "name": "python3",
      "display_name": "Python 3"
    },
    "language_info": {
      "name": "python"
    }
  },
  "cells": [
    {
      "cell_type": "markdown",
      "metadata": {
        "id": "view-in-github",
        "colab_type": "text"
      },
      "source": [
        "<a href=\"https://colab.research.google.com/github/MeriSP/Option_Pricing_F_Sub/blob/main/MLP_ShortPaperSpecs_AdamOptimizer.ipynb\" target=\"_parent\"><img src=\"https://colab.research.google.com/assets/colab-badge.svg\" alt=\"Open In Colab\"/></a>"
      ]
    },
    {
      "cell_type": "markdown",
      "source": [
        "**1. Importing the necessay libraries**"
      ],
      "metadata": {
        "id": "R0XfHqDne0UB"
      }
    },
    {
      "cell_type": "code",
      "execution_count": 1,
      "metadata": {
        "id": "mq9cXK6teXNf"
      },
      "outputs": [],
      "source": [
        "import os\n",
        "import sys\n",
        "import pandas as pd\n",
        "import numpy as np\n",
        "%matplotlib inline\n",
        "from matplotlib import pyplot as plt\n",
        "import seaborn as sns\n",
        "import datetime"
      ]
    },
    {
      "cell_type": "markdown",
      "source": [
        "**2. Uploading the dataset**"
      ],
      "metadata": {
        "id": "gfQSKYcChMY5"
      }
    },
    {
      "cell_type": "code",
      "source": [
        "# Step 1. Upload file \"AlgoSeek_SPy500Jun172022.csv\" to Google Colab Document\n",
        "df = pd.read_csv('/content/sample_data/AlgoSeek_SPy500Jun172022.csv')\n",
        "df.head(5)"
      ],
      "metadata": {
        "colab": {
          "base_uri": "https://localhost:8080/",
          "height": 270
        },
        "id": "yxsfsg27fBwF",
        "outputId": "7557c1b9-068c-48ca-e705-5c2d566b933b"
      },
      "execution_count": 2,
      "outputs": [
        {
          "output_type": "execute_result",
          "data": {
            "text/plain": [
              "   No      date TimeBarStart  year  month  day  hour  minute ticker call  \\\n",
              "0   1  20220103  10:01:00 AM  2022      1    3    10       1    SPY    C   \n",
              "1   2  20220103  10:05:00 AM  2022      1    3    10       5    SPY    C   \n",
              "2   3  20220103  10:37:00 AM  2022      1    3    10      37    SPY    C   \n",
              "3   4  20220103  11:11:00 AM  2022      1    3    11      11    SPY    C   \n",
              "4   5  20220103  11:18:00 AM  2022      1    3    11      18    SPY    C   \n",
              "\n",
              "   strike expiration_date  option_price  underlying_price  moneyness  \\\n",
              "0     500       6/17/2022          9.33           475.535    0.95107   \n",
              "1     500       6/17/2022          9.16           475.195    0.95039   \n",
              "2     500       6/17/2022          9.37           475.995    0.95199   \n",
              "3     500       6/17/2022          9.20           475.565    0.95113   \n",
              "4     500       6/17/2022          9.07           475.240    0.95048   \n",
              "\n",
              "   days_to_ex  std_underlying  treasury_rate  \n",
              "0         118        0.001322           0.22  \n",
              "1         118        0.001181           0.22  \n",
              "2         118        0.001080           0.22  \n",
              "3         118        0.001175           0.22  \n",
              "4         118        0.001065           0.22  "
            ],
            "text/html": [
              "\n",
              "  <div id=\"df-24445014-d58d-4f2f-a309-35cfc77cc81b\">\n",
              "    <div class=\"colab-df-container\">\n",
              "      <div>\n",
              "<style scoped>\n",
              "    .dataframe tbody tr th:only-of-type {\n",
              "        vertical-align: middle;\n",
              "    }\n",
              "\n",
              "    .dataframe tbody tr th {\n",
              "        vertical-align: top;\n",
              "    }\n",
              "\n",
              "    .dataframe thead th {\n",
              "        text-align: right;\n",
              "    }\n",
              "</style>\n",
              "<table border=\"1\" class=\"dataframe\">\n",
              "  <thead>\n",
              "    <tr style=\"text-align: right;\">\n",
              "      <th></th>\n",
              "      <th>No</th>\n",
              "      <th>date</th>\n",
              "      <th>TimeBarStart</th>\n",
              "      <th>year</th>\n",
              "      <th>month</th>\n",
              "      <th>day</th>\n",
              "      <th>hour</th>\n",
              "      <th>minute</th>\n",
              "      <th>ticker</th>\n",
              "      <th>call</th>\n",
              "      <th>strike</th>\n",
              "      <th>expiration_date</th>\n",
              "      <th>option_price</th>\n",
              "      <th>underlying_price</th>\n",
              "      <th>moneyness</th>\n",
              "      <th>days_to_ex</th>\n",
              "      <th>std_underlying</th>\n",
              "      <th>treasury_rate</th>\n",
              "    </tr>\n",
              "  </thead>\n",
              "  <tbody>\n",
              "    <tr>\n",
              "      <th>0</th>\n",
              "      <td>1</td>\n",
              "      <td>20220103</td>\n",
              "      <td>10:01:00 AM</td>\n",
              "      <td>2022</td>\n",
              "      <td>1</td>\n",
              "      <td>3</td>\n",
              "      <td>10</td>\n",
              "      <td>1</td>\n",
              "      <td>SPY</td>\n",
              "      <td>C</td>\n",
              "      <td>500</td>\n",
              "      <td>6/17/2022</td>\n",
              "      <td>9.33</td>\n",
              "      <td>475.535</td>\n",
              "      <td>0.95107</td>\n",
              "      <td>118</td>\n",
              "      <td>0.001322</td>\n",
              "      <td>0.22</td>\n",
              "    </tr>\n",
              "    <tr>\n",
              "      <th>1</th>\n",
              "      <td>2</td>\n",
              "      <td>20220103</td>\n",
              "      <td>10:05:00 AM</td>\n",
              "      <td>2022</td>\n",
              "      <td>1</td>\n",
              "      <td>3</td>\n",
              "      <td>10</td>\n",
              "      <td>5</td>\n",
              "      <td>SPY</td>\n",
              "      <td>C</td>\n",
              "      <td>500</td>\n",
              "      <td>6/17/2022</td>\n",
              "      <td>9.16</td>\n",
              "      <td>475.195</td>\n",
              "      <td>0.95039</td>\n",
              "      <td>118</td>\n",
              "      <td>0.001181</td>\n",
              "      <td>0.22</td>\n",
              "    </tr>\n",
              "    <tr>\n",
              "      <th>2</th>\n",
              "      <td>3</td>\n",
              "      <td>20220103</td>\n",
              "      <td>10:37:00 AM</td>\n",
              "      <td>2022</td>\n",
              "      <td>1</td>\n",
              "      <td>3</td>\n",
              "      <td>10</td>\n",
              "      <td>37</td>\n",
              "      <td>SPY</td>\n",
              "      <td>C</td>\n",
              "      <td>500</td>\n",
              "      <td>6/17/2022</td>\n",
              "      <td>9.37</td>\n",
              "      <td>475.995</td>\n",
              "      <td>0.95199</td>\n",
              "      <td>118</td>\n",
              "      <td>0.001080</td>\n",
              "      <td>0.22</td>\n",
              "    </tr>\n",
              "    <tr>\n",
              "      <th>3</th>\n",
              "      <td>4</td>\n",
              "      <td>20220103</td>\n",
              "      <td>11:11:00 AM</td>\n",
              "      <td>2022</td>\n",
              "      <td>1</td>\n",
              "      <td>3</td>\n",
              "      <td>11</td>\n",
              "      <td>11</td>\n",
              "      <td>SPY</td>\n",
              "      <td>C</td>\n",
              "      <td>500</td>\n",
              "      <td>6/17/2022</td>\n",
              "      <td>9.20</td>\n",
              "      <td>475.565</td>\n",
              "      <td>0.95113</td>\n",
              "      <td>118</td>\n",
              "      <td>0.001175</td>\n",
              "      <td>0.22</td>\n",
              "    </tr>\n",
              "    <tr>\n",
              "      <th>4</th>\n",
              "      <td>5</td>\n",
              "      <td>20220103</td>\n",
              "      <td>11:18:00 AM</td>\n",
              "      <td>2022</td>\n",
              "      <td>1</td>\n",
              "      <td>3</td>\n",
              "      <td>11</td>\n",
              "      <td>18</td>\n",
              "      <td>SPY</td>\n",
              "      <td>C</td>\n",
              "      <td>500</td>\n",
              "      <td>6/17/2022</td>\n",
              "      <td>9.07</td>\n",
              "      <td>475.240</td>\n",
              "      <td>0.95048</td>\n",
              "      <td>118</td>\n",
              "      <td>0.001065</td>\n",
              "      <td>0.22</td>\n",
              "    </tr>\n",
              "  </tbody>\n",
              "</table>\n",
              "</div>\n",
              "      <button class=\"colab-df-convert\" onclick=\"convertToInteractive('df-24445014-d58d-4f2f-a309-35cfc77cc81b')\"\n",
              "              title=\"Convert this dataframe to an interactive table.\"\n",
              "              style=\"display:none;\">\n",
              "        \n",
              "  <svg xmlns=\"http://www.w3.org/2000/svg\" height=\"24px\"viewBox=\"0 0 24 24\"\n",
              "       width=\"24px\">\n",
              "    <path d=\"M0 0h24v24H0V0z\" fill=\"none\"/>\n",
              "    <path d=\"M18.56 5.44l.94 2.06.94-2.06 2.06-.94-2.06-.94-.94-2.06-.94 2.06-2.06.94zm-11 1L8.5 8.5l.94-2.06 2.06-.94-2.06-.94L8.5 2.5l-.94 2.06-2.06.94zm10 10l.94 2.06.94-2.06 2.06-.94-2.06-.94-.94-2.06-.94 2.06-2.06.94z\"/><path d=\"M17.41 7.96l-1.37-1.37c-.4-.4-.92-.59-1.43-.59-.52 0-1.04.2-1.43.59L10.3 9.45l-7.72 7.72c-.78.78-.78 2.05 0 2.83L4 21.41c.39.39.9.59 1.41.59.51 0 1.02-.2 1.41-.59l7.78-7.78 2.81-2.81c.8-.78.8-2.07 0-2.86zM5.41 20L4 18.59l7.72-7.72 1.47 1.35L5.41 20z\"/>\n",
              "  </svg>\n",
              "      </button>\n",
              "      \n",
              "  <style>\n",
              "    .colab-df-container {\n",
              "      display:flex;\n",
              "      flex-wrap:wrap;\n",
              "      gap: 12px;\n",
              "    }\n",
              "\n",
              "    .colab-df-convert {\n",
              "      background-color: #E8F0FE;\n",
              "      border: none;\n",
              "      border-radius: 50%;\n",
              "      cursor: pointer;\n",
              "      display: none;\n",
              "      fill: #1967D2;\n",
              "      height: 32px;\n",
              "      padding: 0 0 0 0;\n",
              "      width: 32px;\n",
              "    }\n",
              "\n",
              "    .colab-df-convert:hover {\n",
              "      background-color: #E2EBFA;\n",
              "      box-shadow: 0px 1px 2px rgba(60, 64, 67, 0.3), 0px 1px 3px 1px rgba(60, 64, 67, 0.15);\n",
              "      fill: #174EA6;\n",
              "    }\n",
              "\n",
              "    [theme=dark] .colab-df-convert {\n",
              "      background-color: #3B4455;\n",
              "      fill: #D2E3FC;\n",
              "    }\n",
              "\n",
              "    [theme=dark] .colab-df-convert:hover {\n",
              "      background-color: #434B5C;\n",
              "      box-shadow: 0px 1px 3px 1px rgba(0, 0, 0, 0.15);\n",
              "      filter: drop-shadow(0px 1px 2px rgba(0, 0, 0, 0.3));\n",
              "      fill: #FFFFFF;\n",
              "    }\n",
              "  </style>\n",
              "\n",
              "      <script>\n",
              "        const buttonEl =\n",
              "          document.querySelector('#df-24445014-d58d-4f2f-a309-35cfc77cc81b button.colab-df-convert');\n",
              "        buttonEl.style.display =\n",
              "          google.colab.kernel.accessAllowed ? 'block' : 'none';\n",
              "\n",
              "        async function convertToInteractive(key) {\n",
              "          const element = document.querySelector('#df-24445014-d58d-4f2f-a309-35cfc77cc81b');\n",
              "          const dataTable =\n",
              "            await google.colab.kernel.invokeFunction('convertToInteractive',\n",
              "                                                     [key], {});\n",
              "          if (!dataTable) return;\n",
              "\n",
              "          const docLinkHtml = 'Like what you see? Visit the ' +\n",
              "            '<a target=\"_blank\" href=https://colab.research.google.com/notebooks/data_table.ipynb>data table notebook</a>'\n",
              "            + ' to learn more about interactive tables.';\n",
              "          element.innerHTML = '';\n",
              "          dataTable['output_type'] = 'display_data';\n",
              "          await google.colab.output.renderOutput(dataTable, element);\n",
              "          const docLink = document.createElement('div');\n",
              "          docLink.innerHTML = docLinkHtml;\n",
              "          element.appendChild(docLink);\n",
              "        }\n",
              "      </script>\n",
              "    </div>\n",
              "  </div>\n",
              "  "
            ]
          },
          "metadata": {},
          "execution_count": 2
        }
      ]
    },
    {
      "cell_type": "markdown",
      "source": [
        "**3. Data preprocessing**"
      ],
      "metadata": {
        "id": "PZcwkihshgeJ"
      }
    },
    {
      "cell_type": "code",
      "source": [
        "# Creating a new column with datatime module.\n",
        "df['datetime'] = df[['year', 'month', 'day', 'hour', 'minute']].apply(lambda row: datetime.datetime(year=row['year'], month=row['month'], day=row['day'],\n",
        "                                                                                          hour=row['hour'], minute=row['minute']), axis=1)\n",
        "# Sorting values in ascending order\n",
        "df.sort_values('datetime', ascending=True, inplace=True)\n",
        "df['datetime'].head()"
      ],
      "metadata": {
        "colab": {
          "base_uri": "https://localhost:8080/"
        },
        "id": "ottGKyR8e_xY",
        "outputId": "3e825aec-c689-4781-8329-f4e9e0c2c597"
      },
      "execution_count": 3,
      "outputs": [
        {
          "output_type": "execute_result",
          "data": {
            "text/plain": [
              "0   2022-01-03 10:01:00\n",
              "1   2022-01-03 10:05:00\n",
              "2   2022-01-03 10:37:00\n",
              "3   2022-01-03 11:11:00\n",
              "4   2022-01-03 11:18:00\n",
              "Name: datetime, dtype: datetime64[ns]"
            ]
          },
          "metadata": {},
          "execution_count": 3
        }
      ]
    },
    {
      "cell_type": "code",
      "source": [
        "# Cleaning the dataframe, selecting feature variables and output for the model.\n",
        "option_df = df[['datetime', 'moneyness', 'days_to_ex', 'treasury_rate', 'std_underlying', 'option_price']].copy()\n",
        "option_df.head()"
      ],
      "metadata": {
        "colab": {
          "base_uri": "https://localhost:8080/",
          "height": 206
        },
        "id": "JQaJQ88Zh0bT",
        "outputId": "dfdc9a9e-c913-4f46-dbb4-bc36dace3f47"
      },
      "execution_count": 4,
      "outputs": [
        {
          "output_type": "execute_result",
          "data": {
            "text/plain": [
              "             datetime  moneyness  days_to_ex  treasury_rate  std_underlying  \\\n",
              "0 2022-01-03 10:01:00    0.95107         118           0.22        0.001322   \n",
              "1 2022-01-03 10:05:00    0.95039         118           0.22        0.001181   \n",
              "2 2022-01-03 10:37:00    0.95199         118           0.22        0.001080   \n",
              "3 2022-01-03 11:11:00    0.95113         118           0.22        0.001175   \n",
              "4 2022-01-03 11:18:00    0.95048         118           0.22        0.001065   \n",
              "\n",
              "   option_price  \n",
              "0          9.33  \n",
              "1          9.16  \n",
              "2          9.37  \n",
              "3          9.20  \n",
              "4          9.07  "
            ],
            "text/html": [
              "\n",
              "  <div id=\"df-f498c1ec-483a-4ecb-8584-06ced1f7ff34\">\n",
              "    <div class=\"colab-df-container\">\n",
              "      <div>\n",
              "<style scoped>\n",
              "    .dataframe tbody tr th:only-of-type {\n",
              "        vertical-align: middle;\n",
              "    }\n",
              "\n",
              "    .dataframe tbody tr th {\n",
              "        vertical-align: top;\n",
              "    }\n",
              "\n",
              "    .dataframe thead th {\n",
              "        text-align: right;\n",
              "    }\n",
              "</style>\n",
              "<table border=\"1\" class=\"dataframe\">\n",
              "  <thead>\n",
              "    <tr style=\"text-align: right;\">\n",
              "      <th></th>\n",
              "      <th>datetime</th>\n",
              "      <th>moneyness</th>\n",
              "      <th>days_to_ex</th>\n",
              "      <th>treasury_rate</th>\n",
              "      <th>std_underlying</th>\n",
              "      <th>option_price</th>\n",
              "    </tr>\n",
              "  </thead>\n",
              "  <tbody>\n",
              "    <tr>\n",
              "      <th>0</th>\n",
              "      <td>2022-01-03 10:01:00</td>\n",
              "      <td>0.95107</td>\n",
              "      <td>118</td>\n",
              "      <td>0.22</td>\n",
              "      <td>0.001322</td>\n",
              "      <td>9.33</td>\n",
              "    </tr>\n",
              "    <tr>\n",
              "      <th>1</th>\n",
              "      <td>2022-01-03 10:05:00</td>\n",
              "      <td>0.95039</td>\n",
              "      <td>118</td>\n",
              "      <td>0.22</td>\n",
              "      <td>0.001181</td>\n",
              "      <td>9.16</td>\n",
              "    </tr>\n",
              "    <tr>\n",
              "      <th>2</th>\n",
              "      <td>2022-01-03 10:37:00</td>\n",
              "      <td>0.95199</td>\n",
              "      <td>118</td>\n",
              "      <td>0.22</td>\n",
              "      <td>0.001080</td>\n",
              "      <td>9.37</td>\n",
              "    </tr>\n",
              "    <tr>\n",
              "      <th>3</th>\n",
              "      <td>2022-01-03 11:11:00</td>\n",
              "      <td>0.95113</td>\n",
              "      <td>118</td>\n",
              "      <td>0.22</td>\n",
              "      <td>0.001175</td>\n",
              "      <td>9.20</td>\n",
              "    </tr>\n",
              "    <tr>\n",
              "      <th>4</th>\n",
              "      <td>2022-01-03 11:18:00</td>\n",
              "      <td>0.95048</td>\n",
              "      <td>118</td>\n",
              "      <td>0.22</td>\n",
              "      <td>0.001065</td>\n",
              "      <td>9.07</td>\n",
              "    </tr>\n",
              "  </tbody>\n",
              "</table>\n",
              "</div>\n",
              "      <button class=\"colab-df-convert\" onclick=\"convertToInteractive('df-f498c1ec-483a-4ecb-8584-06ced1f7ff34')\"\n",
              "              title=\"Convert this dataframe to an interactive table.\"\n",
              "              style=\"display:none;\">\n",
              "        \n",
              "  <svg xmlns=\"http://www.w3.org/2000/svg\" height=\"24px\"viewBox=\"0 0 24 24\"\n",
              "       width=\"24px\">\n",
              "    <path d=\"M0 0h24v24H0V0z\" fill=\"none\"/>\n",
              "    <path d=\"M18.56 5.44l.94 2.06.94-2.06 2.06-.94-2.06-.94-.94-2.06-.94 2.06-2.06.94zm-11 1L8.5 8.5l.94-2.06 2.06-.94-2.06-.94L8.5 2.5l-.94 2.06-2.06.94zm10 10l.94 2.06.94-2.06 2.06-.94-2.06-.94-.94-2.06-.94 2.06-2.06.94z\"/><path d=\"M17.41 7.96l-1.37-1.37c-.4-.4-.92-.59-1.43-.59-.52 0-1.04.2-1.43.59L10.3 9.45l-7.72 7.72c-.78.78-.78 2.05 0 2.83L4 21.41c.39.39.9.59 1.41.59.51 0 1.02-.2 1.41-.59l7.78-7.78 2.81-2.81c.8-.78.8-2.07 0-2.86zM5.41 20L4 18.59l7.72-7.72 1.47 1.35L5.41 20z\"/>\n",
              "  </svg>\n",
              "      </button>\n",
              "      \n",
              "  <style>\n",
              "    .colab-df-container {\n",
              "      display:flex;\n",
              "      flex-wrap:wrap;\n",
              "      gap: 12px;\n",
              "    }\n",
              "\n",
              "    .colab-df-convert {\n",
              "      background-color: #E8F0FE;\n",
              "      border: none;\n",
              "      border-radius: 50%;\n",
              "      cursor: pointer;\n",
              "      display: none;\n",
              "      fill: #1967D2;\n",
              "      height: 32px;\n",
              "      padding: 0 0 0 0;\n",
              "      width: 32px;\n",
              "    }\n",
              "\n",
              "    .colab-df-convert:hover {\n",
              "      background-color: #E2EBFA;\n",
              "      box-shadow: 0px 1px 2px rgba(60, 64, 67, 0.3), 0px 1px 3px 1px rgba(60, 64, 67, 0.15);\n",
              "      fill: #174EA6;\n",
              "    }\n",
              "\n",
              "    [theme=dark] .colab-df-convert {\n",
              "      background-color: #3B4455;\n",
              "      fill: #D2E3FC;\n",
              "    }\n",
              "\n",
              "    [theme=dark] .colab-df-convert:hover {\n",
              "      background-color: #434B5C;\n",
              "      box-shadow: 0px 1px 3px 1px rgba(0, 0, 0, 0.15);\n",
              "      filter: drop-shadow(0px 1px 2px rgba(0, 0, 0, 0.3));\n",
              "      fill: #FFFFFF;\n",
              "    }\n",
              "  </style>\n",
              "\n",
              "      <script>\n",
              "        const buttonEl =\n",
              "          document.querySelector('#df-f498c1ec-483a-4ecb-8584-06ced1f7ff34 button.colab-df-convert');\n",
              "        buttonEl.style.display =\n",
              "          google.colab.kernel.accessAllowed ? 'block' : 'none';\n",
              "\n",
              "        async function convertToInteractive(key) {\n",
              "          const element = document.querySelector('#df-f498c1ec-483a-4ecb-8584-06ced1f7ff34');\n",
              "          const dataTable =\n",
              "            await google.colab.kernel.invokeFunction('convertToInteractive',\n",
              "                                                     [key], {});\n",
              "          if (!dataTable) return;\n",
              "\n",
              "          const docLinkHtml = 'Like what you see? Visit the ' +\n",
              "            '<a target=\"_blank\" href=https://colab.research.google.com/notebooks/data_table.ipynb>data table notebook</a>'\n",
              "            + ' to learn more about interactive tables.';\n",
              "          element.innerHTML = '';\n",
              "          dataTable['output_type'] = 'display_data';\n",
              "          await google.colab.output.renderOutput(dataTable, element);\n",
              "          const docLink = document.createElement('div');\n",
              "          docLink.innerHTML = docLinkHtml;\n",
              "          element.appendChild(docLink);\n",
              "        }\n",
              "      </script>\n",
              "    </div>\n",
              "  </div>\n",
              "  "
            ]
          },
          "metadata": {},
          "execution_count": 4
        }
      ]
    },
    {
      "cell_type": "markdown",
      "source": [
        "**4. Train/Validation Split**"
      ],
      "metadata": {
        "id": "a0zI7Kinh5lM"
      }
    },
    {
      "cell_type": "markdown",
      "source": [
        "Before starting the training the model we need to create four different arrays separating features variables from the output variables for both training and validation dataset."
      ],
      "metadata": {
        "id": "x-x80W1bh-bo"
      }
    },
    {
      "cell_type": "code",
      "source": [
        "# Spliting the data while mantaining the order of the dataset.\n",
        "split_date = datetime.datetime(year=2022, month=3, day=10, hour=0)\n",
        "df_train = option_df.loc[df['datetime']<split_date]\n",
        "df_val = option_df.loc[df['datetime']>=split_date]\n",
        "print('Shape of train:', df_train.shape)\n",
        "print('Shape of test:', df_val.shape)"
      ],
      "metadata": {
        "colab": {
          "base_uri": "https://localhost:8080/"
        },
        "id": "X3K_CTqVhwHf",
        "outputId": "7ccc7e16-7f87-4904-bc04-c45bad3e56ed"
      },
      "execution_count": 5,
      "outputs": [
        {
          "output_type": "stream",
          "name": "stdout",
          "text": [
            "Shape of train: (4008, 6)\n",
            "Shape of test: (1045, 6)\n"
          ]
        }
      ]
    },
    {
      "cell_type": "code",
      "source": [
        "# Datetime variable is eliminated as it is not a feature variable for the model.\n",
        "df_train = df_train[['moneyness', 'days_to_ex', 'treasury_rate', 'std_underlying', 'option_price']].copy()\n",
        "df_train.head()"
      ],
      "metadata": {
        "colab": {
          "base_uri": "https://localhost:8080/",
          "height": 206
        },
        "id": "I0i4btQYhqjH",
        "outputId": "1d4d80f6-d570-4305-a8aa-7f082111b310"
      },
      "execution_count": 6,
      "outputs": [
        {
          "output_type": "execute_result",
          "data": {
            "text/plain": [
              "   moneyness  days_to_ex  treasury_rate  std_underlying  option_price\n",
              "0    0.95107         118           0.22        0.001322          9.33\n",
              "1    0.95039         118           0.22        0.001181          9.16\n",
              "2    0.95199         118           0.22        0.001080          9.37\n",
              "3    0.95113         118           0.22        0.001175          9.20\n",
              "4    0.95048         118           0.22        0.001065          9.07"
            ],
            "text/html": [
              "\n",
              "  <div id=\"df-d3adaf14-5497-428c-a668-9176be03c826\">\n",
              "    <div class=\"colab-df-container\">\n",
              "      <div>\n",
              "<style scoped>\n",
              "    .dataframe tbody tr th:only-of-type {\n",
              "        vertical-align: middle;\n",
              "    }\n",
              "\n",
              "    .dataframe tbody tr th {\n",
              "        vertical-align: top;\n",
              "    }\n",
              "\n",
              "    .dataframe thead th {\n",
              "        text-align: right;\n",
              "    }\n",
              "</style>\n",
              "<table border=\"1\" class=\"dataframe\">\n",
              "  <thead>\n",
              "    <tr style=\"text-align: right;\">\n",
              "      <th></th>\n",
              "      <th>moneyness</th>\n",
              "      <th>days_to_ex</th>\n",
              "      <th>treasury_rate</th>\n",
              "      <th>std_underlying</th>\n",
              "      <th>option_price</th>\n",
              "    </tr>\n",
              "  </thead>\n",
              "  <tbody>\n",
              "    <tr>\n",
              "      <th>0</th>\n",
              "      <td>0.95107</td>\n",
              "      <td>118</td>\n",
              "      <td>0.22</td>\n",
              "      <td>0.001322</td>\n",
              "      <td>9.33</td>\n",
              "    </tr>\n",
              "    <tr>\n",
              "      <th>1</th>\n",
              "      <td>0.95039</td>\n",
              "      <td>118</td>\n",
              "      <td>0.22</td>\n",
              "      <td>0.001181</td>\n",
              "      <td>9.16</td>\n",
              "    </tr>\n",
              "    <tr>\n",
              "      <th>2</th>\n",
              "      <td>0.95199</td>\n",
              "      <td>118</td>\n",
              "      <td>0.22</td>\n",
              "      <td>0.001080</td>\n",
              "      <td>9.37</td>\n",
              "    </tr>\n",
              "    <tr>\n",
              "      <th>3</th>\n",
              "      <td>0.95113</td>\n",
              "      <td>118</td>\n",
              "      <td>0.22</td>\n",
              "      <td>0.001175</td>\n",
              "      <td>9.20</td>\n",
              "    </tr>\n",
              "    <tr>\n",
              "      <th>4</th>\n",
              "      <td>0.95048</td>\n",
              "      <td>118</td>\n",
              "      <td>0.22</td>\n",
              "      <td>0.001065</td>\n",
              "      <td>9.07</td>\n",
              "    </tr>\n",
              "  </tbody>\n",
              "</table>\n",
              "</div>\n",
              "      <button class=\"colab-df-convert\" onclick=\"convertToInteractive('df-d3adaf14-5497-428c-a668-9176be03c826')\"\n",
              "              title=\"Convert this dataframe to an interactive table.\"\n",
              "              style=\"display:none;\">\n",
              "        \n",
              "  <svg xmlns=\"http://www.w3.org/2000/svg\" height=\"24px\"viewBox=\"0 0 24 24\"\n",
              "       width=\"24px\">\n",
              "    <path d=\"M0 0h24v24H0V0z\" fill=\"none\"/>\n",
              "    <path d=\"M18.56 5.44l.94 2.06.94-2.06 2.06-.94-2.06-.94-.94-2.06-.94 2.06-2.06.94zm-11 1L8.5 8.5l.94-2.06 2.06-.94-2.06-.94L8.5 2.5l-.94 2.06-2.06.94zm10 10l.94 2.06.94-2.06 2.06-.94-2.06-.94-.94-2.06-.94 2.06-2.06.94z\"/><path d=\"M17.41 7.96l-1.37-1.37c-.4-.4-.92-.59-1.43-.59-.52 0-1.04.2-1.43.59L10.3 9.45l-7.72 7.72c-.78.78-.78 2.05 0 2.83L4 21.41c.39.39.9.59 1.41.59.51 0 1.02-.2 1.41-.59l7.78-7.78 2.81-2.81c.8-.78.8-2.07 0-2.86zM5.41 20L4 18.59l7.72-7.72 1.47 1.35L5.41 20z\"/>\n",
              "  </svg>\n",
              "      </button>\n",
              "      \n",
              "  <style>\n",
              "    .colab-df-container {\n",
              "      display:flex;\n",
              "      flex-wrap:wrap;\n",
              "      gap: 12px;\n",
              "    }\n",
              "\n",
              "    .colab-df-convert {\n",
              "      background-color: #E8F0FE;\n",
              "      border: none;\n",
              "      border-radius: 50%;\n",
              "      cursor: pointer;\n",
              "      display: none;\n",
              "      fill: #1967D2;\n",
              "      height: 32px;\n",
              "      padding: 0 0 0 0;\n",
              "      width: 32px;\n",
              "    }\n",
              "\n",
              "    .colab-df-convert:hover {\n",
              "      background-color: #E2EBFA;\n",
              "      box-shadow: 0px 1px 2px rgba(60, 64, 67, 0.3), 0px 1px 3px 1px rgba(60, 64, 67, 0.15);\n",
              "      fill: #174EA6;\n",
              "    }\n",
              "\n",
              "    [theme=dark] .colab-df-convert {\n",
              "      background-color: #3B4455;\n",
              "      fill: #D2E3FC;\n",
              "    }\n",
              "\n",
              "    [theme=dark] .colab-df-convert:hover {\n",
              "      background-color: #434B5C;\n",
              "      box-shadow: 0px 1px 3px 1px rgba(0, 0, 0, 0.15);\n",
              "      filter: drop-shadow(0px 1px 2px rgba(0, 0, 0, 0.3));\n",
              "      fill: #FFFFFF;\n",
              "    }\n",
              "  </style>\n",
              "\n",
              "      <script>\n",
              "        const buttonEl =\n",
              "          document.querySelector('#df-d3adaf14-5497-428c-a668-9176be03c826 button.colab-df-convert');\n",
              "        buttonEl.style.display =\n",
              "          google.colab.kernel.accessAllowed ? 'block' : 'none';\n",
              "\n",
              "        async function convertToInteractive(key) {\n",
              "          const element = document.querySelector('#df-d3adaf14-5497-428c-a668-9176be03c826');\n",
              "          const dataTable =\n",
              "            await google.colab.kernel.invokeFunction('convertToInteractive',\n",
              "                                                     [key], {});\n",
              "          if (!dataTable) return;\n",
              "\n",
              "          const docLinkHtml = 'Like what you see? Visit the ' +\n",
              "            '<a target=\"_blank\" href=https://colab.research.google.com/notebooks/data_table.ipynb>data table notebook</a>'\n",
              "            + ' to learn more about interactive tables.';\n",
              "          element.innerHTML = '';\n",
              "          dataTable['output_type'] = 'display_data';\n",
              "          await google.colab.output.renderOutput(dataTable, element);\n",
              "          const docLink = document.createElement('div');\n",
              "          docLink.innerHTML = docLinkHtml;\n",
              "          element.appendChild(docLink);\n",
              "        }\n",
              "      </script>\n",
              "    </div>\n",
              "  </div>\n",
              "  "
            ]
          },
          "metadata": {},
          "execution_count": 6
        }
      ]
    },
    {
      "cell_type": "code",
      "source": [
        "# Datetime variable is eliminated as it is not a feature variable for the model.\n",
        "df_val = df_val[['moneyness', 'days_to_ex', 'treasury_rate', 'std_underlying', 'option_price']].copy()\n",
        "df_val.reset_index(inplace = True, drop = True)\n",
        "df_val.head()"
      ],
      "metadata": {
        "colab": {
          "base_uri": "https://localhost:8080/",
          "height": 206
        },
        "id": "MTst4u0UiImP",
        "outputId": "33cc69ca-be39-448d-844e-d2ca0f3b27c7"
      },
      "execution_count": 7,
      "outputs": [
        {
          "output_type": "execute_result",
          "data": {
            "text/plain": [
              "   moneyness  days_to_ex  treasury_rate  std_underlying  option_price\n",
              "0    0.84551          72           0.38        0.004437          0.65\n",
              "1    0.84491          72           0.38        0.004218          0.68\n",
              "2    0.84447          72           0.38        0.004123          0.63\n",
              "3    0.84587          72           0.38        0.004532          0.67\n",
              "4    0.84560          72           0.38        0.004523          0.68"
            ],
            "text/html": [
              "\n",
              "  <div id=\"df-d84462f4-6a53-421d-b700-459d3d20e6b4\">\n",
              "    <div class=\"colab-df-container\">\n",
              "      <div>\n",
              "<style scoped>\n",
              "    .dataframe tbody tr th:only-of-type {\n",
              "        vertical-align: middle;\n",
              "    }\n",
              "\n",
              "    .dataframe tbody tr th {\n",
              "        vertical-align: top;\n",
              "    }\n",
              "\n",
              "    .dataframe thead th {\n",
              "        text-align: right;\n",
              "    }\n",
              "</style>\n",
              "<table border=\"1\" class=\"dataframe\">\n",
              "  <thead>\n",
              "    <tr style=\"text-align: right;\">\n",
              "      <th></th>\n",
              "      <th>moneyness</th>\n",
              "      <th>days_to_ex</th>\n",
              "      <th>treasury_rate</th>\n",
              "      <th>std_underlying</th>\n",
              "      <th>option_price</th>\n",
              "    </tr>\n",
              "  </thead>\n",
              "  <tbody>\n",
              "    <tr>\n",
              "      <th>0</th>\n",
              "      <td>0.84551</td>\n",
              "      <td>72</td>\n",
              "      <td>0.38</td>\n",
              "      <td>0.004437</td>\n",
              "      <td>0.65</td>\n",
              "    </tr>\n",
              "    <tr>\n",
              "      <th>1</th>\n",
              "      <td>0.84491</td>\n",
              "      <td>72</td>\n",
              "      <td>0.38</td>\n",
              "      <td>0.004218</td>\n",
              "      <td>0.68</td>\n",
              "    </tr>\n",
              "    <tr>\n",
              "      <th>2</th>\n",
              "      <td>0.84447</td>\n",
              "      <td>72</td>\n",
              "      <td>0.38</td>\n",
              "      <td>0.004123</td>\n",
              "      <td>0.63</td>\n",
              "    </tr>\n",
              "    <tr>\n",
              "      <th>3</th>\n",
              "      <td>0.84587</td>\n",
              "      <td>72</td>\n",
              "      <td>0.38</td>\n",
              "      <td>0.004532</td>\n",
              "      <td>0.67</td>\n",
              "    </tr>\n",
              "    <tr>\n",
              "      <th>4</th>\n",
              "      <td>0.84560</td>\n",
              "      <td>72</td>\n",
              "      <td>0.38</td>\n",
              "      <td>0.004523</td>\n",
              "      <td>0.68</td>\n",
              "    </tr>\n",
              "  </tbody>\n",
              "</table>\n",
              "</div>\n",
              "      <button class=\"colab-df-convert\" onclick=\"convertToInteractive('df-d84462f4-6a53-421d-b700-459d3d20e6b4')\"\n",
              "              title=\"Convert this dataframe to an interactive table.\"\n",
              "              style=\"display:none;\">\n",
              "        \n",
              "  <svg xmlns=\"http://www.w3.org/2000/svg\" height=\"24px\"viewBox=\"0 0 24 24\"\n",
              "       width=\"24px\">\n",
              "    <path d=\"M0 0h24v24H0V0z\" fill=\"none\"/>\n",
              "    <path d=\"M18.56 5.44l.94 2.06.94-2.06 2.06-.94-2.06-.94-.94-2.06-.94 2.06-2.06.94zm-11 1L8.5 8.5l.94-2.06 2.06-.94-2.06-.94L8.5 2.5l-.94 2.06-2.06.94zm10 10l.94 2.06.94-2.06 2.06-.94-2.06-.94-.94-2.06-.94 2.06-2.06.94z\"/><path d=\"M17.41 7.96l-1.37-1.37c-.4-.4-.92-.59-1.43-.59-.52 0-1.04.2-1.43.59L10.3 9.45l-7.72 7.72c-.78.78-.78 2.05 0 2.83L4 21.41c.39.39.9.59 1.41.59.51 0 1.02-.2 1.41-.59l7.78-7.78 2.81-2.81c.8-.78.8-2.07 0-2.86zM5.41 20L4 18.59l7.72-7.72 1.47 1.35L5.41 20z\"/>\n",
              "  </svg>\n",
              "      </button>\n",
              "      \n",
              "  <style>\n",
              "    .colab-df-container {\n",
              "      display:flex;\n",
              "      flex-wrap:wrap;\n",
              "      gap: 12px;\n",
              "    }\n",
              "\n",
              "    .colab-df-convert {\n",
              "      background-color: #E8F0FE;\n",
              "      border: none;\n",
              "      border-radius: 50%;\n",
              "      cursor: pointer;\n",
              "      display: none;\n",
              "      fill: #1967D2;\n",
              "      height: 32px;\n",
              "      padding: 0 0 0 0;\n",
              "      width: 32px;\n",
              "    }\n",
              "\n",
              "    .colab-df-convert:hover {\n",
              "      background-color: #E2EBFA;\n",
              "      box-shadow: 0px 1px 2px rgba(60, 64, 67, 0.3), 0px 1px 3px 1px rgba(60, 64, 67, 0.15);\n",
              "      fill: #174EA6;\n",
              "    }\n",
              "\n",
              "    [theme=dark] .colab-df-convert {\n",
              "      background-color: #3B4455;\n",
              "      fill: #D2E3FC;\n",
              "    }\n",
              "\n",
              "    [theme=dark] .colab-df-convert:hover {\n",
              "      background-color: #434B5C;\n",
              "      box-shadow: 0px 1px 3px 1px rgba(0, 0, 0, 0.15);\n",
              "      filter: drop-shadow(0px 1px 2px rgba(0, 0, 0, 0.3));\n",
              "      fill: #FFFFFF;\n",
              "    }\n",
              "  </style>\n",
              "\n",
              "      <script>\n",
              "        const buttonEl =\n",
              "          document.querySelector('#df-d84462f4-6a53-421d-b700-459d3d20e6b4 button.colab-df-convert');\n",
              "        buttonEl.style.display =\n",
              "          google.colab.kernel.accessAllowed ? 'block' : 'none';\n",
              "\n",
              "        async function convertToInteractive(key) {\n",
              "          const element = document.querySelector('#df-d84462f4-6a53-421d-b700-459d3d20e6b4');\n",
              "          const dataTable =\n",
              "            await google.colab.kernel.invokeFunction('convertToInteractive',\n",
              "                                                     [key], {});\n",
              "          if (!dataTable) return;\n",
              "\n",
              "          const docLinkHtml = 'Like what you see? Visit the ' +\n",
              "            '<a target=\"_blank\" href=https://colab.research.google.com/notebooks/data_table.ipynb>data table notebook</a>'\n",
              "            + ' to learn more about interactive tables.';\n",
              "          element.innerHTML = '';\n",
              "          dataTable['output_type'] = 'display_data';\n",
              "          await google.colab.output.renderOutput(dataTable, element);\n",
              "          const docLink = document.createElement('div');\n",
              "          docLink.innerHTML = docLinkHtml;\n",
              "          element.appendChild(docLink);\n",
              "        }\n",
              "      </script>\n",
              "    </div>\n",
              "  </div>\n",
              "  "
            ]
          },
          "metadata": {},
          "execution_count": 7
        }
      ]
    },
    {
      "cell_type": "code",
      "source": [
        "def train_X_Y(n_future):\n",
        "  # Inputs:\n",
        "  # n_future = Number of days to be predicted in the future based on past days.\n",
        "  # Output:\n",
        "  # train_X = 2D array (n_samples, n_features)\n",
        "  # train_Y = 2D array (n_samples, n_features)\n",
        "\n",
        "  train_X = []\n",
        "  train_Y = []\n",
        "\n",
        "  array_train = df_train.to_numpy()\n",
        "\n",
        "  for i in range(0, len(array_train ) - n_future +1):\n",
        "      train_X.append(array_train [i, 0:(array_train.shape[1]-1)])\n",
        "      train_Y.append(array_train [i + n_future - 1:i + n_future, 4])\n",
        "\n",
        "  train_X, train_Y = np.array(train_X), np.array(train_Y)\n",
        "  return train_X, train_Y"
      ],
      "metadata": {
        "id": "8mb2rhPpicXS"
      },
      "execution_count": 8,
      "outputs": []
    },
    {
      "cell_type": "code",
      "source": [
        "n_future = 1 \n",
        "\n",
        "train_X, train_Y = train_X_Y(n_future)\n",
        "print('train_X shape == {}'.format(train_X.shape))\n",
        "print('train_Y shape == {}'.format(train_Y.shape))"
      ],
      "metadata": {
        "colab": {
          "base_uri": "https://localhost:8080/"
        },
        "id": "R-LZHyuHihE-",
        "outputId": "672e9e14-d66e-4bf1-d47b-c266ed8f691a"
      },
      "execution_count": 9,
      "outputs": [
        {
          "output_type": "stream",
          "name": "stdout",
          "text": [
            "train_X shape == (4008, 4)\n",
            "train_Y shape == (4008, 1)\n"
          ]
        }
      ]
    },
    {
      "cell_type": "code",
      "source": [
        "def valid_X_Y(n_future):\n",
        "  # Inputs:\n",
        "  # n_future = Number of days to be predicted in the future based on past days.\n",
        "  # Output:\n",
        "  # train_X = 2D array (n_samples, n_features)\n",
        "  # train_Y = 2D array (n_samples, n_features)\n",
        "\n",
        "  valid_X = []\n",
        "  valid_Y = []\n",
        "\n",
        "  array_valid = df_val.to_numpy()\n",
        "\n",
        "  for i in range(0, len(array_valid ) - n_future +1):\n",
        "      valid_X.append(array_valid[i, 0:(array_valid.shape[1]-1)])\n",
        "      valid_Y.append(array_valid[i + n_future - 1:i + n_future, 4])\n",
        "\n",
        "  valid_X, valid_Y = np.array(valid_X), np.array(valid_Y)\n",
        "  return valid_X, valid_Y "
      ],
      "metadata": {
        "id": "rOzlVcL-ikxm"
      },
      "execution_count": 10,
      "outputs": []
    },
    {
      "cell_type": "code",
      "source": [
        "n_future = 1 \n",
        "\n",
        "valid_X, valid_Y = valid_X_Y(n_future)\n",
        "print('valid_X shape == {}'.format(valid_X.shape))\n",
        "print('valid_Y shape == {}'.format(valid_Y.shape))"
      ],
      "metadata": {
        "colab": {
          "base_uri": "https://localhost:8080/"
        },
        "id": "oG1Z1BGRipnv",
        "outputId": "7f350d96-9cea-4dcf-9a11-6cf10fd8aa49"
      },
      "execution_count": 11,
      "outputs": [
        {
          "output_type": "stream",
          "name": "stdout",
          "text": [
            "valid_X shape == (1045, 4)\n",
            "valid_Y shape == (1045, 1)\n"
          ]
        }
      ]
    },
    {
      "cell_type": "markdown",
      "source": [
        "**5. Standardizing data**"
      ],
      "metadata": {
        "id": "U7mk_hGniu7S"
      }
    },
    {
      "cell_type": "code",
      "source": [
        "# Standarization of feature variables is a common requirement for machine learning estimators:\n",
        "from sklearn import preprocessing\n",
        "\n",
        "# Preprocessing transforms dataframe into array\n",
        "scaler_X = preprocessing.StandardScaler().fit(train_X)\n",
        "scaler_Y = preprocessing.StandardScaler().fit(train_Y)\n",
        "\n",
        "array_train_scaled_X = scaler_X.transform(train_X)\n",
        "array_train_scaled_Y = scaler_Y.transform(train_Y)\n",
        "\n",
        "print('Shape of scaled train X:', array_train_scaled_X.shape)\n",
        "print('Shape of scaled train Y:', array_train_scaled_Y.shape)"
      ],
      "metadata": {
        "colab": {
          "base_uri": "https://localhost:8080/"
        },
        "id": "RIc4S8foitJl",
        "outputId": "076d4a7e-5b77-46b9-fa7a-0e9e9218bad5"
      },
      "execution_count": 12,
      "outputs": [
        {
          "output_type": "stream",
          "name": "stdout",
          "text": [
            "Shape of scaled train X: (4008, 4)\n",
            "Shape of scaled train Y: (4008, 1)\n"
          ]
        }
      ]
    },
    {
      "cell_type": "code",
      "source": [
        "# Preprocessing transforms dataframe into array\n",
        "array_val_scaled_X = scaler_X.transform(valid_X)\n",
        "array_val_scaled_Y = scaler_Y.transform(valid_Y)\n",
        "print('Shape of scaled test X:', array_val_scaled_X.shape)\n",
        "print('Shape of scaled test Y:', array_val_scaled_Y.shape)"
      ],
      "metadata": {
        "colab": {
          "base_uri": "https://localhost:8080/"
        },
        "id": "5aKq1MX_jAcF",
        "outputId": "b3b55cb9-ccfa-414b-8d69-8b8f67d0e985"
      },
      "execution_count": 13,
      "outputs": [
        {
          "output_type": "stream",
          "name": "stdout",
          "text": [
            "Shape of scaled test X: (1045, 4)\n",
            "Shape of scaled test Y: (1045, 1)\n"
          ]
        }
      ]
    },
    {
      "cell_type": "markdown",
      "source": [
        "**6. Defining the model**"
      ],
      "metadata": {
        "id": "SR1_UUEojGMn"
      }
    },
    {
      "cell_type": "code",
      "source": [
        "from keras.layers import Dense, Input, Dropout\n",
        "from tensorflow.keras.optimizers import Adam, Nadam \n",
        "from keras.models import Model\n",
        "from keras.models import load_model\n",
        "from keras.callbacks import ModelCheckpoint"
      ],
      "metadata": {
        "id": "6iiabdjAjEJf"
      },
      "execution_count": 14,
      "outputs": []
    },
    {
      "cell_type": "code",
      "source": [
        "# Defining the shape of the input layer as (None, 4),\n",
        "# where \"None\" indicates the number of instances\n",
        "# data type is float32\n",
        "input_shape = array_train_scaled_X[0,:].shape\n",
        "model_input = Input(shape=input_shape, dtype='float32')"
      ],
      "metadata": {
        "id": "x7r_7Fv5jOUd"
      },
      "execution_count": 15,
      "outputs": []
    },
    {
      "cell_type": "code",
      "source": [
        "def mlp_model_specs(model_input):\n",
        "  #Dense layers are defined with LeakyReLU activation function\n",
        "  dense1 = Dense(120, activation='LeakyReLU')(model_input)\n",
        "  dense2 = Dense(120, activation='LeakyReLU')(dense1)\n",
        "  dense3 = Dense(120, activation='LeakyReLU')(dense2)\n",
        "  dense4 = Dense(120, activation='LeakyReLU')(dense3)\n",
        "  dropout_layer = Dropout(0.2)(dense4)\n",
        "  #Finally the output layer gives prediction for the next trading option price\n",
        "  output_layer = Dense(1, activation='linear')(dropout_layer)\n",
        "  model = Model(model_input, output_layer, name='mlp_model')\n",
        "  return model"
      ],
      "metadata": {
        "id": "xZztpuM8jR87"
      },
      "execution_count": 16,
      "outputs": []
    },
    {
      "cell_type": "code",
      "source": [
        "mlp_model_1 = mlp_model_specs(model_input)"
      ],
      "metadata": {
        "id": "6B6hPZ0ykxTb"
      },
      "execution_count": 17,
      "outputs": []
    },
    {
      "cell_type": "markdown",
      "source": [
        "**Adam Optimizer**"
      ],
      "metadata": {
        "id": "9WqXSZ2zxE9p"
      }
    },
    {
      "cell_type": "code",
      "source": [
        "# Hyperparameters\n",
        "num_epochs = 20\n",
        "batch_size=16"
      ],
      "metadata": {
        "id": "IUfHMMcLk6FX"
      },
      "execution_count": 18,
      "outputs": []
    },
    {
      "cell_type": "code",
      "source": [
        "# ADAM OPTIMIZER, LEARNING RATE 1e-5\n",
        "def compile_and_train(model, num_epochs, batch_size): \n",
        "  model.compile(loss='mse', optimizer=Adam(1e-5))\n",
        "  model.summary()\n",
        "  save_weights_at = os.path.join('keras_mlp_models', 'Option_Prices_MLP_weights.{epoch:02d}-{val_loss:.4f}.hdf5')\n",
        "  save_best = ModelCheckpoint(save_weights_at, monitor='val_loss', verbose=0, save_weights_only=False,\n",
        "                                                 save_best_only=True, mode='min', period=1)\n",
        "  history = model.fit(x=array_train_scaled_X, y=array_train_scaled_Y, batch_size=batch_size, \n",
        "                     epochs=num_epochs, verbose=1, callbacks=[save_best], \n",
        "                     validation_data=(array_val_scaled_X, array_val_scaled_Y), shuffle=True)\n",
        "  return history"
      ],
      "metadata": {
        "id": "OXztTGmulCmI"
      },
      "execution_count": 19,
      "outputs": []
    },
    {
      "cell_type": "code",
      "source": [
        "mlp_model_history = compile_and_train(mlp_model_1, num_epochs, batch_size)"
      ],
      "metadata": {
        "colab": {
          "base_uri": "https://localhost:8080/"
        },
        "id": "bANhAVoGlp7J",
        "outputId": "18f97ef4-dfec-432b-b6a4-46914b1f5f8a"
      },
      "execution_count": 20,
      "outputs": [
        {
          "output_type": "stream",
          "name": "stdout",
          "text": [
            "Model: \"mlp_model\"\n",
            "_________________________________________________________________\n",
            " Layer (type)                Output Shape              Param #   \n",
            "=================================================================\n",
            " input_1 (InputLayer)        [(None, 4)]               0         \n",
            "                                                                 \n",
            " dense (Dense)               (None, 120)               600       \n",
            "                                                                 \n",
            " dense_1 (Dense)             (None, 120)               14520     \n",
            "                                                                 \n",
            " dense_2 (Dense)             (None, 120)               14520     \n",
            "                                                                 \n",
            " dense_3 (Dense)             (None, 120)               14520     \n",
            "                                                                 \n",
            " dropout (Dropout)           (None, 120)               0         \n",
            "                                                                 \n",
            " dense_4 (Dense)             (None, 1)                 121       \n",
            "                                                                 \n",
            "=================================================================\n",
            "Total params: 44,281\n",
            "Trainable params: 44,281\n",
            "Non-trainable params: 0\n",
            "_________________________________________________________________\n",
            "WARNING:tensorflow:`period` argument is deprecated. Please use `save_freq` to specify the frequency in number of batches seen.\n",
            "Epoch 1/20\n",
            "251/251 [==============================] - 2s 4ms/step - loss: 0.6009 - val_loss: 0.2593\n",
            "Epoch 2/20\n",
            "251/251 [==============================] - 1s 3ms/step - loss: 0.2636 - val_loss: 0.0090\n",
            "Epoch 3/20\n",
            "251/251 [==============================] - 1s 3ms/step - loss: 0.1388 - val_loss: 0.0296\n",
            "Epoch 4/20\n",
            "251/251 [==============================] - 1s 3ms/step - loss: 0.0948 - val_loss: 0.0319\n",
            "Epoch 5/20\n",
            "251/251 [==============================] - 1s 3ms/step - loss: 0.0701 - val_loss: 0.0253\n",
            "Epoch 6/20\n",
            "251/251 [==============================] - 1s 3ms/step - loss: 0.0589 - val_loss: 0.0174\n",
            "Epoch 7/20\n",
            "251/251 [==============================] - 1s 3ms/step - loss: 0.0483 - val_loss: 0.0118\n",
            "Epoch 8/20\n",
            "251/251 [==============================] - 1s 2ms/step - loss: 0.0446 - val_loss: 0.0094\n",
            "Epoch 9/20\n",
            "251/251 [==============================] - 1s 3ms/step - loss: 0.0390 - val_loss: 0.0081\n",
            "Epoch 10/20\n",
            "251/251 [==============================] - 1s 3ms/step - loss: 0.0332 - val_loss: 0.0078\n",
            "Epoch 11/20\n",
            "251/251 [==============================] - 1s 3ms/step - loss: 0.0342 - val_loss: 0.0079\n",
            "Epoch 12/20\n",
            "251/251 [==============================] - 1s 3ms/step - loss: 0.0297 - val_loss: 0.0059\n",
            "Epoch 13/20\n",
            "251/251 [==============================] - 1s 3ms/step - loss: 0.0302 - val_loss: 0.0063\n",
            "Epoch 14/20\n",
            "251/251 [==============================] - 1s 3ms/step - loss: 0.0253 - val_loss: 0.0060\n",
            "Epoch 15/20\n",
            "251/251 [==============================] - 1s 3ms/step - loss: 0.0267 - val_loss: 0.0053\n",
            "Epoch 16/20\n",
            "251/251 [==============================] - 1s 3ms/step - loss: 0.0232 - val_loss: 0.0044\n",
            "Epoch 17/20\n",
            "251/251 [==============================] - 1s 3ms/step - loss: 0.0241 - val_loss: 0.0050\n",
            "Epoch 18/20\n",
            "251/251 [==============================] - 1s 2ms/step - loss: 0.0235 - val_loss: 0.0050\n",
            "Epoch 19/20\n",
            "251/251 [==============================] - 1s 3ms/step - loss: 0.0217 - val_loss: 0.0039\n",
            "Epoch 20/20\n",
            "251/251 [==============================] - 1s 3ms/step - loss: 0.0211 - val_loss: 0.0038\n"
          ]
        }
      ]
    },
    {
      "cell_type": "code",
      "source": [
        "# Chosing the best epoch for the calculation of predictions.\n",
        "best_model_mlp = load_model(os.path.join('keras_mlp_models', 'Option_Prices_MLP_weights.20-0.0038.hdf5'))\n",
        "preds_mlp = best_model_mlp(array_val_scaled_X)\n",
        "\n",
        "# Option_Prices_MLP_weights.20-0.0038.hdf5, 17/05/2022"
      ],
      "metadata": {
        "id": "5D_tktDrnBAp"
      },
      "execution_count": 21,
      "outputs": []
    },
    {
      "cell_type": "code",
      "source": [
        "# Reversing the standard scalar transformation\n",
        "preds_mlp_Y = scaler_Y.inverse_transform(preds_mlp)"
      ],
      "metadata": {
        "id": "ThWETzd1ndVL"
      },
      "execution_count": 22,
      "outputs": []
    },
    {
      "cell_type": "code",
      "source": [
        "# Checking the results obtained\n",
        "preds_mlp_df = pd.DataFrame(preds_mlp_Y)\n",
        "preds_mlp_df[0].describe()"
      ],
      "metadata": {
        "colab": {
          "base_uri": "https://localhost:8080/"
        },
        "id": "k2YIu3s8ngq0",
        "outputId": "a623ebe7-216a-41a3-bf64-ee6cf202b8c9"
      },
      "execution_count": 23,
      "outputs": [
        {
          "output_type": "execute_result",
          "data": {
            "text/plain": [
              "count    1045.000000\n",
              "mean        0.839734\n",
              "std         0.325599\n",
              "min         0.067506\n",
              "25%         0.625558\n",
              "50%         0.860680\n",
              "75%         1.064954\n",
              "max         1.423999\n",
              "Name: 0, dtype: float64"
            ]
          },
          "metadata": {},
          "execution_count": 23
        }
      ]
    },
    {
      "cell_type": "code",
      "source": [
        "# ADAM OPTIMIZER, LEARNING RATE 1e-4\n",
        "def compile_and_train_2(model, num_epochs, batch_size): \n",
        "  model.compile(loss='mse', optimizer=Adam(1e-4))\n",
        "  model.summary()\n",
        "  save_weights_at = os.path.join('keras_mlp_models', 'Option_Prices_MLP_weights.{epoch:02d}-{val_loss:.4f}.hdf5')\n",
        "  save_best = ModelCheckpoint(save_weights_at, monitor='val_loss', verbose=0, save_weights_only=False,\n",
        "                                                 save_best_only=True, mode='min', period=1)\n",
        "  history = model.fit(x=array_train_scaled_X, y=array_train_scaled_Y, batch_size=batch_size, \n",
        "                     epochs=num_epochs, verbose=1, callbacks=[save_best], \n",
        "                     validation_data=(array_val_scaled_X, array_val_scaled_Y), shuffle=True)\n",
        "  return history"
      ],
      "metadata": {
        "id": "pu0nslS7yD5g"
      },
      "execution_count": 29,
      "outputs": []
    },
    {
      "cell_type": "code",
      "source": [
        "mlp_model_history_2 = compile_and_train_2(mlp_model_1, num_epochs, batch_size)"
      ],
      "metadata": {
        "colab": {
          "base_uri": "https://localhost:8080/"
        },
        "id": "napLwpSMyQEs",
        "outputId": "7e0fa74b-1518-4c9e-bf7f-104fd2496431"
      },
      "execution_count": 30,
      "outputs": [
        {
          "output_type": "stream",
          "name": "stdout",
          "text": [
            "Model: \"mlp_model\"\n",
            "_________________________________________________________________\n",
            " Layer (type)                Output Shape              Param #   \n",
            "=================================================================\n",
            " input_1 (InputLayer)        [(None, 4)]               0         \n",
            "                                                                 \n",
            " dense (Dense)               (None, 120)               600       \n",
            "                                                                 \n",
            " dense_1 (Dense)             (None, 120)               14520     \n",
            "                                                                 \n",
            " dense_2 (Dense)             (None, 120)               14520     \n",
            "                                                                 \n",
            " dense_3 (Dense)             (None, 120)               14520     \n",
            "                                                                 \n",
            " dropout (Dropout)           (None, 120)               0         \n",
            "                                                                 \n",
            " dense_4 (Dense)             (None, 1)                 121       \n",
            "                                                                 \n",
            "=================================================================\n",
            "Total params: 44,281\n",
            "Trainable params: 44,281\n",
            "Non-trainable params: 0\n",
            "_________________________________________________________________\n",
            "WARNING:tensorflow:`period` argument is deprecated. Please use `save_freq` to specify the frequency in number of batches seen.\n",
            "Epoch 1/20\n",
            "251/251 [==============================] - 1s 3ms/step - loss: 0.0185 - val_loss: 0.0131\n",
            "Epoch 2/20\n",
            "251/251 [==============================] - 1s 3ms/step - loss: 0.0154 - val_loss: 0.0391\n",
            "Epoch 3/20\n",
            "251/251 [==============================] - 1s 3ms/step - loss: 0.0128 - val_loss: 0.0906\n",
            "Epoch 4/20\n",
            "251/251 [==============================] - 1s 3ms/step - loss: 0.0115 - val_loss: 0.0988\n",
            "Epoch 5/20\n",
            "251/251 [==============================] - 1s 2ms/step - loss: 0.0098 - val_loss: 0.1449\n",
            "Epoch 6/20\n",
            "251/251 [==============================] - 1s 3ms/step - loss: 0.0092 - val_loss: 0.1402\n",
            "Epoch 7/20\n",
            "251/251 [==============================] - 1s 3ms/step - loss: 0.0092 - val_loss: 0.1467\n",
            "Epoch 8/20\n",
            "251/251 [==============================] - 1s 3ms/step - loss: 0.0086 - val_loss: 0.1859\n",
            "Epoch 9/20\n",
            "251/251 [==============================] - 1s 3ms/step - loss: 0.0071 - val_loss: 0.1707\n",
            "Epoch 10/20\n",
            "251/251 [==============================] - 1s 3ms/step - loss: 0.0064 - val_loss: 0.2104\n",
            "Epoch 11/20\n",
            "251/251 [==============================] - 1s 3ms/step - loss: 0.0068 - val_loss: 0.2140\n",
            "Epoch 12/20\n",
            "251/251 [==============================] - 1s 3ms/step - loss: 0.0064 - val_loss: 0.2116\n",
            "Epoch 13/20\n",
            "251/251 [==============================] - 1s 3ms/step - loss: 0.0064 - val_loss: 0.2338\n",
            "Epoch 14/20\n",
            "251/251 [==============================] - 1s 3ms/step - loss: 0.0059 - val_loss: 0.1794\n",
            "Epoch 15/20\n",
            "251/251 [==============================] - 1s 3ms/step - loss: 0.0062 - val_loss: 0.2279\n",
            "Epoch 16/20\n",
            "251/251 [==============================] - 1s 2ms/step - loss: 0.0055 - val_loss: 0.2029\n",
            "Epoch 17/20\n",
            "251/251 [==============================] - 1s 3ms/step - loss: 0.0057 - val_loss: 0.1790\n",
            "Epoch 18/20\n",
            "251/251 [==============================] - 1s 2ms/step - loss: 0.0055 - val_loss: 0.1997\n",
            "Epoch 19/20\n",
            "251/251 [==============================] - 1s 2ms/step - loss: 0.0056 - val_loss: 0.1683\n",
            "Epoch 20/20\n",
            "251/251 [==============================] - 1s 3ms/step - loss: 0.0052 - val_loss: 0.1542\n"
          ]
        }
      ]
    },
    {
      "cell_type": "code",
      "source": [
        "# Chosing the best epoch for the calculation of predictions.\n",
        "best_model_mlp_2 = load_model(os.path.join('keras_mlp_models', 'Option_Prices_MLP_weights.01-0.0131.hdf5'))\n",
        "preds_mlp_2 = best_model_mlp_2(array_val_scaled_X)\n",
        "\n",
        "# Option_Prices_MLP_weights.01-0.0131.hdf5, 17/05/2022"
      ],
      "metadata": {
        "id": "N7r7cNlWyWJs"
      },
      "execution_count": 31,
      "outputs": []
    },
    {
      "cell_type": "code",
      "source": [
        "# Reversing the standard scalar transformation\n",
        "preds_mlp_Y_2 = scaler_Y.inverse_transform(preds_mlp_2)"
      ],
      "metadata": {
        "id": "-mIoctBvzUVG"
      },
      "execution_count": 35,
      "outputs": []
    },
    {
      "cell_type": "code",
      "source": [
        "# Checking the results obtained\n",
        "preds_mlp_df_2 = pd.DataFrame(preds_mlp_Y_2)\n",
        "preds_mlp_df_2[0].describe()"
      ],
      "metadata": {
        "colab": {
          "base_uri": "https://localhost:8080/"
        },
        "id": "ssHsZlcPzwtu",
        "outputId": "9e703d50-9e93-477c-d4a7-be8f48c05e22"
      },
      "execution_count": 37,
      "outputs": [
        {
          "output_type": "execute_result",
          "data": {
            "text/plain": [
              "count    1045.000000\n",
              "mean        0.987609\n",
              "std         0.415031\n",
              "min         0.053919\n",
              "25%         0.713509\n",
              "50%         1.006668\n",
              "75%         1.306468\n",
              "max         1.802148\n",
              "Name: 0, dtype: float64"
            ]
          },
          "metadata": {},
          "execution_count": 37
        }
      ]
    },
    {
      "cell_type": "code",
      "source": [
        "# ADAM OPTIMIZER, LEARNING RATE 1e-3\n",
        "def compile_and_train_3(model, num_epochs, batch_size): \n",
        "  model.compile(loss='mse', optimizer=Adam(1e-3))\n",
        "  model.summary()\n",
        "  save_weights_at = os.path.join('keras_mlp_models', 'Option_Prices_MLP_weights.{epoch:02d}-{val_loss:.4f}.hdf5')\n",
        "  save_best = ModelCheckpoint(save_weights_at, monitor='val_loss', verbose=0, save_weights_only=False,\n",
        "                                                 save_best_only=True, mode='min', period=1)\n",
        "  history = model.fit(x=array_train_scaled_X, y=array_train_scaled_Y, batch_size=batch_size, \n",
        "                     epochs=num_epochs, verbose=1, callbacks=[save_best], \n",
        "                     validation_data=(array_val_scaled_X, array_val_scaled_Y), shuffle=True)\n",
        "  return history"
      ],
      "metadata": {
        "id": "bFubMRkK0utN"
      },
      "execution_count": 42,
      "outputs": []
    },
    {
      "cell_type": "code",
      "source": [
        "mlp_model_history_3 = compile_and_train_3(mlp_model_1, num_epochs, batch_size)"
      ],
      "metadata": {
        "colab": {
          "base_uri": "https://localhost:8080/"
        },
        "id": "Ouzpd8_b05FM",
        "outputId": "88428f99-9971-44c3-dd9b-580d86415216"
      },
      "execution_count": 43,
      "outputs": [
        {
          "output_type": "stream",
          "name": "stdout",
          "text": [
            "Model: \"mlp_model\"\n",
            "_________________________________________________________________\n",
            " Layer (type)                Output Shape              Param #   \n",
            "=================================================================\n",
            " input_1 (InputLayer)        [(None, 4)]               0         \n",
            "                                                                 \n",
            " dense (Dense)               (None, 120)               600       \n",
            "                                                                 \n",
            " dense_1 (Dense)             (None, 120)               14520     \n",
            "                                                                 \n",
            " dense_2 (Dense)             (None, 120)               14520     \n",
            "                                                                 \n",
            " dense_3 (Dense)             (None, 120)               14520     \n",
            "                                                                 \n",
            " dropout (Dropout)           (None, 120)               0         \n",
            "                                                                 \n",
            " dense_4 (Dense)             (None, 1)                 121       \n",
            "                                                                 \n",
            "=================================================================\n",
            "Total params: 44,281\n",
            "Trainable params: 44,281\n",
            "Non-trainable params: 0\n",
            "_________________________________________________________________\n",
            "WARNING:tensorflow:`period` argument is deprecated. Please use `save_freq` to specify the frequency in number of batches seen.\n",
            "Epoch 1/20\n",
            "251/251 [==============================] - 1s 3ms/step - loss: 0.0124 - val_loss: 0.2992\n",
            "Epoch 2/20\n",
            "251/251 [==============================] - 1s 3ms/step - loss: 0.0127 - val_loss: 0.2726\n",
            "Epoch 3/20\n",
            "251/251 [==============================] - 1s 3ms/step - loss: 0.0094 - val_loss: 0.2404\n",
            "Epoch 4/20\n",
            "251/251 [==============================] - 1s 3ms/step - loss: 0.0107 - val_loss: 0.2444\n",
            "Epoch 5/20\n",
            "251/251 [==============================] - 1s 3ms/step - loss: 0.0106 - val_loss: 0.1303\n",
            "Epoch 6/20\n",
            "251/251 [==============================] - 1s 3ms/step - loss: 0.0077 - val_loss: 0.2987\n",
            "Epoch 7/20\n",
            "251/251 [==============================] - 1s 3ms/step - loss: 0.0069 - val_loss: 0.2243\n",
            "Epoch 8/20\n",
            "251/251 [==============================] - 1s 3ms/step - loss: 0.0084 - val_loss: 0.2181\n",
            "Epoch 9/20\n",
            "251/251 [==============================] - 1s 3ms/step - loss: 0.0060 - val_loss: 0.2321\n",
            "Epoch 10/20\n",
            "251/251 [==============================] - 1s 3ms/step - loss: 0.0077 - val_loss: 0.2561\n",
            "Epoch 11/20\n",
            "251/251 [==============================] - 1s 3ms/step - loss: 0.0078 - val_loss: 0.3041\n",
            "Epoch 12/20\n",
            "251/251 [==============================] - 1s 3ms/step - loss: 0.0068 - val_loss: 0.3729\n",
            "Epoch 13/20\n",
            "251/251 [==============================] - 1s 3ms/step - loss: 0.0062 - val_loss: 0.2312\n",
            "Epoch 14/20\n",
            "251/251 [==============================] - 1s 3ms/step - loss: 0.0070 - val_loss: 0.3229\n",
            "Epoch 15/20\n",
            "251/251 [==============================] - 1s 3ms/step - loss: 0.0065 - val_loss: 0.3454\n",
            "Epoch 16/20\n",
            "251/251 [==============================] - 1s 3ms/step - loss: 0.0067 - val_loss: 0.2687\n",
            "Epoch 17/20\n",
            "251/251 [==============================] - 1s 3ms/step - loss: 0.0089 - val_loss: 0.2604\n",
            "Epoch 18/20\n",
            "251/251 [==============================] - 1s 3ms/step - loss: 0.0068 - val_loss: 0.2103\n",
            "Epoch 19/20\n",
            "251/251 [==============================] - 1s 3ms/step - loss: 0.0062 - val_loss: 0.1928\n",
            "Epoch 20/20\n",
            "251/251 [==============================] - 1s 3ms/step - loss: 0.0069 - val_loss: 0.2830\n"
          ]
        }
      ]
    },
    {
      "cell_type": "code",
      "source": [
        "# Chosing the best epoch for the calculation of predictions.\n",
        "best_model_mlp_3 = load_model(os.path.join('keras_mlp_models', 'Option_Prices_MLP_weights.05-0.1303.hdf5'))\n",
        "preds_mlp_3 = best_model_mlp_3(array_val_scaled_X)\n",
        "\n",
        "# Option_Prices_MLP_weights.05-0.1303.hdf5"
      ],
      "metadata": {
        "id": "Np6x7PXj1QfI"
      },
      "execution_count": 44,
      "outputs": []
    },
    {
      "cell_type": "code",
      "source": [
        "# Reversing the standard scalar transformation\n",
        "preds_mlp_Y_3 = scaler_Y.inverse_transform(preds_mlp_3)\n"
      ],
      "metadata": {
        "id": "BpxXP39L1sOS"
      },
      "execution_count": 45,
      "outputs": []
    },
    {
      "cell_type": "code",
      "source": [
        "# Checking the results obtained\n",
        "preds_mlp_df_3 = pd.DataFrame(preds_mlp_Y_3)\n",
        "preds_mlp_df_3[0].describe()"
      ],
      "metadata": {
        "colab": {
          "base_uri": "https://localhost:8080/"
        },
        "id": "m6wifQGe1ygL",
        "outputId": "f23c717f-2d8e-48b8-b88a-b3af661e3f59"
      },
      "execution_count": 46,
      "outputs": [
        {
          "output_type": "execute_result",
          "data": {
            "text/plain": [
              "count    1045.000000\n",
              "mean        1.405632\n",
              "std         0.683807\n",
              "min         0.211567\n",
              "25%         0.947398\n",
              "50%         1.355500\n",
              "75%         2.087385\n",
              "max         2.735770\n",
              "Name: 0, dtype: float64"
            ]
          },
          "metadata": {},
          "execution_count": 46
        }
      ]
    },
    {
      "cell_type": "code",
      "source": [
        "# ADAM OPTIMIZER, LEARNING RATE 1e-6\n",
        "def compile_and_train_4(model, num_epochs, batch_size): \n",
        "  model.compile(loss='mse', optimizer=Adam(1e-6))\n",
        "  model.summary()\n",
        "  save_weights_at = os.path.join('keras_mlp_models', 'Option_Prices_MLP_weights.{epoch:02d}-{val_loss:.4f}.hdf5')\n",
        "  save_best = ModelCheckpoint(save_weights_at, monitor='val_loss', verbose=0, save_weights_only=False,\n",
        "                                                 save_best_only=True, mode='min', period=1)\n",
        "  history = model.fit(x=array_train_scaled_X, y=array_train_scaled_Y, batch_size=batch_size, \n",
        "                     epochs=num_epochs, verbose=1, callbacks=[save_best], \n",
        "                     validation_data=(array_val_scaled_X, array_val_scaled_Y), shuffle=True)\n",
        "  return history"
      ],
      "metadata": {
        "id": "tescMmvP2wC2"
      },
      "execution_count": 53,
      "outputs": []
    },
    {
      "cell_type": "code",
      "source": [
        "mlp_model_history_4 = compile_and_train_4(mlp_model_1, num_epochs, batch_size)"
      ],
      "metadata": {
        "colab": {
          "base_uri": "https://localhost:8080/"
        },
        "id": "t7t7i4EO26fb",
        "outputId": "e8b181b1-0335-427c-fafe-bd501f1e537a"
      },
      "execution_count": 54,
      "outputs": [
        {
          "output_type": "stream",
          "name": "stdout",
          "text": [
            "Model: \"mlp_model\"\n",
            "_________________________________________________________________\n",
            " Layer (type)                Output Shape              Param #   \n",
            "=================================================================\n",
            " input_1 (InputLayer)        [(None, 4)]               0         \n",
            "                                                                 \n",
            " dense (Dense)               (None, 120)               600       \n",
            "                                                                 \n",
            " dense_1 (Dense)             (None, 120)               14520     \n",
            "                                                                 \n",
            " dense_2 (Dense)             (None, 120)               14520     \n",
            "                                                                 \n",
            " dense_3 (Dense)             (None, 120)               14520     \n",
            "                                                                 \n",
            " dropout (Dropout)           (None, 120)               0         \n",
            "                                                                 \n",
            " dense_4 (Dense)             (None, 1)                 121       \n",
            "                                                                 \n",
            "=================================================================\n",
            "Total params: 44,281\n",
            "Trainable params: 44,281\n",
            "Non-trainable params: 0\n",
            "_________________________________________________________________\n",
            "WARNING:tensorflow:`period` argument is deprecated. Please use `save_freq` to specify the frequency in number of batches seen.\n",
            "Epoch 1/20\n",
            "251/251 [==============================] - 1s 3ms/step - loss: 0.0041 - val_loss: 0.2827\n",
            "Epoch 2/20\n",
            "251/251 [==============================] - 1s 3ms/step - loss: 0.0039 - val_loss: 0.2825\n",
            "Epoch 3/20\n",
            "251/251 [==============================] - 1s 4ms/step - loss: 0.0043 - val_loss: 0.2809\n",
            "Epoch 4/20\n",
            "251/251 [==============================] - 1s 3ms/step - loss: 0.0039 - val_loss: 0.2823\n",
            "Epoch 5/20\n",
            "251/251 [==============================] - 1s 3ms/step - loss: 0.0042 - val_loss: 0.2830\n",
            "Epoch 6/20\n",
            "251/251 [==============================] - 1s 2ms/step - loss: 0.0043 - val_loss: 0.2825\n",
            "Epoch 7/20\n",
            "251/251 [==============================] - 1s 3ms/step - loss: 0.0039 - val_loss: 0.2833\n",
            "Epoch 8/20\n",
            "251/251 [==============================] - 1s 3ms/step - loss: 0.0042 - val_loss: 0.2826\n",
            "Epoch 9/20\n",
            "251/251 [==============================] - 1s 2ms/step - loss: 0.0036 - val_loss: 0.2826\n",
            "Epoch 10/20\n",
            "251/251 [==============================] - 1s 3ms/step - loss: 0.0038 - val_loss: 0.2831\n",
            "Epoch 11/20\n",
            "251/251 [==============================] - 1s 3ms/step - loss: 0.0039 - val_loss: 0.2836\n",
            "Epoch 12/20\n",
            "251/251 [==============================] - 1s 2ms/step - loss: 0.0042 - val_loss: 0.2842\n",
            "Epoch 13/20\n",
            "251/251 [==============================] - 1s 3ms/step - loss: 0.0039 - val_loss: 0.2850\n",
            "Epoch 14/20\n",
            "251/251 [==============================] - 1s 3ms/step - loss: 0.0043 - val_loss: 0.2853\n",
            "Epoch 15/20\n",
            "251/251 [==============================] - 1s 3ms/step - loss: 0.0042 - val_loss: 0.2854\n",
            "Epoch 16/20\n",
            "251/251 [==============================] - 1s 3ms/step - loss: 0.0039 - val_loss: 0.2851\n",
            "Epoch 17/20\n",
            "251/251 [==============================] - 1s 3ms/step - loss: 0.0038 - val_loss: 0.2860\n",
            "Epoch 18/20\n",
            "251/251 [==============================] - 1s 2ms/step - loss: 0.0038 - val_loss: 0.2870\n",
            "Epoch 19/20\n",
            "251/251 [==============================] - 1s 3ms/step - loss: 0.0039 - val_loss: 0.2866\n",
            "Epoch 20/20\n",
            "251/251 [==============================] - 1s 3ms/step - loss: 0.0040 - val_loss: 0.2859\n"
          ]
        }
      ]
    },
    {
      "cell_type": "code",
      "source": [
        "# Chosing the best epoch for the calculation of predictions.\n",
        "best_model_mlp_4 = load_model(os.path.join('keras_mlp_models', 'Option_Prices_MLP_weights.03-0.2809.hdf5'))\n",
        "preds_mlp_4 = best_model_mlp_4(array_val_scaled_X)\n",
        "\n",
        "# Option_Prices_MLP_weights.03-0.2809.hdf5"
      ],
      "metadata": {
        "id": "lSQt4rl529U9"
      },
      "execution_count": 55,
      "outputs": []
    },
    {
      "cell_type": "code",
      "source": [
        "# Reversing the standard scalar transformation\n",
        "preds_mlp_Y_4 = scaler_Y.inverse_transform(preds_mlp_4)"
      ],
      "metadata": {
        "id": "uuAH-A6Z2898"
      },
      "execution_count": 56,
      "outputs": []
    },
    {
      "cell_type": "code",
      "source": [
        "# Checking the results obtained\n",
        "preds_mlp_df_4 = pd.DataFrame(preds_mlp_Y_4)\n",
        "preds_mlp_df_4[0].describe()"
      ],
      "metadata": {
        "colab": {
          "base_uri": "https://localhost:8080/"
        },
        "id": "dyrL_qEN3NBC",
        "outputId": "f9adc001-ade6-46d7-a3ea-57aa20d359e6"
      },
      "execution_count": 57,
      "outputs": [
        {
          "output_type": "execute_result",
          "data": {
            "text/plain": [
              "count    1045.000000\n",
              "mean        1.722137\n",
              "std         0.794052\n",
              "min         0.416848\n",
              "25%         1.164356\n",
              "50%         1.626598\n",
              "75%         2.503083\n",
              "max         3.234928\n",
              "Name: 0, dtype: float64"
            ]
          },
          "metadata": {},
          "execution_count": 57
        }
      ]
    },
    {
      "cell_type": "markdown",
      "source": [
        "**7. Results**"
      ],
      "metadata": {
        "id": "VDgcaGSznvwa"
      }
    },
    {
      "cell_type": "code",
      "source": [
        "# Plotting actual vs predicted values\n",
        "plt.figure(figsize=(10.5, 5.5))\n",
        "plt.plot(df_val['option_price'], linestyle='-', marker='.', linewidth=1, color='orangered')\n",
        "plt.plot(preds_mlp_df, linestyle='-', marker='.', linewidth=1, color='royalblue')\n",
        "plt.legend(['Actual','Predicted'], loc=2)\n",
        "plt.title('Actual vs Predicted Option prices - MLP (Learning Rate 1e-5)')\n",
        "plt.ylabel('Option prices')\n",
        "plt.xlabel('Time series steps')\n",
        "plot_path = 'sample_data'\n",
        "plot_file = 'mlp_lr1e-5.png'\n",
        "plt.savefig(os.path.join(plot_path, plot_file), format='png', dpi=300)"
      ],
      "metadata": {
        "colab": {
          "base_uri": "https://localhost:8080/",
          "height": 377
        },
        "id": "NeXHFG2hnjtD",
        "outputId": "a9bc259f-ac86-4e39-8978-0a2b40e8ef77"
      },
      "execution_count": 48,
      "outputs": [
        {
          "output_type": "display_data",
          "data": {
            "text/plain": [
              "<Figure size 756x396 with 1 Axes>"
            ],
            "image/png": "[encoded data removed]"
          },
          "metadata": {
            "needs_background": "light"
          }
        }
      ]
    },
    {
      "cell_type": "code",
      "source": [
        "# Plotting actual vs predicted values\n",
        "plt.figure(figsize=(10.5, 5.5))\n",
        "plt.plot(df_val['option_price'], linestyle='-', marker='.', linewidth=1, color='orangered')\n",
        "plt.plot(preds_mlp_df_2, linestyle='-', marker='.', linewidth=1, color='royalblue')\n",
        "plt.legend(['Actual','Predicted'], loc=2)\n",
        "plt.title('Actual vs Predicted Option prices - MLP (Learning Rate 1e-4)')\n",
        "plt.ylabel('Option prices')\n",
        "plt.xlabel('Time series steps')\n",
        "plot_path = 'sample_data'\n",
        "plot_file = 'mlp_lr1e-4.png'\n",
        "plt.savefig(os.path.join(plot_path, plot_file), format='png', dpi=300)"
      ],
      "metadata": {
        "colab": {
          "base_uri": "https://localhost:8080/",
          "height": 377
        },
        "id": "7GwKN9N-ziof",
        "outputId": "4bf7c5a8-ac31-45a4-98a0-b53c262b57df"
      },
      "execution_count": 49,
      "outputs": [
        {
          "output_type": "display_data",
          "data": {
            "text/plain": [
              "<Figure size 756x396 with 1 Axes>"
            ],
            "image/png": "[encoded data removed]"
          },
          "metadata": {
            "needs_background": "light"
          }
        }
      ]
    },
    {
      "cell_type": "code",
      "source": [
        "# Plotting actual vs predicted values\n",
        "plt.figure(figsize=(10.5, 5.5))\n",
        "plt.plot(df_val['option_price'], linestyle='-', marker='.', linewidth=1, color='orangered')\n",
        "plt.plot(preds_mlp_df_3, linestyle='-', marker='.', linewidth=1, color='royalblue')\n",
        "plt.legend(['Actual','Predicted'], loc=2)\n",
        "plt.title('Actual vs Predicted Option prices - MLP (Learning Rate 1e-3)')\n",
        "plt.ylabel('Option prices')\n",
        "plt.xlabel('Time series steps')\n",
        "plot_path = 'sample_data'\n",
        "plot_file = 'mlp_lr1e-3.png'\n",
        "plt.savefig(os.path.join(plot_path, plot_file), format='png', dpi=300)"
      ],
      "metadata": {
        "colab": {
          "base_uri": "https://localhost:8080/",
          "height": 377
        },
        "id": "DkMgLDWt2Rht",
        "outputId": "f257c41a-d56c-467b-ac8f-7acc2545aba4"
      },
      "execution_count": 50,
      "outputs": [
        {
          "output_type": "display_data",
          "data": {
            "text/plain": [
              "<Figure size 756x396 with 1 Axes>"
            ],
            "image/png": "[encoded data removed]"
          },
          "metadata": {
            "needs_background": "light"
          }
        }
      ]
    },
    {
      "cell_type": "code",
      "source": [
        "# Plotting actual vs predicted values\n",
        "plt.figure(figsize=(10.5, 5.5))\n",
        "plt.plot(df_val['option_price'], linestyle='-', marker='.', linewidth=1, color='orangered')\n",
        "plt.plot(preds_mlp_df_4, linestyle='-', marker='.', linewidth=1, color='royalblue')\n",
        "plt.legend(['Actual','Predicted'], loc=2)\n",
        "plt.title('Actual vs Predicted Option prices - MLP (Learning Rate 1e-6)')\n",
        "plt.ylabel('Option prices')\n",
        "plt.xlabel('Time series steps')\n",
        "plot_path = 'sample_data'\n",
        "plot_file = 'mlp_lr1e-6.png'\n",
        "plt.savefig(os.path.join(plot_path, plot_file), format='png', dpi=300)"
      ],
      "metadata": {
        "colab": {
          "base_uri": "https://localhost:8080/",
          "height": 377
        },
        "id": "1CDQvmRL34NV",
        "outputId": "2b72bdcf-aac0-43e8-b193-621c3d1ef4ed"
      },
      "execution_count": 59,
      "outputs": [
        {
          "output_type": "display_data",
          "data": {
            "text/plain": [
              "<Figure size 756x396 with 1 Axes>"
            ],
            "image/png": "[encoded data removed]"
          },
          "metadata": {
            "needs_background": "light"
          }
        }
      ]
    },
    {
      "cell_type": "code",
      "source": [
        "from sklearn.metrics import mean_absolute_error, mean_squared_error, mean_absolute_percentage_error, r2_score\n",
        "from math import sqrt"
      ],
      "metadata": {
        "id": "AQNt9w--oQBV"
      },
      "execution_count": 25,
      "outputs": []
    },
    {
      "cell_type": "code",
      "source": [
        "# Creating a dataframe for validation data\n",
        "actual_option_df = df_val[['option_price']].copy()\n",
        "actual_option_df.shape"
      ],
      "metadata": {
        "colab": {
          "base_uri": "https://localhost:8080/"
        },
        "id": "vIOX0CiToVWo",
        "outputId": "6936ee7e-797f-4fcb-9b5c-0137fb56c706"
      },
      "execution_count": 26,
      "outputs": [
        {
          "output_type": "execute_result",
          "data": {
            "text/plain": [
              "(1045, 1)"
            ]
          },
          "metadata": {},
          "execution_count": 26
        }
      ]
    },
    {
      "cell_type": "code",
      "source": [
        "def compute_metrics():\n",
        "  rmse = sqrt(mean_squared_error(actual_option_df, preds_mlp_df))\n",
        "  mae = mean_absolute_error(actual_option_df, preds_mlp_df)\n",
        "  mape = mean_absolute_percentage_error(actual_option_df, preds_mlp_df)\n",
        "  r_squared = r2_score(actual_option_df, preds_mlp_df)\n",
        "  return rmse, mae, mape, r_squared"
      ],
      "metadata": {
        "id": "h2Yhi8AyoZIZ"
      },
      "execution_count": 27,
      "outputs": []
    },
    {
      "cell_type": "code",
      "source": [
        "rmse, mae, mape, r_squared = compute_metrics()\n",
        "\n",
        "print('RMSE for the validation set:', round(rmse, 4))\n",
        "print('MAE for the validation set:', round(mae, 4))\n",
        "print('MAPE for the validation set:', round(mape, 4))\n",
        "print('R Squared for the validation set:', round(r_squared, 4))"
      ],
      "metadata": {
        "colab": {
          "base_uri": "https://localhost:8080/"
        },
        "id": "EXwlkny-oc_I",
        "outputId": "55a11698-ca7a-468a-bb4b-af307e92af8f"
      },
      "execution_count": 28,
      "outputs": [
        {
          "output_type": "stream",
          "name": "stdout",
          "text": [
            "RMSE for the validation set: 0.1167\n",
            "MAE for the validation set: 0.0863\n",
            "MAPE for the validation set: 0.1252\n",
            "R Squared for the validation set: 0.7926\n"
          ]
        }
      ]
    },
    {
      "cell_type": "code",
      "source": [
        "def compute_metrics_2():\n",
        "  rmse = sqrt(mean_squared_error(actual_option_df, preds_mlp_df_2))\n",
        "  mae = mean_absolute_error(actual_option_df, preds_mlp_df_2)\n",
        "  mape = mean_absolute_percentage_error(actual_option_df, preds_mlp_df_2)\n",
        "  r_squared = r2_score(actual_option_df, preds_mlp_df_2)\n",
        "  return rmse, mae, mape, r_squared"
      ],
      "metadata": {
        "id": "DDRCsjoRz_qs"
      },
      "execution_count": 39,
      "outputs": []
    },
    {
      "cell_type": "code",
      "source": [
        "rmse, mae, mape, r_squared = compute_metrics_2()\n",
        "\n",
        "print('RMSE for the validation set:', round(rmse, 4))\n",
        "print('MAE for the validation set:', round(mae, 4))\n",
        "print('MAPE for the validation set:', round(mape, 4))\n",
        "print('R Squared for the validation set:', round(r_squared, 4))"
      ],
      "metadata": {
        "colab": {
          "base_uri": "https://localhost:8080/"
        },
        "id": "oqaEWWyH0H44",
        "outputId": "c9d3f915-ca9d-4099-d225-e3f65e1a075f"
      },
      "execution_count": 40,
      "outputs": [
        {
          "output_type": "stream",
          "name": "stdout",
          "text": [
            "RMSE for the validation set: 0.2166\n",
            "MAE for the validation set: 0.1889\n",
            "MAPE for the validation set: 0.2247\n",
            "R Squared for the validation set: 0.2859\n"
          ]
        }
      ]
    },
    {
      "cell_type": "code",
      "source": [
        "def compute_metrics_3():\n",
        "  rmse = sqrt(mean_squared_error(actual_option_df, preds_mlp_df_3))\n",
        "  mae = mean_absolute_error(actual_option_df, preds_mlp_df_3)\n",
        "  mape = mean_absolute_percentage_error(actual_option_df, preds_mlp_df_3)\n",
        "  r_squared = r2_score(actual_option_df, preds_mlp_df_3)\n",
        "  return rmse, mae, mape, r_squared"
      ],
      "metadata": {
        "id": "9zaS3L3M2YlC"
      },
      "execution_count": 51,
      "outputs": []
    },
    {
      "cell_type": "code",
      "source": [
        "rmse, mae, mape, r_squared = compute_metrics_3()\n",
        "\n",
        "print('RMSE for the validation set:', round(rmse, 4))\n",
        "print('MAE for the validation set:', round(mae, 4))\n",
        "print('MAPE for the validation set:', round(mape, 4))\n",
        "print('R Squared for the validation set:', round(r_squared, 4))"
      ],
      "metadata": {
        "colab": {
          "base_uri": "https://localhost:8080/"
        },
        "id": "lP0dEvBY2ZzO",
        "outputId": "63123892-6b3b-432b-c873-e872626eda06"
      },
      "execution_count": 52,
      "outputs": [
        {
          "output_type": "stream",
          "name": "stdout",
          "text": [
            "RMSE for the validation set: 0.6843\n",
            "MAE for the validation set: 0.5678\n",
            "MAPE for the validation set: 0.5814\n",
            "R Squared for the validation set: -6.1267\n"
          ]
        }
      ]
    },
    {
      "cell_type": "code",
      "source": [
        "def compute_metrics_4():\n",
        "  rmse = sqrt(mean_squared_error(actual_option_df, preds_mlp_df_4))\n",
        "  mae = mean_absolute_error(actual_option_df, preds_mlp_df_4)\n",
        "  mape = mean_absolute_percentage_error(actual_option_df, preds_mlp_df_4)\n",
        "  r_squared = r2_score(actual_option_df, preds_mlp_df_4)\n",
        "  return rmse, mae, mape, r_squared"
      ],
      "metadata": {
        "id": "Io8S_Y664Gyt"
      },
      "execution_count": 60,
      "outputs": []
    },
    {
      "cell_type": "code",
      "source": [
        "mse, mae, mape, r_squared = compute_metrics_3()\n",
        "\n",
        "print('RMSE for the validation set:', round(rmse, 4))\n",
        "print('MAE for the validation set:', round(mae, 4))\n",
        "print('MAPE for the validation set:', round(mape, 4))\n",
        "print('R Squared for the validation set:', round(r_squared, 4))"
      ],
      "metadata": {
        "colab": {
          "base_uri": "https://localhost:8080/"
        },
        "id": "7IBhPdCb4QlA",
        "outputId": "d90e8037-d8c6-4d15-dbb5-30d4114dd495"
      },
      "execution_count": 61,
      "outputs": [
        {
          "output_type": "stream",
          "name": "stdout",
          "text": [
            "RMSE for the validation set: 0.6843\n",
            "MAE for the validation set: 0.5678\n",
            "MAPE for the validation set: 0.5814\n",
            "R Squared for the validation set: -6.1267\n"
          ]
        }
      ]
    }
  ]
}