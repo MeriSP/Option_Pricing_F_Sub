{
  "nbformat": 4,
  "nbformat_minor": 0,
  "metadata": {
    "colab": {
      "name": "LSTM_ShortPaperSpecs_AdamOptimizer.ipynb",
      "provenance": [],
      "collapsed_sections": [],
      "authorship_tag": "ABX9TyN1Cg4v0oY8p0AsdCCv2BH1",
      "include_colab_link": true
    },
    "kernelspec": {
      "name": "python3",
      "display_name": "Python 3"
    },
    "language_info": {
      "name": "python"
    }
  },
  "cells": [
    {
      "cell_type": "markdown",
      "metadata": {
        "id": "view-in-github",
        "colab_type": "text"
      },
      "source": [
        "<a href=\"https://colab.research.google.com/github/MeriSP/Option_Pricing_F_Sub/blob/main/LSTM_ShortPaperSpecs_AdamOptimizer.ipynb\" target=\"_parent\"><img src=\"https://colab.research.google.com/assets/colab-badge.svg\" alt=\"Open In Colab\"/></a>"
      ]
    },
    {
      "cell_type": "markdown",
      "source": [
        "**1. Importing the necessay libraries**"
      ],
      "metadata": {
        "id": "NvNKJh_4WXQZ"
      }
    },
    {
      "cell_type": "code",
      "source": [
        "import os\n",
        "import sys\n",
        "import pandas as pd\n",
        "import numpy as np\n",
        "%matplotlib inline\n",
        "from matplotlib import pyplot as plt\n",
        "import seaborn as sns\n",
        "import datetime"
      ],
      "metadata": {
        "id": "T8M0tconfonK"
      },
      "execution_count": 1,
      "outputs": []
    },
    {
      "cell_type": "markdown",
      "source": [
        "**2. Uploading the dataset**"
      ],
      "metadata": {
        "id": "NpJ0COBmWZTA"
      }
    },
    {
      "cell_type": "code",
      "source": [
        "# Step 1. Upload file \"AlgoSeek_SPy500Jun172022.csv\" to Google Colab Document\n",
        "df = pd.read_csv('/content/sample_data/AlgoSeek_SPy500Jun172022.csv')\n",
        "df.head(5)"
      ],
      "metadata": {
        "colab": {
          "base_uri": "https://localhost:8080/",
          "height": 270
        },
        "id": "8nYyoWlmfvhQ",
        "outputId": "83b64a56-f12d-4768-a83c-3d44df597ddd"
      },
      "execution_count": 2,
      "outputs": [
        {
          "output_type": "execute_result",
          "data": {
            "text/plain": [
              "   No      date TimeBarStart  year  month  day  hour  minute ticker call  \\\n",
              "0   1  20220103  10:01:00 AM  2022      1    3    10       1    SPY    C   \n",
              "1   2  20220103  10:05:00 AM  2022      1    3    10       5    SPY    C   \n",
              "2   3  20220103  10:37:00 AM  2022      1    3    10      37    SPY    C   \n",
              "3   4  20220103  11:11:00 AM  2022      1    3    11      11    SPY    C   \n",
              "4   5  20220103  11:18:00 AM  2022      1    3    11      18    SPY    C   \n",
              "\n",
              "   strike expiration_date  option_price  underlying_price  moneyness  \\\n",
              "0     500       6/17/2022          9.33           475.535    0.95107   \n",
              "1     500       6/17/2022          9.16           475.195    0.95039   \n",
              "2     500       6/17/2022          9.37           475.995    0.95199   \n",
              "3     500       6/17/2022          9.20           475.565    0.95113   \n",
              "4     500       6/17/2022          9.07           475.240    0.95048   \n",
              "\n",
              "   days_to_ex  std_underlying  treasury_rate  \n",
              "0         118        0.001322           0.22  \n",
              "1         118        0.001181           0.22  \n",
              "2         118        0.001080           0.22  \n",
              "3         118        0.001175           0.22  \n",
              "4         118        0.001065           0.22  "
            ],
            "text/html": [
              "\n",
              "  <div id=\"df-31718124-9b3d-4e9b-a12f-4196021b3600\">\n",
              "    <div class=\"colab-df-container\">\n",
              "      <div>\n",
              "<style scoped>\n",
              "    .dataframe tbody tr th:only-of-type {\n",
              "        vertical-align: middle;\n",
              "    }\n",
              "\n",
              "    .dataframe tbody tr th {\n",
              "        vertical-align: top;\n",
              "    }\n",
              "\n",
              "    .dataframe thead th {\n",
              "        text-align: right;\n",
              "    }\n",
              "</style>\n",
              "<table border=\"1\" class=\"dataframe\">\n",
              "  <thead>\n",
              "    <tr style=\"text-align: right;\">\n",
              "      <th></th>\n",
              "      <th>No</th>\n",
              "      <th>date</th>\n",
              "      <th>TimeBarStart</th>\n",
              "      <th>year</th>\n",
              "      <th>month</th>\n",
              "      <th>day</th>\n",
              "      <th>hour</th>\n",
              "      <th>minute</th>\n",
              "      <th>ticker</th>\n",
              "      <th>call</th>\n",
              "      <th>strike</th>\n",
              "      <th>expiration_date</th>\n",
              "      <th>option_price</th>\n",
              "      <th>underlying_price</th>\n",
              "      <th>moneyness</th>\n",
              "      <th>days_to_ex</th>\n",
              "      <th>std_underlying</th>\n",
              "      <th>treasury_rate</th>\n",
              "    </tr>\n",
              "  </thead>\n",
              "  <tbody>\n",
              "    <tr>\n",
              "      <th>0</th>\n",
              "      <td>1</td>\n",
              "      <td>20220103</td>\n",
              "      <td>10:01:00 AM</td>\n",
              "      <td>2022</td>\n",
              "      <td>1</td>\n",
              "      <td>3</td>\n",
              "      <td>10</td>\n",
              "      <td>1</td>\n",
              "      <td>SPY</td>\n",
              "      <td>C</td>\n",
              "      <td>500</td>\n",
              "      <td>6/17/2022</td>\n",
              "      <td>9.33</td>\n",
              "      <td>475.535</td>\n",
              "      <td>0.95107</td>\n",
              "      <td>118</td>\n",
              "      <td>0.001322</td>\n",
              "      <td>0.22</td>\n",
              "    </tr>\n",
              "    <tr>\n",
              "      <th>1</th>\n",
              "      <td>2</td>\n",
              "      <td>20220103</td>\n",
              "      <td>10:05:00 AM</td>\n",
              "      <td>2022</td>\n",
              "      <td>1</td>\n",
              "      <td>3</td>\n",
              "      <td>10</td>\n",
              "      <td>5</td>\n",
              "      <td>SPY</td>\n",
              "      <td>C</td>\n",
              "      <td>500</td>\n",
              "      <td>6/17/2022</td>\n",
              "      <td>9.16</td>\n",
              "      <td>475.195</td>\n",
              "      <td>0.95039</td>\n",
              "      <td>118</td>\n",
              "      <td>0.001181</td>\n",
              "      <td>0.22</td>\n",
              "    </tr>\n",
              "    <tr>\n",
              "      <th>2</th>\n",
              "      <td>3</td>\n",
              "      <td>20220103</td>\n",
              "      <td>10:37:00 AM</td>\n",
              "      <td>2022</td>\n",
              "      <td>1</td>\n",
              "      <td>3</td>\n",
              "      <td>10</td>\n",
              "      <td>37</td>\n",
              "      <td>SPY</td>\n",
              "      <td>C</td>\n",
              "      <td>500</td>\n",
              "      <td>6/17/2022</td>\n",
              "      <td>9.37</td>\n",
              "      <td>475.995</td>\n",
              "      <td>0.95199</td>\n",
              "      <td>118</td>\n",
              "      <td>0.001080</td>\n",
              "      <td>0.22</td>\n",
              "    </tr>\n",
              "    <tr>\n",
              "      <th>3</th>\n",
              "      <td>4</td>\n",
              "      <td>20220103</td>\n",
              "      <td>11:11:00 AM</td>\n",
              "      <td>2022</td>\n",
              "      <td>1</td>\n",
              "      <td>3</td>\n",
              "      <td>11</td>\n",
              "      <td>11</td>\n",
              "      <td>SPY</td>\n",
              "      <td>C</td>\n",
              "      <td>500</td>\n",
              "      <td>6/17/2022</td>\n",
              "      <td>9.20</td>\n",
              "      <td>475.565</td>\n",
              "      <td>0.95113</td>\n",
              "      <td>118</td>\n",
              "      <td>0.001175</td>\n",
              "      <td>0.22</td>\n",
              "    </tr>\n",
              "    <tr>\n",
              "      <th>4</th>\n",
              "      <td>5</td>\n",
              "      <td>20220103</td>\n",
              "      <td>11:18:00 AM</td>\n",
              "      <td>2022</td>\n",
              "      <td>1</td>\n",
              "      <td>3</td>\n",
              "      <td>11</td>\n",
              "      <td>18</td>\n",
              "      <td>SPY</td>\n",
              "      <td>C</td>\n",
              "      <td>500</td>\n",
              "      <td>6/17/2022</td>\n",
              "      <td>9.07</td>\n",
              "      <td>475.240</td>\n",
              "      <td>0.95048</td>\n",
              "      <td>118</td>\n",
              "      <td>0.001065</td>\n",
              "      <td>0.22</td>\n",
              "    </tr>\n",
              "  </tbody>\n",
              "</table>\n",
              "</div>\n",
              "      <button class=\"colab-df-convert\" onclick=\"convertToInteractive('df-31718124-9b3d-4e9b-a12f-4196021b3600')\"\n",
              "              title=\"Convert this dataframe to an interactive table.\"\n",
              "              style=\"display:none;\">\n",
              "        \n",
              "  <svg xmlns=\"http://www.w3.org/2000/svg\" height=\"24px\"viewBox=\"0 0 24 24\"\n",
              "       width=\"24px\">\n",
              "    <path d=\"M0 0h24v24H0V0z\" fill=\"none\"/>\n",
              "    <path d=\"M18.56 5.44l.94 2.06.94-2.06 2.06-.94-2.06-.94-.94-2.06-.94 2.06-2.06.94zm-11 1L8.5 8.5l.94-2.06 2.06-.94-2.06-.94L8.5 2.5l-.94 2.06-2.06.94zm10 10l.94 2.06.94-2.06 2.06-.94-2.06-.94-.94-2.06-.94 2.06-2.06.94z\"/><path d=\"M17.41 7.96l-1.37-1.37c-.4-.4-.92-.59-1.43-.59-.52 0-1.04.2-1.43.59L10.3 9.45l-7.72 7.72c-.78.78-.78 2.05 0 2.83L4 21.41c.39.39.9.59 1.41.59.51 0 1.02-.2 1.41-.59l7.78-7.78 2.81-2.81c.8-.78.8-2.07 0-2.86zM5.41 20L4 18.59l7.72-7.72 1.47 1.35L5.41 20z\"/>\n",
              "  </svg>\n",
              "      </button>\n",
              "      \n",
              "  <style>\n",
              "    .colab-df-container {\n",
              "      display:flex;\n",
              "      flex-wrap:wrap;\n",
              "      gap: 12px;\n",
              "    }\n",
              "\n",
              "    .colab-df-convert {\n",
              "      background-color: #E8F0FE;\n",
              "      border: none;\n",
              "      border-radius: 50%;\n",
              "      cursor: pointer;\n",
              "      display: none;\n",
              "      fill: #1967D2;\n",
              "      height: 32px;\n",
              "      padding: 0 0 0 0;\n",
              "      width: 32px;\n",
              "    }\n",
              "\n",
              "    .colab-df-convert:hover {\n",
              "      background-color: #E2EBFA;\n",
              "      box-shadow: 0px 1px 2px rgba(60, 64, 67, 0.3), 0px 1px 3px 1px rgba(60, 64, 67, 0.15);\n",
              "      fill: #174EA6;\n",
              "    }\n",
              "\n",
              "    [theme=dark] .colab-df-convert {\n",
              "      background-color: #3B4455;\n",
              "      fill: #D2E3FC;\n",
              "    }\n",
              "\n",
              "    [theme=dark] .colab-df-convert:hover {\n",
              "      background-color: #434B5C;\n",
              "      box-shadow: 0px 1px 3px 1px rgba(0, 0, 0, 0.15);\n",
              "      filter: drop-shadow(0px 1px 2px rgba(0, 0, 0, 0.3));\n",
              "      fill: #FFFFFF;\n",
              "    }\n",
              "  </style>\n",
              "\n",
              "      <script>\n",
              "        const buttonEl =\n",
              "          document.querySelector('#df-31718124-9b3d-4e9b-a12f-4196021b3600 button.colab-df-convert');\n",
              "        buttonEl.style.display =\n",
              "          google.colab.kernel.accessAllowed ? 'block' : 'none';\n",
              "\n",
              "        async function convertToInteractive(key) {\n",
              "          const element = document.querySelector('#df-31718124-9b3d-4e9b-a12f-4196021b3600');\n",
              "          const dataTable =\n",
              "            await google.colab.kernel.invokeFunction('convertToInteractive',\n",
              "                                                     [key], {});\n",
              "          if (!dataTable) return;\n",
              "\n",
              "          const docLinkHtml = 'Like what you see? Visit the ' +\n",
              "            '<a target=\"_blank\" href=https://colab.research.google.com/notebooks/data_table.ipynb>data table notebook</a>'\n",
              "            + ' to learn more about interactive tables.';\n",
              "          element.innerHTML = '';\n",
              "          dataTable['output_type'] = 'display_data';\n",
              "          await google.colab.output.renderOutput(dataTable, element);\n",
              "          const docLink = document.createElement('div');\n",
              "          docLink.innerHTML = docLinkHtml;\n",
              "          element.appendChild(docLink);\n",
              "        }\n",
              "      </script>\n",
              "    </div>\n",
              "  </div>\n",
              "  "
            ]
          },
          "metadata": {},
          "execution_count": 2
        }
      ]
    },
    {
      "cell_type": "markdown",
      "source": [
        "**3. Data Preprocessing**"
      ],
      "metadata": {
        "id": "g4B9XEdPWecY"
      }
    },
    {
      "cell_type": "code",
      "source": [
        "# Creating a new column with datatime module.\n",
        "df['datetime'] = df[['year', 'month', 'day', 'hour', 'minute']].apply(lambda row: datetime.datetime(year=row['year'], month=row['month'], day=row['day'],\n",
        "                                                                                          hour=row['hour'], minute=row['minute']), axis=1)\n",
        "# Sorting values in ascending order\n",
        "df.sort_values('datetime', ascending=True, inplace=True)\n",
        "df['datetime'].head()"
      ],
      "metadata": {
        "colab": {
          "base_uri": "https://localhost:8080/"
        },
        "id": "0wsmQWK_fwWD",
        "outputId": "09a780eb-1d91-461c-97bd-3b383dee2624"
      },
      "execution_count": 3,
      "outputs": [
        {
          "output_type": "execute_result",
          "data": {
            "text/plain": [
              "0   2022-01-03 10:01:00\n",
              "1   2022-01-03 10:05:00\n",
              "2   2022-01-03 10:37:00\n",
              "3   2022-01-03 11:11:00\n",
              "4   2022-01-03 11:18:00\n",
              "Name: datetime, dtype: datetime64[ns]"
            ]
          },
          "metadata": {},
          "execution_count": 3
        }
      ]
    },
    {
      "cell_type": "code",
      "source": [
        "# Cleaning the dataframe, selecting feature variables and output for the model.\n",
        "option_df = df[['datetime', 'moneyness', 'days_to_ex', 'treasury_rate', 'std_underlying', 'option_price']].copy()\n",
        "option_df.head()"
      ],
      "metadata": {
        "colab": {
          "base_uri": "https://localhost:8080/",
          "height": 206
        },
        "id": "3__7Aeb7g6Uy",
        "outputId": "d3337125-38e6-4ad3-dd34-2750cb35c4b6"
      },
      "execution_count": 4,
      "outputs": [
        {
          "output_type": "execute_result",
          "data": {
            "text/plain": [
              "             datetime  moneyness  days_to_ex  treasury_rate  std_underlying  \\\n",
              "0 2022-01-03 10:01:00    0.95107         118           0.22        0.001322   \n",
              "1 2022-01-03 10:05:00    0.95039         118           0.22        0.001181   \n",
              "2 2022-01-03 10:37:00    0.95199         118           0.22        0.001080   \n",
              "3 2022-01-03 11:11:00    0.95113         118           0.22        0.001175   \n",
              "4 2022-01-03 11:18:00    0.95048         118           0.22        0.001065   \n",
              "\n",
              "   option_price  \n",
              "0          9.33  \n",
              "1          9.16  \n",
              "2          9.37  \n",
              "3          9.20  \n",
              "4          9.07  "
            ],
            "text/html": [
              "\n",
              "  <div id=\"df-59d170be-2ee8-4379-be72-05e6031a4249\">\n",
              "    <div class=\"colab-df-container\">\n",
              "      <div>\n",
              "<style scoped>\n",
              "    .dataframe tbody tr th:only-of-type {\n",
              "        vertical-align: middle;\n",
              "    }\n",
              "\n",
              "    .dataframe tbody tr th {\n",
              "        vertical-align: top;\n",
              "    }\n",
              "\n",
              "    .dataframe thead th {\n",
              "        text-align: right;\n",
              "    }\n",
              "</style>\n",
              "<table border=\"1\" class=\"dataframe\">\n",
              "  <thead>\n",
              "    <tr style=\"text-align: right;\">\n",
              "      <th></th>\n",
              "      <th>datetime</th>\n",
              "      <th>moneyness</th>\n",
              "      <th>days_to_ex</th>\n",
              "      <th>treasury_rate</th>\n",
              "      <th>std_underlying</th>\n",
              "      <th>option_price</th>\n",
              "    </tr>\n",
              "  </thead>\n",
              "  <tbody>\n",
              "    <tr>\n",
              "      <th>0</th>\n",
              "      <td>2022-01-03 10:01:00</td>\n",
              "      <td>0.95107</td>\n",
              "      <td>118</td>\n",
              "      <td>0.22</td>\n",
              "      <td>0.001322</td>\n",
              "      <td>9.33</td>\n",
              "    </tr>\n",
              "    <tr>\n",
              "      <th>1</th>\n",
              "      <td>2022-01-03 10:05:00</td>\n",
              "      <td>0.95039</td>\n",
              "      <td>118</td>\n",
              "      <td>0.22</td>\n",
              "      <td>0.001181</td>\n",
              "      <td>9.16</td>\n",
              "    </tr>\n",
              "    <tr>\n",
              "      <th>2</th>\n",
              "      <td>2022-01-03 10:37:00</td>\n",
              "      <td>0.95199</td>\n",
              "      <td>118</td>\n",
              "      <td>0.22</td>\n",
              "      <td>0.001080</td>\n",
              "      <td>9.37</td>\n",
              "    </tr>\n",
              "    <tr>\n",
              "      <th>3</th>\n",
              "      <td>2022-01-03 11:11:00</td>\n",
              "      <td>0.95113</td>\n",
              "      <td>118</td>\n",
              "      <td>0.22</td>\n",
              "      <td>0.001175</td>\n",
              "      <td>9.20</td>\n",
              "    </tr>\n",
              "    <tr>\n",
              "      <th>4</th>\n",
              "      <td>2022-01-03 11:18:00</td>\n",
              "      <td>0.95048</td>\n",
              "      <td>118</td>\n",
              "      <td>0.22</td>\n",
              "      <td>0.001065</td>\n",
              "      <td>9.07</td>\n",
              "    </tr>\n",
              "  </tbody>\n",
              "</table>\n",
              "</div>\n",
              "      <button class=\"colab-df-convert\" onclick=\"convertToInteractive('df-59d170be-2ee8-4379-be72-05e6031a4249')\"\n",
              "              title=\"Convert this dataframe to an interactive table.\"\n",
              "              style=\"display:none;\">\n",
              "        \n",
              "  <svg xmlns=\"http://www.w3.org/2000/svg\" height=\"24px\"viewBox=\"0 0 24 24\"\n",
              "       width=\"24px\">\n",
              "    <path d=\"M0 0h24v24H0V0z\" fill=\"none\"/>\n",
              "    <path d=\"M18.56 5.44l.94 2.06.94-2.06 2.06-.94-2.06-.94-.94-2.06-.94 2.06-2.06.94zm-11 1L8.5 8.5l.94-2.06 2.06-.94-2.06-.94L8.5 2.5l-.94 2.06-2.06.94zm10 10l.94 2.06.94-2.06 2.06-.94-2.06-.94-.94-2.06-.94 2.06-2.06.94z\"/><path d=\"M17.41 7.96l-1.37-1.37c-.4-.4-.92-.59-1.43-.59-.52 0-1.04.2-1.43.59L10.3 9.45l-7.72 7.72c-.78.78-.78 2.05 0 2.83L4 21.41c.39.39.9.59 1.41.59.51 0 1.02-.2 1.41-.59l7.78-7.78 2.81-2.81c.8-.78.8-2.07 0-2.86zM5.41 20L4 18.59l7.72-7.72 1.47 1.35L5.41 20z\"/>\n",
              "  </svg>\n",
              "      </button>\n",
              "      \n",
              "  <style>\n",
              "    .colab-df-container {\n",
              "      display:flex;\n",
              "      flex-wrap:wrap;\n",
              "      gap: 12px;\n",
              "    }\n",
              "\n",
              "    .colab-df-convert {\n",
              "      background-color: #E8F0FE;\n",
              "      border: none;\n",
              "      border-radius: 50%;\n",
              "      cursor: pointer;\n",
              "      display: none;\n",
              "      fill: #1967D2;\n",
              "      height: 32px;\n",
              "      padding: 0 0 0 0;\n",
              "      width: 32px;\n",
              "    }\n",
              "\n",
              "    .colab-df-convert:hover {\n",
              "      background-color: #E2EBFA;\n",
              "      box-shadow: 0px 1px 2px rgba(60, 64, 67, 0.3), 0px 1px 3px 1px rgba(60, 64, 67, 0.15);\n",
              "      fill: #174EA6;\n",
              "    }\n",
              "\n",
              "    [theme=dark] .colab-df-convert {\n",
              "      background-color: #3B4455;\n",
              "      fill: #D2E3FC;\n",
              "    }\n",
              "\n",
              "    [theme=dark] .colab-df-convert:hover {\n",
              "      background-color: #434B5C;\n",
              "      box-shadow: 0px 1px 3px 1px rgba(0, 0, 0, 0.15);\n",
              "      filter: drop-shadow(0px 1px 2px rgba(0, 0, 0, 0.3));\n",
              "      fill: #FFFFFF;\n",
              "    }\n",
              "  </style>\n",
              "\n",
              "      <script>\n",
              "        const buttonEl =\n",
              "          document.querySelector('#df-59d170be-2ee8-4379-be72-05e6031a4249 button.colab-df-convert');\n",
              "        buttonEl.style.display =\n",
              "          google.colab.kernel.accessAllowed ? 'block' : 'none';\n",
              "\n",
              "        async function convertToInteractive(key) {\n",
              "          const element = document.querySelector('#df-59d170be-2ee8-4379-be72-05e6031a4249');\n",
              "          const dataTable =\n",
              "            await google.colab.kernel.invokeFunction('convertToInteractive',\n",
              "                                                     [key], {});\n",
              "          if (!dataTable) return;\n",
              "\n",
              "          const docLinkHtml = 'Like what you see? Visit the ' +\n",
              "            '<a target=\"_blank\" href=https://colab.research.google.com/notebooks/data_table.ipynb>data table notebook</a>'\n",
              "            + ' to learn more about interactive tables.';\n",
              "          element.innerHTML = '';\n",
              "          dataTable['output_type'] = 'display_data';\n",
              "          await google.colab.output.renderOutput(dataTable, element);\n",
              "          const docLink = document.createElement('div');\n",
              "          docLink.innerHTML = docLinkHtml;\n",
              "          element.appendChild(docLink);\n",
              "        }\n",
              "      </script>\n",
              "    </div>\n",
              "  </div>\n",
              "  "
            ]
          },
          "metadata": {},
          "execution_count": 4
        }
      ]
    },
    {
      "cell_type": "markdown",
      "source": [
        "**4. Train/Validation Split**"
      ],
      "metadata": {
        "id": "eNZrGmLVWvmj"
      }
    },
    {
      "cell_type": "markdown",
      "source": [
        "Before starting the training the model we need to create four different arrays separating features variables from the output variables for both training and validation dataset.\n"
      ],
      "metadata": {
        "id": "AnzhDkzfg_Qo"
      }
    },
    {
      "cell_type": "code",
      "source": [
        "# Spliting the data while mantaining the order of the dataset.\n",
        "split_date = datetime.datetime(year=2022, month=3, day=10, hour=0)\n",
        "df_train = option_df.loc[df['datetime']<split_date]\n",
        "df_val = option_df.loc[df['datetime']>=split_date]\n",
        "print('Shape of train:', df_train.shape)\n",
        "print('Shape of test:', df_val.shape)"
      ],
      "metadata": {
        "colab": {
          "base_uri": "https://localhost:8080/"
        },
        "id": "c-I77SqmfxDQ",
        "outputId": "2dc70861-621c-4455-aea5-8d188aa61180"
      },
      "execution_count": 5,
      "outputs": [
        {
          "output_type": "stream",
          "name": "stdout",
          "text": [
            "Shape of train: (4008, 6)\n",
            "Shape of test: (1045, 6)\n"
          ]
        }
      ]
    },
    {
      "cell_type": "code",
      "source": [
        "# Datetime variable is eliminated as it is not a feature variable for the model.\n",
        "df_train = df_train[['moneyness', 'days_to_ex', 'treasury_rate', 'std_underlying', 'option_price']].copy()\n",
        "df_train.head()"
      ],
      "metadata": {
        "colab": {
          "base_uri": "https://localhost:8080/",
          "height": 206
        },
        "id": "-ua5GrX0hKQG",
        "outputId": "8732c230-6428-4051-ed85-aed243f41d62"
      },
      "execution_count": 6,
      "outputs": [
        {
          "output_type": "execute_result",
          "data": {
            "text/plain": [
              "   moneyness  days_to_ex  treasury_rate  std_underlying  option_price\n",
              "0    0.95107         118           0.22        0.001322          9.33\n",
              "1    0.95039         118           0.22        0.001181          9.16\n",
              "2    0.95199         118           0.22        0.001080          9.37\n",
              "3    0.95113         118           0.22        0.001175          9.20\n",
              "4    0.95048         118           0.22        0.001065          9.07"
            ],
            "text/html": [
              "\n",
              "  <div id=\"df-11ddfc2f-9d89-424b-aecf-0713c3294e96\">\n",
              "    <div class=\"colab-df-container\">\n",
              "      <div>\n",
              "<style scoped>\n",
              "    .dataframe tbody tr th:only-of-type {\n",
              "        vertical-align: middle;\n",
              "    }\n",
              "\n",
              "    .dataframe tbody tr th {\n",
              "        vertical-align: top;\n",
              "    }\n",
              "\n",
              "    .dataframe thead th {\n",
              "        text-align: right;\n",
              "    }\n",
              "</style>\n",
              "<table border=\"1\" class=\"dataframe\">\n",
              "  <thead>\n",
              "    <tr style=\"text-align: right;\">\n",
              "      <th></th>\n",
              "      <th>moneyness</th>\n",
              "      <th>days_to_ex</th>\n",
              "      <th>treasury_rate</th>\n",
              "      <th>std_underlying</th>\n",
              "      <th>option_price</th>\n",
              "    </tr>\n",
              "  </thead>\n",
              "  <tbody>\n",
              "    <tr>\n",
              "      <th>0</th>\n",
              "      <td>0.95107</td>\n",
              "      <td>118</td>\n",
              "      <td>0.22</td>\n",
              "      <td>0.001322</td>\n",
              "      <td>9.33</td>\n",
              "    </tr>\n",
              "    <tr>\n",
              "      <th>1</th>\n",
              "      <td>0.95039</td>\n",
              "      <td>118</td>\n",
              "      <td>0.22</td>\n",
              "      <td>0.001181</td>\n",
              "      <td>9.16</td>\n",
              "    </tr>\n",
              "    <tr>\n",
              "      <th>2</th>\n",
              "      <td>0.95199</td>\n",
              "      <td>118</td>\n",
              "      <td>0.22</td>\n",
              "      <td>0.001080</td>\n",
              "      <td>9.37</td>\n",
              "    </tr>\n",
              "    <tr>\n",
              "      <th>3</th>\n",
              "      <td>0.95113</td>\n",
              "      <td>118</td>\n",
              "      <td>0.22</td>\n",
              "      <td>0.001175</td>\n",
              "      <td>9.20</td>\n",
              "    </tr>\n",
              "    <tr>\n",
              "      <th>4</th>\n",
              "      <td>0.95048</td>\n",
              "      <td>118</td>\n",
              "      <td>0.22</td>\n",
              "      <td>0.001065</td>\n",
              "      <td>9.07</td>\n",
              "    </tr>\n",
              "  </tbody>\n",
              "</table>\n",
              "</div>\n",
              "      <button class=\"colab-df-convert\" onclick=\"convertToInteractive('df-11ddfc2f-9d89-424b-aecf-0713c3294e96')\"\n",
              "              title=\"Convert this dataframe to an interactive table.\"\n",
              "              style=\"display:none;\">\n",
              "        \n",
              "  <svg xmlns=\"http://www.w3.org/2000/svg\" height=\"24px\"viewBox=\"0 0 24 24\"\n",
              "       width=\"24px\">\n",
              "    <path d=\"M0 0h24v24H0V0z\" fill=\"none\"/>\n",
              "    <path d=\"M18.56 5.44l.94 2.06.94-2.06 2.06-.94-2.06-.94-.94-2.06-.94 2.06-2.06.94zm-11 1L8.5 8.5l.94-2.06 2.06-.94-2.06-.94L8.5 2.5l-.94 2.06-2.06.94zm10 10l.94 2.06.94-2.06 2.06-.94-2.06-.94-.94-2.06-.94 2.06-2.06.94z\"/><path d=\"M17.41 7.96l-1.37-1.37c-.4-.4-.92-.59-1.43-.59-.52 0-1.04.2-1.43.59L10.3 9.45l-7.72 7.72c-.78.78-.78 2.05 0 2.83L4 21.41c.39.39.9.59 1.41.59.51 0 1.02-.2 1.41-.59l7.78-7.78 2.81-2.81c.8-.78.8-2.07 0-2.86zM5.41 20L4 18.59l7.72-7.72 1.47 1.35L5.41 20z\"/>\n",
              "  </svg>\n",
              "      </button>\n",
              "      \n",
              "  <style>\n",
              "    .colab-df-container {\n",
              "      display:flex;\n",
              "      flex-wrap:wrap;\n",
              "      gap: 12px;\n",
              "    }\n",
              "\n",
              "    .colab-df-convert {\n",
              "      background-color: #E8F0FE;\n",
              "      border: none;\n",
              "      border-radius: 50%;\n",
              "      cursor: pointer;\n",
              "      display: none;\n",
              "      fill: #1967D2;\n",
              "      height: 32px;\n",
              "      padding: 0 0 0 0;\n",
              "      width: 32px;\n",
              "    }\n",
              "\n",
              "    .colab-df-convert:hover {\n",
              "      background-color: #E2EBFA;\n",
              "      box-shadow: 0px 1px 2px rgba(60, 64, 67, 0.3), 0px 1px 3px 1px rgba(60, 64, 67, 0.15);\n",
              "      fill: #174EA6;\n",
              "    }\n",
              "\n",
              "    [theme=dark] .colab-df-convert {\n",
              "      background-color: #3B4455;\n",
              "      fill: #D2E3FC;\n",
              "    }\n",
              "\n",
              "    [theme=dark] .colab-df-convert:hover {\n",
              "      background-color: #434B5C;\n",
              "      box-shadow: 0px 1px 3px 1px rgba(0, 0, 0, 0.15);\n",
              "      filter: drop-shadow(0px 1px 2px rgba(0, 0, 0, 0.3));\n",
              "      fill: #FFFFFF;\n",
              "    }\n",
              "  </style>\n",
              "\n",
              "      <script>\n",
              "        const buttonEl =\n",
              "          document.querySelector('#df-11ddfc2f-9d89-424b-aecf-0713c3294e96 button.colab-df-convert');\n",
              "        buttonEl.style.display =\n",
              "          google.colab.kernel.accessAllowed ? 'block' : 'none';\n",
              "\n",
              "        async function convertToInteractive(key) {\n",
              "          const element = document.querySelector('#df-11ddfc2f-9d89-424b-aecf-0713c3294e96');\n",
              "          const dataTable =\n",
              "            await google.colab.kernel.invokeFunction('convertToInteractive',\n",
              "                                                     [key], {});\n",
              "          if (!dataTable) return;\n",
              "\n",
              "          const docLinkHtml = 'Like what you see? Visit the ' +\n",
              "            '<a target=\"_blank\" href=https://colab.research.google.com/notebooks/data_table.ipynb>data table notebook</a>'\n",
              "            + ' to learn more about interactive tables.';\n",
              "          element.innerHTML = '';\n",
              "          dataTable['output_type'] = 'display_data';\n",
              "          await google.colab.output.renderOutput(dataTable, element);\n",
              "          const docLink = document.createElement('div');\n",
              "          docLink.innerHTML = docLinkHtml;\n",
              "          element.appendChild(docLink);\n",
              "        }\n",
              "      </script>\n",
              "    </div>\n",
              "  </div>\n",
              "  "
            ]
          },
          "metadata": {},
          "execution_count": 6
        }
      ]
    },
    {
      "cell_type": "code",
      "source": [
        "# Datetime variable is eliminated as it is not a feature variable for the model.\n",
        "df_val = df_val[['moneyness', 'days_to_ex', 'treasury_rate', 'std_underlying', 'option_price']].copy()\n",
        "df_val.reset_index(inplace = True, drop = True)\n",
        "df_val.head()"
      ],
      "metadata": {
        "colab": {
          "base_uri": "https://localhost:8080/",
          "height": 206
        },
        "id": "L4JK6sFRhyvV",
        "outputId": "44a36135-cd2c-41e5-f90e-27fb78a3ac36"
      },
      "execution_count": 7,
      "outputs": [
        {
          "output_type": "execute_result",
          "data": {
            "text/plain": [
              "   moneyness  days_to_ex  treasury_rate  std_underlying  option_price\n",
              "0    0.84551          72           0.38        0.004437          0.65\n",
              "1    0.84491          72           0.38        0.004218          0.68\n",
              "2    0.84447          72           0.38        0.004123          0.63\n",
              "3    0.84587          72           0.38        0.004532          0.67\n",
              "4    0.84560          72           0.38        0.004523          0.68"
            ],
            "text/html": [
              "\n",
              "  <div id=\"df-87949c34-04bb-4853-92fe-c6f965ea045d\">\n",
              "    <div class=\"colab-df-container\">\n",
              "      <div>\n",
              "<style scoped>\n",
              "    .dataframe tbody tr th:only-of-type {\n",
              "        vertical-align: middle;\n",
              "    }\n",
              "\n",
              "    .dataframe tbody tr th {\n",
              "        vertical-align: top;\n",
              "    }\n",
              "\n",
              "    .dataframe thead th {\n",
              "        text-align: right;\n",
              "    }\n",
              "</style>\n",
              "<table border=\"1\" class=\"dataframe\">\n",
              "  <thead>\n",
              "    <tr style=\"text-align: right;\">\n",
              "      <th></th>\n",
              "      <th>moneyness</th>\n",
              "      <th>days_to_ex</th>\n",
              "      <th>treasury_rate</th>\n",
              "      <th>std_underlying</th>\n",
              "      <th>option_price</th>\n",
              "    </tr>\n",
              "  </thead>\n",
              "  <tbody>\n",
              "    <tr>\n",
              "      <th>0</th>\n",
              "      <td>0.84551</td>\n",
              "      <td>72</td>\n",
              "      <td>0.38</td>\n",
              "      <td>0.004437</td>\n",
              "      <td>0.65</td>\n",
              "    </tr>\n",
              "    <tr>\n",
              "      <th>1</th>\n",
              "      <td>0.84491</td>\n",
              "      <td>72</td>\n",
              "      <td>0.38</td>\n",
              "      <td>0.004218</td>\n",
              "      <td>0.68</td>\n",
              "    </tr>\n",
              "    <tr>\n",
              "      <th>2</th>\n",
              "      <td>0.84447</td>\n",
              "      <td>72</td>\n",
              "      <td>0.38</td>\n",
              "      <td>0.004123</td>\n",
              "      <td>0.63</td>\n",
              "    </tr>\n",
              "    <tr>\n",
              "      <th>3</th>\n",
              "      <td>0.84587</td>\n",
              "      <td>72</td>\n",
              "      <td>0.38</td>\n",
              "      <td>0.004532</td>\n",
              "      <td>0.67</td>\n",
              "    </tr>\n",
              "    <tr>\n",
              "      <th>4</th>\n",
              "      <td>0.84560</td>\n",
              "      <td>72</td>\n",
              "      <td>0.38</td>\n",
              "      <td>0.004523</td>\n",
              "      <td>0.68</td>\n",
              "    </tr>\n",
              "  </tbody>\n",
              "</table>\n",
              "</div>\n",
              "      <button class=\"colab-df-convert\" onclick=\"convertToInteractive('df-87949c34-04bb-4853-92fe-c6f965ea045d')\"\n",
              "              title=\"Convert this dataframe to an interactive table.\"\n",
              "              style=\"display:none;\">\n",
              "        \n",
              "  <svg xmlns=\"http://www.w3.org/2000/svg\" height=\"24px\"viewBox=\"0 0 24 24\"\n",
              "       width=\"24px\">\n",
              "    <path d=\"M0 0h24v24H0V0z\" fill=\"none\"/>\n",
              "    <path d=\"M18.56 5.44l.94 2.06.94-2.06 2.06-.94-2.06-.94-.94-2.06-.94 2.06-2.06.94zm-11 1L8.5 8.5l.94-2.06 2.06-.94-2.06-.94L8.5 2.5l-.94 2.06-2.06.94zm10 10l.94 2.06.94-2.06 2.06-.94-2.06-.94-.94-2.06-.94 2.06-2.06.94z\"/><path d=\"M17.41 7.96l-1.37-1.37c-.4-.4-.92-.59-1.43-.59-.52 0-1.04.2-1.43.59L10.3 9.45l-7.72 7.72c-.78.78-.78 2.05 0 2.83L4 21.41c.39.39.9.59 1.41.59.51 0 1.02-.2 1.41-.59l7.78-7.78 2.81-2.81c.8-.78.8-2.07 0-2.86zM5.41 20L4 18.59l7.72-7.72 1.47 1.35L5.41 20z\"/>\n",
              "  </svg>\n",
              "      </button>\n",
              "      \n",
              "  <style>\n",
              "    .colab-df-container {\n",
              "      display:flex;\n",
              "      flex-wrap:wrap;\n",
              "      gap: 12px;\n",
              "    }\n",
              "\n",
              "    .colab-df-convert {\n",
              "      background-color: #E8F0FE;\n",
              "      border: none;\n",
              "      border-radius: 50%;\n",
              "      cursor: pointer;\n",
              "      display: none;\n",
              "      fill: #1967D2;\n",
              "      height: 32px;\n",
              "      padding: 0 0 0 0;\n",
              "      width: 32px;\n",
              "    }\n",
              "\n",
              "    .colab-df-convert:hover {\n",
              "      background-color: #E2EBFA;\n",
              "      box-shadow: 0px 1px 2px rgba(60, 64, 67, 0.3), 0px 1px 3px 1px rgba(60, 64, 67, 0.15);\n",
              "      fill: #174EA6;\n",
              "    }\n",
              "\n",
              "    [theme=dark] .colab-df-convert {\n",
              "      background-color: #3B4455;\n",
              "      fill: #D2E3FC;\n",
              "    }\n",
              "\n",
              "    [theme=dark] .colab-df-convert:hover {\n",
              "      background-color: #434B5C;\n",
              "      box-shadow: 0px 1px 3px 1px rgba(0, 0, 0, 0.15);\n",
              "      filter: drop-shadow(0px 1px 2px rgba(0, 0, 0, 0.3));\n",
              "      fill: #FFFFFF;\n",
              "    }\n",
              "  </style>\n",
              "\n",
              "      <script>\n",
              "        const buttonEl =\n",
              "          document.querySelector('#df-87949c34-04bb-4853-92fe-c6f965ea045d button.colab-df-convert');\n",
              "        buttonEl.style.display =\n",
              "          google.colab.kernel.accessAllowed ? 'block' : 'none';\n",
              "\n",
              "        async function convertToInteractive(key) {\n",
              "          const element = document.querySelector('#df-87949c34-04bb-4853-92fe-c6f965ea045d');\n",
              "          const dataTable =\n",
              "            await google.colab.kernel.invokeFunction('convertToInteractive',\n",
              "                                                     [key], {});\n",
              "          if (!dataTable) return;\n",
              "\n",
              "          const docLinkHtml = 'Like what you see? Visit the ' +\n",
              "            '<a target=\"_blank\" href=https://colab.research.google.com/notebooks/data_table.ipynb>data table notebook</a>'\n",
              "            + ' to learn more about interactive tables.';\n",
              "          element.innerHTML = '';\n",
              "          dataTable['output_type'] = 'display_data';\n",
              "          await google.colab.output.renderOutput(dataTable, element);\n",
              "          const docLink = document.createElement('div');\n",
              "          docLink.innerHTML = docLinkHtml;\n",
              "          element.appendChild(docLink);\n",
              "        }\n",
              "      </script>\n",
              "    </div>\n",
              "  </div>\n",
              "  "
            ]
          },
          "metadata": {},
          "execution_count": 7
        }
      ]
    },
    {
      "cell_type": "code",
      "source": [
        "def train_X_Y(n_future, n_past):\n",
        "  # Inputs:\n",
        "  # n_future = Number of days to be predicted in the future based on past days.\n",
        "  # Output:\n",
        "  # train_X = 3D array (n_samples, n_timesteps, n_features)\n",
        "  # train_Y = 3D array (n_samples, n_timesteps, n_features)\n",
        "\n",
        "  train_X = []\n",
        "  train_Y = []\n",
        "\n",
        "  array_train = df_train.to_numpy()\n",
        "\n",
        "  for i in range(n_past, len(array_train) - n_future +1):\n",
        "      train_X.append(array_train[i - n_past:i, 0:(array_train.shape[1]-1)])\n",
        "      train_Y.append(array_train[i + n_future - 1:i + n_future, 4])\n",
        "\n",
        "  train_X, train_Y = np.array(train_X), np.array(train_Y)\n",
        "  return train_X, train_Y"
      ],
      "metadata": {
        "id": "Kf5oHlrfhL3e"
      },
      "execution_count": 8,
      "outputs": []
    },
    {
      "cell_type": "code",
      "source": [
        "n_future = 1\n",
        "n_past = 5\n",
        "\n",
        "train_X, train_Y = train_X_Y(n_future, n_past)\n",
        "print('train_X shape == {}'.format(train_X.shape))\n",
        "print('train_Y shape == {}'.format(train_Y.shape))"
      ],
      "metadata": {
        "colab": {
          "base_uri": "https://localhost:8080/"
        },
        "id": "xIAlzf_9hUy9",
        "outputId": "6114753c-f3db-4ab1-e797-8d264893a7c1"
      },
      "execution_count": 9,
      "outputs": [
        {
          "output_type": "stream",
          "name": "stdout",
          "text": [
            "train_X shape == (4003, 5, 4)\n",
            "train_Y shape == (4003, 1)\n"
          ]
        }
      ]
    },
    {
      "cell_type": "code",
      "source": [
        "def valid_X_Y(n_future, n_past):\n",
        "  # Inputs:\n",
        "  # n_future = Number of days to be predicted in the future based on past days.\n",
        "  # Output:\n",
        "  # valid_X = 3D array (n_samples, n_timesteps, n_features)\n",
        "  # valid_Y = 3D array (n_samples, n_timesteps, n_features)\n",
        "\n",
        "  valid_X = []\n",
        "  valid_Y = []\n",
        "\n",
        "  array_valid = df_val.to_numpy()\n",
        "\n",
        "  for i in range(n_past, len(array_valid ) - n_future +1):\n",
        "      valid_X.append(array_valid[i - n_past:i, 0:(array_valid.shape[1]-1)])\n",
        "      valid_Y.append(array_valid[i + n_future - 1:i + n_future, 4])\n",
        "\n",
        "  valid_X, valid_Y = np.array(valid_X), np.array(valid_Y)\n",
        "  return valid_X, valid_Y "
      ],
      "metadata": {
        "id": "DJk87zwLhZUH"
      },
      "execution_count": 10,
      "outputs": []
    },
    {
      "cell_type": "code",
      "source": [
        "n_future = 1\n",
        "n_past = 5\n",
        "\n",
        "valid_X, valid_Y = valid_X_Y(n_future, n_past)\n",
        "print('valid_X shape == {}'.format(valid_X.shape))\n",
        "print('valid_Y shape == {}'.format(valid_Y.shape))"
      ],
      "metadata": {
        "colab": {
          "base_uri": "https://localhost:8080/"
        },
        "id": "Q44Tw2FThdd6",
        "outputId": "aa86c704-7d06-49d2-fb27-adfa715d97d0"
      },
      "execution_count": 11,
      "outputs": [
        {
          "output_type": "stream",
          "name": "stdout",
          "text": [
            "valid_X shape == (1040, 5, 4)\n",
            "valid_Y shape == (1040, 1)\n"
          ]
        }
      ]
    },
    {
      "cell_type": "markdown",
      "source": [
        "**5. Standardizing data**"
      ],
      "metadata": {
        "id": "MU8-0hXiW1Am"
      }
    },
    {
      "cell_type": "code",
      "source": [
        "# Standarization of feature variables is a common requirement for machine learning estimators:\n",
        "from sklearn import preprocessing\n",
        "# Datetime variable is eliminated as it is not a feature variable for the model.\n",
        "df_train = df_train[['moneyness', 'days_to_ex', 'treasury_rate', 'std_underlying', 'option_price']].copy()\n",
        "\n",
        "# Preprocessing transforms dataframe into array\n",
        "scaler_X = preprocessing.StandardScaler().fit(train_X.reshape(-1, train_X.shape[-1]))\n",
        "scaler_Y = preprocessing.StandardScaler().fit(train_Y.reshape(-1, train_Y.shape[-1]))\n",
        "\n",
        "array_train_scaled_X = scaler_X.transform(train_X.reshape(-1, train_X.shape[-1])).reshape(train_X.shape)\n",
        "array_train_scaled_Y = scaler_Y.transform(train_Y.reshape(-1, train_Y.shape[-1])).reshape(train_Y.shape)\n",
        "\n",
        "print('Shape of scaled train X:', array_train_scaled_X.shape)\n",
        "print('Shape of scaled train Y:', array_train_scaled_Y.shape)\n",
        "\n",
        "# MinMaxScaler(feature_range=(0, 1)) / StandardScaler()"
      ],
      "metadata": {
        "colab": {
          "base_uri": "https://localhost:8080/"
        },
        "id": "f8go2D9Sfx8Z",
        "outputId": "6ab8d64f-e238-43dd-f851-7ba01a01453b"
      },
      "execution_count": 12,
      "outputs": [
        {
          "output_type": "stream",
          "name": "stdout",
          "text": [
            "Shape of scaled train X: (4003, 5, 4)\n",
            "Shape of scaled train Y: (4003, 1)\n"
          ]
        }
      ]
    },
    {
      "cell_type": "code",
      "source": [
        "# Preprocessing transforms dataframe into array\n",
        "array_val_scaled_X = scaler_X.transform(valid_X.reshape(-1, valid_X.shape[-1])).reshape(valid_X.shape)\n",
        "array_val_scaled_Y = scaler_Y.transform(valid_Y.reshape(-1, valid_Y.shape[-1])).reshape(valid_Y.shape)\n",
        "print('Shape of scaled test X:', array_val_scaled_X.shape)\n",
        "print('Shape of scaled test Y:', array_val_scaled_Y.shape)"
      ],
      "metadata": {
        "colab": {
          "base_uri": "https://localhost:8080/"
        },
        "id": "sPJmwVZGhk5D",
        "outputId": "d805dad4-4b00-4396-ce8d-559a574f9588"
      },
      "execution_count": 13,
      "outputs": [
        {
          "output_type": "stream",
          "name": "stdout",
          "text": [
            "Shape of scaled test X: (1040, 5, 4)\n",
            "Shape of scaled test Y: (1040, 1)\n"
          ]
        }
      ]
    },
    {
      "cell_type": "markdown",
      "source": [
        "**6. Defining the model**"
      ],
      "metadata": {
        "id": "hkJ6KvGFW1yQ"
      }
    },
    {
      "cell_type": "code",
      "source": [
        "from keras.models import Model\n",
        "from keras.models import load_model\n",
        "from keras.layers import Dense, Input\n",
        "from keras.layers.recurrent import LSTM\n",
        "from tensorflow.keras.layers import BatchNormalization\n",
        "from tensorflow.keras.optimizers import Adam\n",
        "from keras.callbacks import ModelCheckpoint"
      ],
      "metadata": {
        "id": "IO7KHECbfyfo"
      },
      "execution_count": 14,
      "outputs": []
    },
    {
      "cell_type": "code",
      "source": [
        "# Defining the shape of the input layer as (None, 5, 4),\n",
        "# where \"None\" indicates the number of instances\n",
        "# five indicates the number of timesteps, and four, the number of features.\n",
        "# data type is float32\n",
        "input_shape = array_train_scaled_X[0,:, :].shape\n",
        "model_input = Input(shape=input_shape, dtype='float32')"
      ],
      "metadata": {
        "id": "OuK_bntTjL2J"
      },
      "execution_count": 15,
      "outputs": []
    },
    {
      "cell_type": "code",
      "source": [
        "# Output Activation funtion - relu \n",
        "def lstm_model_specs(model_input):\n",
        "  lstm_layer = LSTM(100, return_sequences=True)(model_input)\n",
        "  batch_norm = BatchNormalization()(lstm_layer)\n",
        "  lstm_layer2= LSTM(100)(batch_norm)\n",
        "  batch_norm2 = BatchNormalization()(lstm_layer2)\n",
        "  output_layer = Dense(1, activation='relu')(batch_norm2)\n",
        "  model = Model(model_input, output_layer, name='lstm_model')\n",
        "  return model\n",
        "\n",
        "# To be able to stack more LSTM layers, a 3D array is needed.\n",
        "# return_sequences=True, otherwise the output of the LSTM model \n",
        "# will be a 2D array instead of a 3D array."
      ],
      "metadata": {
        "id": "viBV39nqjpN6"
      },
      "execution_count": 16,
      "outputs": []
    },
    {
      "cell_type": "code",
      "source": [
        "lstm_model_1 = lstm_model_specs(model_input)"
      ],
      "metadata": {
        "id": "RhJ_uU2mkppy"
      },
      "execution_count": 17,
      "outputs": []
    },
    {
      "cell_type": "code",
      "source": [
        "# Hyperparameters\n",
        "num_epochs = 20\n",
        "batch_size=16"
      ],
      "metadata": {
        "id": "R6xH6u9WkyVT"
      },
      "execution_count": 18,
      "outputs": []
    },
    {
      "cell_type": "code",
      "source": [
        "# ADAM OPTIMIZER, LEARNING RATE 1e-3\n",
        "def compile_and_train(model, num_epochs, batch_size): \n",
        "  model.compile(loss='mse', optimizer=Adam(1e-3))\n",
        "  model.summary()\n",
        "  save_weights_at = os.path.join('keras_lstm_models', 'Option_Prices_LSTM_weights.{epoch:02d}-{val_loss:.4f}.hdf5')\n",
        "  save_best = ModelCheckpoint(save_weights_at, monitor='val_loss', verbose=0, save_weights_only=False,\n",
        "                                                 save_best_only=True, mode='min', period=1)\n",
        "  history = model.fit(x=array_train_scaled_X, y=array_train_scaled_Y, batch_size=batch_size, \n",
        "                     epochs=num_epochs, verbose=1, callbacks=[save_best], \n",
        "                     validation_data=(array_val_scaled_X, array_val_scaled_Y), shuffle=True)\n",
        "  return history"
      ],
      "metadata": {
        "id": "kdJSfQVdlsKS"
      },
      "execution_count": 19,
      "outputs": []
    },
    {
      "cell_type": "code",
      "source": [
        "lstm_model_history = compile_and_train(lstm_model_1, num_epochs, batch_size)"
      ],
      "metadata": {
        "colab": {
          "base_uri": "https://localhost:8080/"
        },
        "id": "uvIEUQjTmCQY",
        "outputId": "5de37783-ba3a-416f-cc2f-488ed54bb85e"
      },
      "execution_count": 20,
      "outputs": [
        {
          "output_type": "stream",
          "name": "stdout",
          "text": [
            "Model: \"lstm_model\"\n",
            "_________________________________________________________________\n",
            " Layer (type)                Output Shape              Param #   \n",
            "=================================================================\n",
            " input_1 (InputLayer)        [(None, 5, 4)]            0         \n",
            "                                                                 \n",
            " lstm (LSTM)                 (None, 5, 100)            42000     \n",
            "                                                                 \n",
            " batch_normalization (BatchN  (None, 5, 100)           400       \n",
            " ormalization)                                                   \n",
            "                                                                 \n",
            " lstm_1 (LSTM)               (None, 100)               80400     \n",
            "                                                                 \n",
            " batch_normalization_1 (Batc  (None, 100)              400       \n",
            " hNormalization)                                                 \n",
            "                                                                 \n",
            " dense (Dense)               (None, 1)                 101       \n",
            "                                                                 \n",
            "=================================================================\n",
            "Total params: 123,301\n",
            "Trainable params: 122,901\n",
            "Non-trainable params: 400\n",
            "_________________________________________________________________\n",
            "WARNING:tensorflow:`period` argument is deprecated. Please use `save_freq` to specify the frequency in number of batches seen.\n",
            "Epoch 1/20\n",
            "251/251 [==============================] - 12s 24ms/step - loss: 0.3406 - val_loss: 0.7255\n",
            "Epoch 2/20\n",
            "251/251 [==============================] - 5s 22ms/step - loss: 0.2912 - val_loss: 0.7255\n",
            "Epoch 3/20\n",
            "251/251 [==============================] - 6s 22ms/step - loss: 0.2767 - val_loss: 0.7255\n",
            "Epoch 4/20\n",
            "251/251 [==============================] - 6s 22ms/step - loss: 0.2635 - val_loss: 0.7255\n",
            "Epoch 5/20\n",
            "251/251 [==============================] - 6s 22ms/step - loss: 0.2583 - val_loss: 0.7255\n",
            "Epoch 6/20\n",
            "251/251 [==============================] - 6s 22ms/step - loss: 0.2603 - val_loss: 0.7255\n",
            "Epoch 7/20\n",
            "251/251 [==============================] - 6s 22ms/step - loss: 0.2567 - val_loss: 0.7255\n",
            "Epoch 8/20\n",
            "251/251 [==============================] - 6s 22ms/step - loss: 0.2538 - val_loss: 0.7255\n",
            "Epoch 9/20\n",
            "251/251 [==============================] - 6s 22ms/step - loss: 0.2491 - val_loss: 0.7255\n",
            "Epoch 10/20\n",
            "251/251 [==============================] - 6s 22ms/step - loss: 0.2474 - val_loss: 0.7255\n",
            "Epoch 11/20\n",
            "251/251 [==============================] - 5s 22ms/step - loss: 0.2505 - val_loss: 0.7255\n",
            "Epoch 12/20\n",
            "251/251 [==============================] - 5s 22ms/step - loss: 0.2491 - val_loss: 0.7255\n",
            "Epoch 13/20\n",
            "251/251 [==============================] - 5s 22ms/step - loss: 0.2470 - val_loss: 0.7255\n",
            "Epoch 14/20\n",
            "251/251 [==============================] - 6s 25ms/step - loss: 0.2517 - val_loss: 0.7255\n",
            "Epoch 15/20\n",
            "251/251 [==============================] - 6s 22ms/step - loss: 0.2473 - val_loss: 0.7258\n",
            "Epoch 16/20\n",
            "251/251 [==============================] - 6s 25ms/step - loss: 0.2468 - val_loss: 0.7255\n",
            "Epoch 17/20\n",
            "251/251 [==============================] - 5s 22ms/step - loss: 0.2485 - val_loss: 0.7255\n",
            "Epoch 18/20\n",
            "251/251 [==============================] - 5s 22ms/step - loss: 0.2472 - val_loss: 0.7255\n",
            "Epoch 19/20\n",
            "251/251 [==============================] - 6s 22ms/step - loss: 0.2434 - val_loss: 0.7255\n",
            "Epoch 20/20\n",
            "251/251 [==============================] - 5s 22ms/step - loss: 0.2456 - val_loss: 0.7255\n"
          ]
        }
      ]
    },
    {
      "cell_type": "code",
      "source": [
        "# Output layer activation function = relu, \n",
        "# results in a constant output for the validation loss.\n",
        "# Option_Prices_LSTM_weights.01-0.7255.hdf5"
      ],
      "metadata": {
        "id": "3BAxYjpCn2fI"
      },
      "execution_count": 21,
      "outputs": []
    },
    {
      "cell_type": "code",
      "source": [
        "# Output Activation funtion - linear \n",
        "def lstm_model_specs_1(model_input):\n",
        "  lstm_layer = LSTM(100, return_sequences=True)(model_input)\n",
        "  batch_norm = BatchNormalization()(lstm_layer)\n",
        "  lstm_layer2= LSTM(100)(batch_norm)\n",
        "  batch_norm2 = BatchNormalization()(lstm_layer2)\n",
        "  output_layer = Dense(1, activation='linear')(batch_norm2)\n",
        "  model = Model(model_input, output_layer, name='lstm_model')\n",
        "  return model"
      ],
      "metadata": {
        "id": "rnZd4XCfmmOV"
      },
      "execution_count": 22,
      "outputs": []
    },
    {
      "cell_type": "code",
      "source": [
        "lstm_model_2 = lstm_model_specs_1(model_input)"
      ],
      "metadata": {
        "id": "lwCftB2tmysO"
      },
      "execution_count": 23,
      "outputs": []
    },
    {
      "cell_type": "code",
      "source": [
        "# Compiling model with Adam optimizer - lr 1e-3\n",
        "lstm_model_history_1 = compile_and_train(lstm_model_2, num_epochs, batch_size)"
      ],
      "metadata": {
        "colab": {
          "base_uri": "https://localhost:8080/"
        },
        "id": "c5C-FVIVm8BH",
        "outputId": "3ef98517-e30e-4c7d-c80d-57ece3bf0ddd"
      },
      "execution_count": 24,
      "outputs": [
        {
          "output_type": "stream",
          "name": "stdout",
          "text": [
            "Model: \"lstm_model\"\n",
            "_________________________________________________________________\n",
            " Layer (type)                Output Shape              Param #   \n",
            "=================================================================\n",
            " input_1 (InputLayer)        [(None, 5, 4)]            0         \n",
            "                                                                 \n",
            " lstm_2 (LSTM)               (None, 5, 100)            42000     \n",
            "                                                                 \n",
            " batch_normalization_2 (Batc  (None, 5, 100)           400       \n",
            " hNormalization)                                                 \n",
            "                                                                 \n",
            " lstm_3 (LSTM)               (None, 100)               80400     \n",
            "                                                                 \n",
            " batch_normalization_3 (Batc  (None, 100)              400       \n",
            " hNormalization)                                                 \n",
            "                                                                 \n",
            " dense_1 (Dense)             (None, 1)                 101       \n",
            "                                                                 \n",
            "=================================================================\n",
            "Total params: 123,301\n",
            "Trainable params: 122,901\n",
            "Non-trainable params: 400\n",
            "_________________________________________________________________\n",
            "WARNING:tensorflow:`period` argument is deprecated. Please use `save_freq` to specify the frequency in number of batches seen.\n",
            "Epoch 1/20\n",
            "251/251 [==============================] - 21s 44ms/step - loss: 0.1761 - val_loss: 0.4224\n",
            "Epoch 2/20\n",
            "251/251 [==============================] - 7s 28ms/step - loss: 0.1155 - val_loss: 0.2033\n",
            "Epoch 3/20\n",
            "251/251 [==============================] - 9s 37ms/step - loss: 0.0950 - val_loss: 0.0135\n",
            "Epoch 4/20\n",
            "251/251 [==============================] - 7s 29ms/step - loss: 0.0981 - val_loss: 0.1147\n",
            "Epoch 5/20\n",
            "251/251 [==============================] - 5s 22ms/step - loss: 0.0928 - val_loss: 0.0631\n",
            "Epoch 6/20\n",
            "251/251 [==============================] - 5s 22ms/step - loss: 0.1049 - val_loss: 0.0442\n",
            "Epoch 7/20\n",
            "251/251 [==============================] - 5s 22ms/step - loss: 0.0845 - val_loss: 0.1722\n",
            "Epoch 8/20\n",
            "251/251 [==============================] - 5s 21ms/step - loss: 0.0799 - val_loss: 0.0568\n",
            "Epoch 9/20\n",
            "251/251 [==============================] - 6s 22ms/step - loss: 0.0847 - val_loss: 0.0058\n",
            "Epoch 10/20\n",
            "251/251 [==============================] - 5s 22ms/step - loss: 0.0723 - val_loss: 0.0324\n",
            "Epoch 11/20\n",
            "251/251 [==============================] - 5s 22ms/step - loss: 0.0904 - val_loss: 0.0509\n",
            "Epoch 12/20\n",
            "251/251 [==============================] - 5s 22ms/step - loss: 0.0762 - val_loss: 0.0119\n",
            "Epoch 13/20\n",
            "251/251 [==============================] - 5s 22ms/step - loss: 0.0816 - val_loss: 0.0147\n",
            "Epoch 14/20\n",
            "251/251 [==============================] - 5s 22ms/step - loss: 0.0739 - val_loss: 0.0528\n",
            "Epoch 15/20\n",
            "251/251 [==============================] - 5s 22ms/step - loss: 0.0796 - val_loss: 0.0283\n",
            "Epoch 16/20\n",
            "251/251 [==============================] - 5s 21ms/step - loss: 0.0785 - val_loss: 0.0112\n",
            "Epoch 17/20\n",
            "251/251 [==============================] - 5s 22ms/step - loss: 0.0794 - val_loss: 0.0170\n",
            "Epoch 18/20\n",
            "251/251 [==============================] - 5s 22ms/step - loss: 0.0697 - val_loss: 0.0314\n",
            "Epoch 19/20\n",
            "251/251 [==============================] - 5s 22ms/step - loss: 0.0837 - val_loss: 0.0091\n",
            "Epoch 20/20\n",
            "251/251 [==============================] - 6s 22ms/step - loss: 0.0714 - val_loss: 0.0136\n"
          ]
        }
      ]
    },
    {
      "cell_type": "code",
      "source": [
        "# Chosing the best epoch for the calculation of predictions.\n",
        "best_model_lstm = load_model(os.path.join('keras_lstm_models', 'Option_Prices_LSTM_weights.09-0.0058.hdf5'))\n",
        "preds_lstm = best_model_lstm(array_val_scaled_X)\n",
        "\n",
        "# Option_Prices_LSTM_weights.14-0.0141.hdf5, 18/05/2022\n",
        "# Option_Prices_LSTM_weights.09-0.0058.hdf5, 18/05/2022"
      ],
      "metadata": {
        "id": "nL05qWo4nxLQ"
      },
      "execution_count": 25,
      "outputs": []
    },
    {
      "cell_type": "code",
      "source": [
        "# Reversing the standard scalar transformation\n",
        "preds_lstm_Y = scaler_Y.inverse_transform(preds_lstm)"
      ],
      "metadata": {
        "id": "-8_B7sC4opmI"
      },
      "execution_count": 26,
      "outputs": []
    },
    {
      "cell_type": "code",
      "source": [
        "# Checking the results obtained\n",
        "preds_lstm_df = pd.DataFrame(preds_lstm_Y)\n",
        "preds_lstm_df[0].describe()"
      ],
      "metadata": {
        "colab": {
          "base_uri": "https://localhost:8080/"
        },
        "id": "lO_psuOEowbp",
        "outputId": "17b7926d-6ca0-45e1-a8c0-c47b3110eeb1"
      },
      "execution_count": 27,
      "outputs": [
        {
          "output_type": "execute_result",
          "data": {
            "text/plain": [
              "count    1040.000000\n",
              "mean        0.808122\n",
              "std         0.287948\n",
              "min         0.204568\n",
              "25%         0.609570\n",
              "50%         0.864752\n",
              "75%         1.064069\n",
              "max         1.251203\n",
              "Name: 0, dtype: float64"
            ]
          },
          "metadata": {},
          "execution_count": 27
        }
      ]
    },
    {
      "cell_type": "code",
      "source": [
        "# ADAM OPTIMIZER, LEARNING RATE 1e-4\n",
        "def compile_and_train_2(model, num_epochs, batch_size): \n",
        "  model.compile(loss='mse', optimizer=Adam(1e-4))\n",
        "  model.summary()\n",
        "  save_weights_at = os.path.join('keras_lstm_models', 'Option_Prices_LSTM_weights.{epoch:02d}-{val_loss:.4f}.hdf5')\n",
        "  save_best = ModelCheckpoint(save_weights_at, monitor='val_loss', verbose=0, save_weights_only=False,\n",
        "                                                 save_best_only=True, mode='min', period=1)\n",
        "  history = model.fit(x=array_train_scaled_X, y=array_train_scaled_Y, batch_size=batch_size, \n",
        "                     epochs=num_epochs, verbose=1, callbacks=[save_best], \n",
        "                     validation_data=(array_val_scaled_X, array_val_scaled_Y), shuffle=True)\n",
        "  return history"
      ],
      "metadata": {
        "id": "ZUe46IOeqy7x"
      },
      "execution_count": 28,
      "outputs": []
    },
    {
      "cell_type": "code",
      "source": [
        "# linear activation function in output layer, Adam optimizer learning rate 1e-4\n",
        "lstm_model_history_2 = compile_and_train_2(lstm_model_2, num_epochs, batch_size)"
      ],
      "metadata": {
        "colab": {
          "base_uri": "https://localhost:8080/"
        },
        "id": "iSoBLuRjq86_",
        "outputId": "0c33beee-7437-4da3-f1ac-0f6b5839481e"
      },
      "execution_count": 29,
      "outputs": [
        {
          "output_type": "stream",
          "name": "stdout",
          "text": [
            "Model: \"lstm_model\"\n",
            "_________________________________________________________________\n",
            " Layer (type)                Output Shape              Param #   \n",
            "=================================================================\n",
            " input_1 (InputLayer)        [(None, 5, 4)]            0         \n",
            "                                                                 \n",
            " lstm_2 (LSTM)               (None, 5, 100)            42000     \n",
            "                                                                 \n",
            " batch_normalization_2 (Batc  (None, 5, 100)           400       \n",
            " hNormalization)                                                 \n",
            "                                                                 \n",
            " lstm_3 (LSTM)               (None, 100)               80400     \n",
            "                                                                 \n",
            " batch_normalization_3 (Batc  (None, 100)              400       \n",
            " hNormalization)                                                 \n",
            "                                                                 \n",
            " dense_1 (Dense)             (None, 1)                 101       \n",
            "                                                                 \n",
            "=================================================================\n",
            "Total params: 123,301\n",
            "Trainable params: 122,901\n",
            "Non-trainable params: 400\n",
            "_________________________________________________________________\n",
            "WARNING:tensorflow:`period` argument is deprecated. Please use `save_freq` to specify the frequency in number of batches seen.\n",
            "Epoch 1/20\n",
            "251/251 [==============================] - 12s 24ms/step - loss: 0.0647 - val_loss: 0.0095\n",
            "Epoch 2/20\n",
            "251/251 [==============================] - 5s 22ms/step - loss: 0.0647 - val_loss: 0.0127\n",
            "Epoch 3/20\n",
            "251/251 [==============================] - 5s 22ms/step - loss: 0.0580 - val_loss: 0.0116\n",
            "Epoch 4/20\n",
            "251/251 [==============================] - 5s 22ms/step - loss: 0.0751 - val_loss: 0.0120\n",
            "Epoch 5/20\n",
            "251/251 [==============================] - 5s 22ms/step - loss: 0.0711 - val_loss: 0.0083\n",
            "Epoch 6/20\n",
            "251/251 [==============================] - 5s 22ms/step - loss: 0.0784 - val_loss: 0.0107\n",
            "Epoch 7/20\n",
            "251/251 [==============================] - 5s 22ms/step - loss: 0.0631 - val_loss: 0.0097\n",
            "Epoch 8/20\n",
            "251/251 [==============================] - 5s 22ms/step - loss: 0.0632 - val_loss: 0.0091\n",
            "Epoch 9/20\n",
            "251/251 [==============================] - 6s 22ms/step - loss: 0.0646 - val_loss: 0.0082\n",
            "Epoch 10/20\n",
            "251/251 [==============================] - 6s 22ms/step - loss: 0.0741 - val_loss: 0.0086\n",
            "Epoch 11/20\n",
            "251/251 [==============================] - 6s 24ms/step - loss: 0.0682 - val_loss: 0.0159\n",
            "Epoch 12/20\n",
            "251/251 [==============================] - 5s 21ms/step - loss: 0.0683 - val_loss: 0.0127\n",
            "Epoch 13/20\n",
            "251/251 [==============================] - 5s 21ms/step - loss: 0.0636 - val_loss: 0.0107\n",
            "Epoch 14/20\n",
            "251/251 [==============================] - 5s 21ms/step - loss: 0.0648 - val_loss: 0.0128\n",
            "Epoch 15/20\n",
            "251/251 [==============================] - 5s 22ms/step - loss: 0.0620 - val_loss: 0.0100\n",
            "Epoch 16/20\n",
            "251/251 [==============================] - 5s 22ms/step - loss: 0.0550 - val_loss: 0.0068\n",
            "Epoch 17/20\n",
            "251/251 [==============================] - 5s 22ms/step - loss: 0.0654 - val_loss: 0.0070\n",
            "Epoch 18/20\n",
            "251/251 [==============================] - 5s 21ms/step - loss: 0.0700 - val_loss: 0.0083\n",
            "Epoch 19/20\n",
            "251/251 [==============================] - 5s 22ms/step - loss: 0.0687 - val_loss: 0.0087\n",
            "Epoch 20/20\n",
            "251/251 [==============================] - 5s 22ms/step - loss: 0.0628 - val_loss: 0.0143\n"
          ]
        }
      ]
    },
    {
      "cell_type": "code",
      "source": [
        "# Chosing the best epoch for the calculation of predictions.\n",
        "best_model_lstm_2 = load_model(os.path.join('keras_lstm_models', 'Option_Prices_LSTM_weights.16-0.0068.hdf5'))\n",
        "preds_lstm_2 = best_model_lstm_2(array_val_scaled_X)\n",
        "\n",
        "# Option_Prices_LSTM_weights.09-0.0264.hdf5, 18/05/2022\n",
        "# Option_Prices_LSTM_weights.16-0.0068.hdf5, 18/05/2022"
      ],
      "metadata": {
        "id": "G4Hm_2HNrz5d"
      },
      "execution_count": 30,
      "outputs": []
    },
    {
      "cell_type": "code",
      "source": [
        "# Reversing the standard scalar transformation\n",
        "preds_lstm_Y_2 = scaler_Y.inverse_transform(preds_lstm_2)"
      ],
      "metadata": {
        "id": "tqLrv9-jsXEl"
      },
      "execution_count": 31,
      "outputs": []
    },
    {
      "cell_type": "code",
      "source": [
        "# Checking the results obtained\n",
        "preds_lstm_df_2 = pd.DataFrame(preds_lstm_Y_2)\n",
        "preds_lstm_df_2[0].describe()"
      ],
      "metadata": {
        "colab": {
          "base_uri": "https://localhost:8080/"
        },
        "id": "ZbtMGoJjsPBo",
        "outputId": "fa5f0076-904b-4cf5-d768-10868165230b"
      },
      "execution_count": 32,
      "outputs": [
        {
          "output_type": "execute_result",
          "data": {
            "text/plain": [
              "count    1040.000000\n",
              "mean        0.985239\n",
              "std         0.230549\n",
              "min         0.427091\n",
              "25%         0.887438\n",
              "50%         1.004863\n",
              "75%         1.157781\n",
              "max         1.346536\n",
              "Name: 0, dtype: float64"
            ]
          },
          "metadata": {},
          "execution_count": 32
        }
      ]
    },
    {
      "cell_type": "code",
      "source": [
        "# ADAM OPTIMIZER, LEARNING RATE 1e-5\n",
        "def compile_and_train_3(model, num_epochs, batch_size): \n",
        "  model.compile(loss='mse', optimizer=Adam(1e-5))\n",
        "  model.summary()\n",
        "  save_weights_at = os.path.join('keras_lstm_models', 'Option_Prices_LSTM_weights.{epoch:02d}-{val_loss:.4f}.hdf5')\n",
        "  save_best = ModelCheckpoint(save_weights_at, monitor='val_loss', verbose=0, save_weights_only=False,\n",
        "                                                 save_best_only=True, mode='min', period=1)\n",
        "  history = model.fit(x=array_train_scaled_X, y=array_train_scaled_Y, batch_size=batch_size, \n",
        "                     epochs=num_epochs, verbose=1, callbacks=[save_best], \n",
        "                     validation_data=(array_val_scaled_X, array_val_scaled_Y), shuffle=True)\n",
        "  return history"
      ],
      "metadata": {
        "id": "rsSkXgBd4_He"
      },
      "execution_count": 33,
      "outputs": []
    },
    {
      "cell_type": "code",
      "source": [
        "# linear activation function in output layer, Adam optimizer learning rate 1e-5\n",
        "lstm_model_history_3 = compile_and_train_3(lstm_model_2, num_epochs, batch_size)"
      ],
      "metadata": {
        "colab": {
          "base_uri": "https://localhost:8080/"
        },
        "id": "_ua5548h5Sa_",
        "outputId": "7db88e0c-eaa2-4871-c120-07920356d154"
      },
      "execution_count": 34,
      "outputs": [
        {
          "output_type": "stream",
          "name": "stdout",
          "text": [
            "Model: \"lstm_model\"\n",
            "_________________________________________________________________\n",
            " Layer (type)                Output Shape              Param #   \n",
            "=================================================================\n",
            " input_1 (InputLayer)        [(None, 5, 4)]            0         \n",
            "                                                                 \n",
            " lstm_2 (LSTM)               (None, 5, 100)            42000     \n",
            "                                                                 \n",
            " batch_normalization_2 (Batc  (None, 5, 100)           400       \n",
            " hNormalization)                                                 \n",
            "                                                                 \n",
            " lstm_3 (LSTM)               (None, 100)               80400     \n",
            "                                                                 \n",
            " batch_normalization_3 (Batc  (None, 100)              400       \n",
            " hNormalization)                                                 \n",
            "                                                                 \n",
            " dense_1 (Dense)             (None, 1)                 101       \n",
            "                                                                 \n",
            "=================================================================\n",
            "Total params: 123,301\n",
            "Trainable params: 122,901\n",
            "Non-trainable params: 400\n",
            "_________________________________________________________________\n",
            "WARNING:tensorflow:`period` argument is deprecated. Please use `save_freq` to specify the frequency in number of batches seen.\n",
            "Epoch 1/20\n",
            "251/251 [==============================] - 15s 24ms/step - loss: 0.0558 - val_loss: 0.0114\n",
            "Epoch 2/20\n",
            "251/251 [==============================] - 5s 21ms/step - loss: 0.0685 - val_loss: 0.0116\n",
            "Epoch 3/20\n",
            "251/251 [==============================] - 5s 22ms/step - loss: 0.0671 - val_loss: 0.0130\n",
            "Epoch 4/20\n",
            "251/251 [==============================] - 5s 21ms/step - loss: 0.0686 - val_loss: 0.0140\n",
            "Epoch 5/20\n",
            "251/251 [==============================] - 5s 22ms/step - loss: 0.0779 - val_loss: 0.0130\n",
            "Epoch 6/20\n",
            "251/251 [==============================] - 5s 22ms/step - loss: 0.0619 - val_loss: 0.0108\n",
            "Epoch 7/20\n",
            "251/251 [==============================] - 5s 22ms/step - loss: 0.0660 - val_loss: 0.0144\n",
            "Epoch 8/20\n",
            "251/251 [==============================] - 6s 25ms/step - loss: 0.0629 - val_loss: 0.0110\n",
            "Epoch 9/20\n",
            "251/251 [==============================] - 5s 21ms/step - loss: 0.0718 - val_loss: 0.0193\n",
            "Epoch 10/20\n",
            "251/251 [==============================] - 5s 22ms/step - loss: 0.0600 - val_loss: 0.0120\n",
            "Epoch 11/20\n",
            "251/251 [==============================] - 5s 21ms/step - loss: 0.0784 - val_loss: 0.0166\n",
            "Epoch 12/20\n",
            "251/251 [==============================] - 5s 22ms/step - loss: 0.0597 - val_loss: 0.0153\n",
            "Epoch 13/20\n",
            "251/251 [==============================] - 5s 21ms/step - loss: 0.0744 - val_loss: 0.0142\n",
            "Epoch 14/20\n",
            "251/251 [==============================] - 5s 21ms/step - loss: 0.0606 - val_loss: 0.0121\n",
            "Epoch 15/20\n",
            "251/251 [==============================] - 5s 22ms/step - loss: 0.0751 - val_loss: 0.0151\n",
            "Epoch 16/20\n",
            "251/251 [==============================] - 5s 22ms/step - loss: 0.0738 - val_loss: 0.0075\n",
            "Epoch 17/20\n",
            "251/251 [==============================] - 5s 22ms/step - loss: 0.0643 - val_loss: 0.0135\n",
            "Epoch 18/20\n",
            "251/251 [==============================] - 5s 22ms/step - loss: 0.0657 - val_loss: 0.0115\n",
            "Epoch 19/20\n",
            "251/251 [==============================] - 6s 25ms/step - loss: 0.0611 - val_loss: 0.0104\n",
            "Epoch 20/20\n",
            "251/251 [==============================] - 5s 22ms/step - loss: 0.0643 - val_loss: 0.0123\n"
          ]
        }
      ]
    },
    {
      "cell_type": "code",
      "source": [
        "# Chosing the best epoch for the calculation of predictions.\n",
        "best_model_lstm_3 = load_model(os.path.join('keras_lstm_models', 'Option_Prices_LSTM_weights.16-0.0075.hdf5'))\n",
        "preds_lstm_3= best_model_lstm_3(array_val_scaled_X)\n",
        "\n",
        "# Option_Prices_LSTM_weights.02-0.0447.hdf5, 18/05/2022\n",
        "# Option_Prices_LSTM_weights.16-0.0075.hdf5, 18/05/2022"
      ],
      "metadata": {
        "id": "aILzO2Px5ME4"
      },
      "execution_count": 35,
      "outputs": []
    },
    {
      "cell_type": "code",
      "source": [
        "# Reversing the standard scalar transformation\n",
        "preds_lstm_Y_3 = scaler_Y.inverse_transform(preds_lstm_3)"
      ],
      "metadata": {
        "id": "OnATNidF5Uxs"
      },
      "execution_count": 36,
      "outputs": []
    },
    {
      "cell_type": "code",
      "source": [
        "# Checking the results obtained\n",
        "preds_lstm_df_3 = pd.DataFrame(preds_lstm_Y_3)\n",
        "preds_lstm_df_3[0].describe()"
      ],
      "metadata": {
        "colab": {
          "base_uri": "https://localhost:8080/"
        },
        "id": "ITQ1zn3E5VgV",
        "outputId": "7d87344f-9975-4f9d-bf1a-f35ca1c055cb"
      },
      "execution_count": 37,
      "outputs": [
        {
          "output_type": "execute_result",
          "data": {
            "text/plain": [
              "count    1040.000000\n",
              "mean        1.008378\n",
              "std         0.264556\n",
              "min         0.400015\n",
              "25%         0.870755\n",
              "50%         1.049895\n",
              "75%         1.223608\n",
              "max         1.441408\n",
              "Name: 0, dtype: float64"
            ]
          },
          "metadata": {},
          "execution_count": 37
        }
      ]
    },
    {
      "cell_type": "code",
      "source": [
        "# ADAM OPTIMIZER, LEARNING RATE 1e-6\n",
        "def compile_and_train_4(model, num_epochs, batch_size): \n",
        "  model.compile(loss='mse', optimizer=Adam(1e-6))\n",
        "  model.summary()\n",
        "  save_weights_at = os.path.join('keras_lstm_models', 'Option_Prices_LSTM_weights.{epoch:02d}-{val_loss:.4f}.hdf5')\n",
        "  save_best = ModelCheckpoint(save_weights_at, monitor='val_loss', verbose=0, save_weights_only=False,\n",
        "                                                 save_best_only=True, mode='min', period=1)\n",
        "  history = model.fit(x=array_train_scaled_X, y=array_train_scaled_Y, batch_size=batch_size, \n",
        "                     epochs=num_epochs, verbose=1, callbacks=[save_best], \n",
        "                     validation_data=(array_val_scaled_X, array_val_scaled_Y), shuffle=True)\n",
        "  return history"
      ],
      "metadata": {
        "id": "vwz3aote5Iyb"
      },
      "execution_count": 38,
      "outputs": []
    },
    {
      "cell_type": "code",
      "source": [
        "# linear activation function in output layer, Adam optimizer learning rate 1e-6\n",
        "lstm_model_history_4 = compile_and_train_4(lstm_model_2, num_epochs, batch_size)"
      ],
      "metadata": {
        "colab": {
          "base_uri": "https://localhost:8080/"
        },
        "id": "PMcsFnFH5yM4",
        "outputId": "cef43d02-fa35-4021-b332-94a90d7f4868"
      },
      "execution_count": 39,
      "outputs": [
        {
          "output_type": "stream",
          "name": "stdout",
          "text": [
            "Model: \"lstm_model\"\n",
            "_________________________________________________________________\n",
            " Layer (type)                Output Shape              Param #   \n",
            "=================================================================\n",
            " input_1 (InputLayer)        [(None, 5, 4)]            0         \n",
            "                                                                 \n",
            " lstm_2 (LSTM)               (None, 5, 100)            42000     \n",
            "                                                                 \n",
            " batch_normalization_2 (Batc  (None, 5, 100)           400       \n",
            " hNormalization)                                                 \n",
            "                                                                 \n",
            " lstm_3 (LSTM)               (None, 100)               80400     \n",
            "                                                                 \n",
            " batch_normalization_3 (Batc  (None, 100)              400       \n",
            " hNormalization)                                                 \n",
            "                                                                 \n",
            " dense_1 (Dense)             (None, 1)                 101       \n",
            "                                                                 \n",
            "=================================================================\n",
            "Total params: 123,301\n",
            "Trainable params: 122,901\n",
            "Non-trainable params: 400\n",
            "_________________________________________________________________\n",
            "WARNING:tensorflow:`period` argument is deprecated. Please use `save_freq` to specify the frequency in number of batches seen.\n",
            "Epoch 1/20\n",
            "251/251 [==============================] - 11s 24ms/step - loss: 0.0578 - val_loss: 0.0129\n",
            "Epoch 2/20\n",
            "251/251 [==============================] - 5s 22ms/step - loss: 0.0709 - val_loss: 0.0169\n",
            "Epoch 3/20\n",
            "251/251 [==============================] - 5s 22ms/step - loss: 0.0577 - val_loss: 0.0167\n",
            "Epoch 4/20\n",
            "251/251 [==============================] - 6s 22ms/step - loss: 0.0640 - val_loss: 0.0129\n",
            "Epoch 5/20\n",
            "251/251 [==============================] - 5s 22ms/step - loss: 0.0585 - val_loss: 0.0175\n",
            "Epoch 6/20\n",
            "251/251 [==============================] - 5s 22ms/step - loss: 0.0693 - val_loss: 0.0116\n",
            "Epoch 7/20\n",
            "251/251 [==============================] - 6s 22ms/step - loss: 0.0616 - val_loss: 0.0097\n",
            "Epoch 8/20\n",
            "251/251 [==============================] - 6s 22ms/step - loss: 0.0589 - val_loss: 0.0123\n",
            "Epoch 9/20\n",
            "251/251 [==============================] - 5s 22ms/step - loss: 0.0608 - val_loss: 0.0172\n",
            "Epoch 10/20\n",
            "251/251 [==============================] - 5s 22ms/step - loss: 0.0694 - val_loss: 0.0157\n",
            "Epoch 11/20\n",
            "251/251 [==============================] - 5s 21ms/step - loss: 0.0648 - val_loss: 0.0137\n",
            "Epoch 12/20\n",
            "251/251 [==============================] - 5s 22ms/step - loss: 0.0660 - val_loss: 0.0113\n",
            "Epoch 13/20\n",
            "251/251 [==============================] - 6s 22ms/step - loss: 0.0656 - val_loss: 0.0123\n",
            "Epoch 14/20\n",
            "251/251 [==============================] - 5s 22ms/step - loss: 0.0613 - val_loss: 0.0133\n",
            "Epoch 15/20\n",
            "251/251 [==============================] - 5s 22ms/step - loss: 0.0702 - val_loss: 0.0163\n",
            "Epoch 16/20\n",
            "251/251 [==============================] - 5s 22ms/step - loss: 0.0673 - val_loss: 0.0155\n",
            "Epoch 17/20\n",
            "251/251 [==============================] - 5s 21ms/step - loss: 0.0633 - val_loss: 0.0171\n",
            "Epoch 18/20\n",
            "251/251 [==============================] - 5s 22ms/step - loss: 0.0613 - val_loss: 0.0124\n",
            "Epoch 19/20\n",
            "251/251 [==============================] - 6s 22ms/step - loss: 0.0611 - val_loss: 0.0155\n",
            "Epoch 20/20\n",
            "251/251 [==============================] - 5s 22ms/step - loss: 0.0625 - val_loss: 0.0136\n"
          ]
        }
      ]
    },
    {
      "cell_type": "code",
      "source": [
        "# Chosing the best epoch for the calculation of predictions.\n",
        "best_model_lstm_4 = load_model(os.path.join('keras_lstm_models', 'Option_Prices_LSTM_weights.07-0.0097.hdf5'))\n",
        "preds_lstm_4= best_model_lstm_4(array_val_scaled_X)\n",
        "\n",
        "# Option_Prices_LSTM_weights.12-0.0563.hdf5, 18/05/2022\n",
        "# Option_Prices_LSTM_weights.07-0.0097.hdf5, 18/05/2022"
      ],
      "metadata": {
        "id": "0oq73ioW52Fv"
      },
      "execution_count": 40,
      "outputs": []
    },
    {
      "cell_type": "code",
      "source": [
        "# Reversing the standard scalar transformation\n",
        "preds_lstm_Y_4 = scaler_Y.inverse_transform(preds_lstm_4)"
      ],
      "metadata": {
        "id": "Ut2dXYkDFLTd"
      },
      "execution_count": 43,
      "outputs": []
    },
    {
      "cell_type": "code",
      "source": [
        "# Checking the results obtained\n",
        "preds_lstm_df_4 = pd.DataFrame(preds_lstm_Y_4)"
      ],
      "metadata": {
        "id": "mCJXNXje516m"
      },
      "execution_count": 44,
      "outputs": []
    },
    {
      "cell_type": "code",
      "source": [
        "preds_lstm_df_4[0].describe()"
      ],
      "metadata": {
        "colab": {
          "base_uri": "https://localhost:8080/"
        },
        "id": "hQ4vpM5s9_XA",
        "outputId": "1c702d52-0a3d-4dea-c56f-3faee27a56c2"
      },
      "execution_count": 45,
      "outputs": [
        {
          "output_type": "execute_result",
          "data": {
            "text/plain": [
              "count    1040.000000\n",
              "mean        1.035920\n",
              "std         0.271331\n",
              "min         0.418226\n",
              "25%         0.895970\n",
              "50%         1.076136\n",
              "75%         1.254693\n",
              "max         1.464593\n",
              "Name: 0, dtype: float64"
            ]
          },
          "metadata": {},
          "execution_count": 45
        }
      ]
    },
    {
      "cell_type": "markdown",
      "source": [
        "**7. Results**"
      ],
      "metadata": {
        "id": "hwZIVdpffklX"
      }
    },
    {
      "cell_type": "code",
      "source": [
        "# Plotting actual vs predicted values\n",
        "plt.figure(figsize=(10.5, 5.5))\n",
        "plt.plot(df_val['option_price'], linestyle='-', marker='.', linewidth=1, color='orangered')\n",
        "plt.plot(preds_lstm_df, linestyle='-', marker='.', linewidth=1, color='royalblue')\n",
        "plt.legend(['Actual','Predicted'], loc=2)\n",
        "plt.title('Actual vs Predicted Option prices - LSTM (Adam - Learning Rate 1e-3)')\n",
        "plt.ylabel('Option prices')\n",
        "plt.xlabel('Time series steps')\n",
        "plot_path = 'sample_data'\n",
        "plot_file = 'lstm_lr1e-3.png'\n",
        "plt.savefig(os.path.join(plot_path, plot_file), format='png', dpi=300)"
      ],
      "metadata": {
        "colab": {
          "base_uri": "https://localhost:8080/",
          "height": 377
        },
        "id": "CJld4MIlfkAR",
        "outputId": "d7931693-69d8-41ef-ddb7-860ecb414567"
      },
      "execution_count": 46,
      "outputs": [
        {
          "output_type": "display_data",
          "data": {
            "text/plain": [
              "<Figure size 756x396 with 1 Axes>"
            ],
            "image/png": "[encoded data removed]"
          },
          "metadata": {
            "needs_background": "light"
          }
        }
      ]
    },
    {
      "cell_type": "code",
      "source": [
        "# Plotting actual vs predicted values\n",
        "plt.figure(figsize=(10.5, 5.5))\n",
        "plt.plot(df_val['option_price'], linestyle='-', marker='.', linewidth=1, color='orangered')\n",
        "plt.plot(preds_lstm_df_2, linestyle='-', marker='.', linewidth=1, color='royalblue')\n",
        "plt.legend(['Actual','Predicted'], loc=2)\n",
        "plt.title('Actual vs Predicted Option prices - LSTM (Adam - Learning Rate 1e-4)')\n",
        "plt.ylabel('Option prices')\n",
        "plt.xlabel('Time series steps')\n",
        "plot_path = 'sample_data'\n",
        "plot_file = 'lstm_lr1e-4.png'\n",
        "plt.savefig(os.path.join(plot_path, plot_file), format='png', dpi=300)"
      ],
      "metadata": {
        "colab": {
          "base_uri": "https://localhost:8080/",
          "height": 377
        },
        "id": "0LAorrA-4O5p",
        "outputId": "eed271fb-25b8-49f7-d8dc-a2351f6fe389"
      },
      "execution_count": 47,
      "outputs": [
        {
          "output_type": "display_data",
          "data": {
            "text/plain": [
              "<Figure size 756x396 with 1 Axes>"
            ],
            "image/png": "[encoded data removed]"
          },
          "metadata": {
            "needs_background": "light"
          }
        }
      ]
    },
    {
      "cell_type": "code",
      "source": [
        "# Plotting actual vs predicted values\n",
        "plt.figure(figsize=(10.5, 5.5))\n",
        "plt.plot(df_val['option_price'], linestyle='-', marker='.', linewidth=1, color='orangered')\n",
        "plt.plot(preds_lstm_df_3, linestyle='-', marker='.', linewidth=1, color='royalblue')\n",
        "plt.legend(['Actual','Predicted'], loc=2)\n",
        "plt.title('Actual vs Predicted Option prices - LSTM (Adam - Learning Rate 1e-5)')\n",
        "plt.ylabel('Option prices')\n",
        "plt.xlabel('Time series steps')\n",
        "plot_path = 'sample_data'\n",
        "plot_file = 'lstm_lr1e-5.png'\n",
        "plt.savefig(os.path.join(plot_path, plot_file), format='png', dpi=300)"
      ],
      "metadata": {
        "colab": {
          "base_uri": "https://localhost:8080/",
          "height": 377
        },
        "id": "hhSQQ5mt4rrc",
        "outputId": "11e3aafe-bbfc-4cde-f084-f4ce9b268c3e"
      },
      "execution_count": 48,
      "outputs": [
        {
          "output_type": "display_data",
          "data": {
            "text/plain": [
              "<Figure size 756x396 with 1 Axes>"
            ],
            "image/png": "[encoded data removed]"
          },
          "metadata": {
            "needs_background": "light"
          }
        }
      ]
    },
    {
      "cell_type": "code",
      "source": [
        "# Plotting actual vs predicted values\n",
        "plt.figure(figsize=(10.5, 5.5))\n",
        "plt.plot(df_val['option_price'], linestyle='-', marker='.', linewidth=1, color='orangered')\n",
        "plt.plot(preds_lstm_df_4, linestyle='-', marker='.', linewidth=1, color='royalblue')\n",
        "plt.legend(['Actual','Predicted'], loc=2)\n",
        "plt.title('Actual vs Predicted Option prices - LSTM (Adam - Learning Rate 1e-6)')\n",
        "plt.ylabel('Option prices')\n",
        "plt.xlabel('Time series steps')\n",
        "plot_path = 'sample_data'\n",
        "plot_file = 'lstm_lr1e-6.png'\n",
        "plt.savefig(os.path.join(plot_path, plot_file), format='png', dpi=300)"
      ],
      "metadata": {
        "colab": {
          "base_uri": "https://localhost:8080/",
          "height": 377
        },
        "id": "cBnxLenC-Rm8",
        "outputId": "34579746-8254-4b5c-d6d3-c7b8455389ea"
      },
      "execution_count": 50,
      "outputs": [
        {
          "output_type": "display_data",
          "data": {
            "text/plain": [
              "<Figure size 756x396 with 1 Axes>"
            ],
            "image/png": "[encoded data removed]"
          },
          "metadata": {
            "needs_background": "light"
          }
        }
      ]
    },
    {
      "cell_type": "code",
      "source": [
        "from sklearn.metrics import mean_absolute_error, mean_squared_error, mean_absolute_percentage_error, r2_score\n",
        "from math import sqrt"
      ],
      "metadata": {
        "id": "q9ZSHiRcpL5E"
      },
      "execution_count": 51,
      "outputs": []
    },
    {
      "cell_type": "code",
      "execution_count": 52,
      "metadata": {
        "colab": {
          "base_uri": "https://localhost:8080/"
        },
        "id": "WkoodYFKWN-z",
        "outputId": "cf034120-0e27-4b06-83fb-c8a287377047"
      },
      "outputs": [
        {
          "output_type": "execute_result",
          "data": {
            "text/plain": [
              "(1040, 1)"
            ]
          },
          "metadata": {},
          "execution_count": 52
        }
      ],
      "source": [
        "# Creating a dataframe for validation data.\n",
        "# Drop the 5 first entries to be able to calculate performance metrics:\n",
        "actual_option_df = df_val[['option_price']].copy()\n",
        "actual_option_df = actual_option_df.iloc[5:]\n",
        "actual_option_df.shape\n",
        "# Found input variables with inconsistent numbers of samples: [1045, 1040]"
      ]
    },
    {
      "cell_type": "code",
      "source": [
        "# Adam - Learning Rate 1e-3\n",
        "def compute_metrics():\n",
        "  rmse = sqrt(mean_squared_error(actual_option_df, preds_lstm_df))\n",
        "  mae = mean_absolute_error(actual_option_df, preds_lstm_df)\n",
        "  mape = mean_absolute_percentage_error(actual_option_df, preds_lstm_df)\n",
        "  r_squared = r2_score(actual_option_df, preds_lstm_df)\n",
        "  return rmse, mae, mape, r_squared"
      ],
      "metadata": {
        "id": "YWLv7fZIpicj"
      },
      "execution_count": 53,
      "outputs": []
    },
    {
      "cell_type": "code",
      "source": [
        "rmse, mae, mape, r_squared = compute_metrics()\n",
        "\n",
        "print('RMSE for the validation set:', round(rmse, 4))\n",
        "print('MAE for the validation set:', round(mae, 4))\n",
        "print('MAPE for the validation set:', round(mape, 4))\n",
        "print('R Squared for the validation set:', round(r_squared, 4))"
      ],
      "metadata": {
        "colab": {
          "base_uri": "https://localhost:8080/"
        },
        "id": "fLQKfM7xptPx",
        "outputId": "e3fc706a-7134-4a91-e427-5dc59fb0e8f1"
      },
      "execution_count": 54,
      "outputs": [
        {
          "output_type": "stream",
          "name": "stdout",
          "text": [
            "RMSE for the validation set: 0.1438\n",
            "MAE for the validation set: 0.1108\n",
            "MAPE for the validation set: 0.1452\n",
            "R Squared for the validation set: 0.6856\n"
          ]
        }
      ]
    },
    {
      "cell_type": "code",
      "source": [
        "# Adam - Learning Rate 1e-4\n",
        "def compute_metrics_2():\n",
        "  rmse = sqrt(mean_squared_error(actual_option_df, preds_lstm_df_2))\n",
        "  mae = mean_absolute_error(actual_option_df, preds_lstm_df_2)\n",
        "  mape = mean_absolute_percentage_error(actual_option_df, preds_lstm_df_2)\n",
        "  r_squared = r2_score(actual_option_df, preds_lstm_df_2)\n",
        "  return rmse, mae, mape, r_squared"
      ],
      "metadata": {
        "id": "G9HwWhv24b4n"
      },
      "execution_count": 55,
      "outputs": []
    },
    {
      "cell_type": "code",
      "source": [
        "rmse, mae, mape, r_squared = compute_metrics_2()\n",
        "\n",
        "print('RMSE for the validation set:', round(rmse, 4))\n",
        "print('MAE for the validation set:', round(mae, 4))\n",
        "print('MAPE for the validation set:', round(mape, 4))\n",
        "print('R Squared for the validation set:', round(r_squared, 4))"
      ],
      "metadata": {
        "colab": {
          "base_uri": "https://localhost:8080/"
        },
        "id": "U6en5AMb4n6b",
        "outputId": "121ede30-4045-4432-d414-71f7d19d4ab2"
      },
      "execution_count": 56,
      "outputs": [
        {
          "output_type": "stream",
          "name": "stdout",
          "text": [
            "RMSE for the validation set: 0.1555\n",
            "MAE for the validation set: 0.1216\n",
            "MAPE for the validation set: 0.1552\n",
            "R Squared for the validation set: 0.6325\n"
          ]
        }
      ]
    },
    {
      "cell_type": "code",
      "source": [
        "# Adam - Learning Rate 1e-5\n",
        "def compute_metrics_3():\n",
        "  rmse = sqrt(mean_squared_error(actual_option_df, preds_lstm_df_3))\n",
        "  mae = mean_absolute_error(actual_option_df, preds_lstm_df_3)\n",
        "  mape = mean_absolute_percentage_error(actual_option_df, preds_lstm_df_3)\n",
        "  r_squared = r2_score(actual_option_df, preds_lstm_df_3)\n",
        "  return rmse, mae, mape, r_squared"
      ],
      "metadata": {
        "id": "AUQbQvar6QM-"
      },
      "execution_count": 57,
      "outputs": []
    },
    {
      "cell_type": "code",
      "source": [
        "rmse, mae, mape, r_squared = compute_metrics_3()\n",
        "\n",
        "print('RMSE for the validation set:', round(rmse, 4))\n",
        "print('MAE for the validation set:', round(mae, 4))\n",
        "print('MAPE for the validation set:', round(mape, 4))\n",
        "print('R Squared for the validation set:', round(r_squared, 4))"
      ],
      "metadata": {
        "colab": {
          "base_uri": "https://localhost:8080/"
        },
        "id": "Rw_a-Ag66TQp",
        "outputId": "896eec05-9def-477c-cd48-b9489a54334e"
      },
      "execution_count": 59,
      "outputs": [
        {
          "output_type": "stream",
          "name": "stdout",
          "text": [
            "RMSE for the validation set: 0.1629\n",
            "MAE for the validation set: 0.1357\n",
            "MAPE for the validation set: 0.1662\n",
            "R Squared for the validation set: 0.5964\n"
          ]
        }
      ]
    },
    {
      "cell_type": "code",
      "source": [
        "# Adam - Learning Rate 1e-6\n",
        "def compute_metrics_4():\n",
        "  rmse = sqrt(mean_squared_error(actual_option_df, preds_lstm_df_4))\n",
        "  mae = mean_absolute_error(actual_option_df, preds_lstm_df_4)\n",
        "  mape = mean_absolute_percentage_error(actual_option_df, preds_lstm_df_4)\n",
        "  r_squared = r2_score(actual_option_df, preds_lstm_df_4)\n",
        "  return rmse, mae, mape, r_squared"
      ],
      "metadata": {
        "id": "hg_LuzjE6UHV"
      },
      "execution_count": 60,
      "outputs": []
    },
    {
      "cell_type": "code",
      "source": [
        "rmse, mae, mape, r_squared = compute_metrics_4()\n",
        "\n",
        "print('RMSE for the validation set:', round(rmse, 4))\n",
        "print('MAE for the validation set:', round(mae, 4))\n",
        "print('MAPE for the validation set:', round(mape, 4))\n",
        "print('R Squared for the validation set:', round(r_squared, 4))"
      ],
      "metadata": {
        "colab": {
          "base_uri": "https://localhost:8080/"
        },
        "id": "irAcMvVn846v",
        "outputId": "e1f1b0d7-e774-4212-cf97-a53ffba5147a"
      },
      "execution_count": 61,
      "outputs": [
        {
          "output_type": "stream",
          "name": "stdout",
          "text": [
            "RMSE for the validation set: 0.1852\n",
            "MAE for the validation set: 0.1592\n",
            "MAPE for the validation set: 0.1924\n",
            "R Squared for the validation set: 0.4783\n"
          ]
        }
      ]
    }
  ]
}