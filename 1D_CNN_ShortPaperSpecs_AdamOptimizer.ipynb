{
  "cells": [
    {
      "cell_type": "markdown",
      "metadata": {
        "id": "view-in-github",
        "colab_type": "text"
      },
      "source": [
        "<a href=\"https://colab.research.google.com/github/MeriSP/Option_Pricing_F_Sub/blob/main/1D_CNN_ShortPaperSpecs_AdamOptimizer.ipynb\" target=\"_parent\"><img src=\"https://colab.research.google.com/assets/colab-badge.svg\" alt=\"Open In Colab\"/></a>"
      ]
    },
    {
      "cell_type": "markdown",
      "metadata": {
        "id": "NvNKJh_4WXQZ"
      },
      "source": [
        "**1. Importing the necessay libraries**"
      ]
    },
    {
      "cell_type": "code",
      "execution_count": null,
      "metadata": {
        "id": "T8M0tconfonK"
      },
      "outputs": [],
      "source": [
        "import os\n",
        "import sys\n",
        "import pandas as pd\n",
        "import numpy as np\n",
        "%matplotlib inline\n",
        "from matplotlib import pyplot as plt\n",
        "import seaborn as sns\n",
        "import datetime"
      ]
    },
    {
      "cell_type": "markdown",
      "metadata": {
        "id": "NpJ0COBmWZTA"
      },
      "source": [
        "**2. Uploading the dataset**"
      ]
    },
    {
      "cell_type": "code",
      "execution_count": null,
      "metadata": {
        "colab": {
          "base_uri": "https://localhost:8080/",
          "height": 270
        },
        "id": "8nYyoWlmfvhQ",
        "outputId": "362564a8-d067-4f01-97c5-a2eca26d23ff"
      },
      "outputs": [
        {
          "output_type": "execute_result",
          "data": {
            "text/plain": [
              "   No      date TimeBarStart  year  month  day  hour  minute ticker call  \\\n",
              "0   1  20220103  10:01:00 AM  2022      1    3    10       1    SPY    C   \n",
              "1   2  20220103  10:05:00 AM  2022      1    3    10       5    SPY    C   \n",
              "2   3  20220103  10:37:00 AM  2022      1    3    10      37    SPY    C   \n",
              "3   4  20220103  11:11:00 AM  2022      1    3    11      11    SPY    C   \n",
              "4   5  20220103  11:18:00 AM  2022      1    3    11      18    SPY    C   \n",
              "\n",
              "   strike expiration_date  option_price  underlying_price  moneyness  \\\n",
              "0     500       6/17/2022          9.33           475.535    0.95107   \n",
              "1     500       6/17/2022          9.16           475.195    0.95039   \n",
              "2     500       6/17/2022          9.37           475.995    0.95199   \n",
              "3     500       6/17/2022          9.20           475.565    0.95113   \n",
              "4     500       6/17/2022          9.07           475.240    0.95048   \n",
              "\n",
              "   days_to_ex  std_underlying  treasury_rate  \n",
              "0         118        0.001322           0.22  \n",
              "1         118        0.001181           0.22  \n",
              "2         118        0.001080           0.22  \n",
              "3         118        0.001175           0.22  \n",
              "4         118        0.001065           0.22  "
            ],
            "text/html": [
              "\n",
              "  <div id=\"df-3ae249ad-ca94-42ee-bc73-ee55395acf33\">\n",
              "    <div class=\"colab-df-container\">\n",
              "      <div>\n",
              "<style scoped>\n",
              "    .dataframe tbody tr th:only-of-type {\n",
              "        vertical-align: middle;\n",
              "    }\n",
              "\n",
              "    .dataframe tbody tr th {\n",
              "        vertical-align: top;\n",
              "    }\n",
              "\n",
              "    .dataframe thead th {\n",
              "        text-align: right;\n",
              "    }\n",
              "</style>\n",
              "<table border=\"1\" class=\"dataframe\">\n",
              "  <thead>\n",
              "    <tr style=\"text-align: right;\">\n",
              "      <th></th>\n",
              "      <th>No</th>\n",
              "      <th>date</th>\n",
              "      <th>TimeBarStart</th>\n",
              "      <th>year</th>\n",
              "      <th>month</th>\n",
              "      <th>day</th>\n",
              "      <th>hour</th>\n",
              "      <th>minute</th>\n",
              "      <th>ticker</th>\n",
              "      <th>call</th>\n",
              "      <th>strike</th>\n",
              "      <th>expiration_date</th>\n",
              "      <th>option_price</th>\n",
              "      <th>underlying_price</th>\n",
              "      <th>moneyness</th>\n",
              "      <th>days_to_ex</th>\n",
              "      <th>std_underlying</th>\n",
              "      <th>treasury_rate</th>\n",
              "    </tr>\n",
              "  </thead>\n",
              "  <tbody>\n",
              "    <tr>\n",
              "      <th>0</th>\n",
              "      <td>1</td>\n",
              "      <td>20220103</td>\n",
              "      <td>10:01:00 AM</td>\n",
              "      <td>2022</td>\n",
              "      <td>1</td>\n",
              "      <td>3</td>\n",
              "      <td>10</td>\n",
              "      <td>1</td>\n",
              "      <td>SPY</td>\n",
              "      <td>C</td>\n",
              "      <td>500</td>\n",
              "      <td>6/17/2022</td>\n",
              "      <td>9.33</td>\n",
              "      <td>475.535</td>\n",
              "      <td>0.95107</td>\n",
              "      <td>118</td>\n",
              "      <td>0.001322</td>\n",
              "      <td>0.22</td>\n",
              "    </tr>\n",
              "    <tr>\n",
              "      <th>1</th>\n",
              "      <td>2</td>\n",
              "      <td>20220103</td>\n",
              "      <td>10:05:00 AM</td>\n",
              "      <td>2022</td>\n",
              "      <td>1</td>\n",
              "      <td>3</td>\n",
              "      <td>10</td>\n",
              "      <td>5</td>\n",
              "      <td>SPY</td>\n",
              "      <td>C</td>\n",
              "      <td>500</td>\n",
              "      <td>6/17/2022</td>\n",
              "      <td>9.16</td>\n",
              "      <td>475.195</td>\n",
              "      <td>0.95039</td>\n",
              "      <td>118</td>\n",
              "      <td>0.001181</td>\n",
              "      <td>0.22</td>\n",
              "    </tr>\n",
              "    <tr>\n",
              "      <th>2</th>\n",
              "      <td>3</td>\n",
              "      <td>20220103</td>\n",
              "      <td>10:37:00 AM</td>\n",
              "      <td>2022</td>\n",
              "      <td>1</td>\n",
              "      <td>3</td>\n",
              "      <td>10</td>\n",
              "      <td>37</td>\n",
              "      <td>SPY</td>\n",
              "      <td>C</td>\n",
              "      <td>500</td>\n",
              "      <td>6/17/2022</td>\n",
              "      <td>9.37</td>\n",
              "      <td>475.995</td>\n",
              "      <td>0.95199</td>\n",
              "      <td>118</td>\n",
              "      <td>0.001080</td>\n",
              "      <td>0.22</td>\n",
              "    </tr>\n",
              "    <tr>\n",
              "      <th>3</th>\n",
              "      <td>4</td>\n",
              "      <td>20220103</td>\n",
              "      <td>11:11:00 AM</td>\n",
              "      <td>2022</td>\n",
              "      <td>1</td>\n",
              "      <td>3</td>\n",
              "      <td>11</td>\n",
              "      <td>11</td>\n",
              "      <td>SPY</td>\n",
              "      <td>C</td>\n",
              "      <td>500</td>\n",
              "      <td>6/17/2022</td>\n",
              "      <td>9.20</td>\n",
              "      <td>475.565</td>\n",
              "      <td>0.95113</td>\n",
              "      <td>118</td>\n",
              "      <td>0.001175</td>\n",
              "      <td>0.22</td>\n",
              "    </tr>\n",
              "    <tr>\n",
              "      <th>4</th>\n",
              "      <td>5</td>\n",
              "      <td>20220103</td>\n",
              "      <td>11:18:00 AM</td>\n",
              "      <td>2022</td>\n",
              "      <td>1</td>\n",
              "      <td>3</td>\n",
              "      <td>11</td>\n",
              "      <td>18</td>\n",
              "      <td>SPY</td>\n",
              "      <td>C</td>\n",
              "      <td>500</td>\n",
              "      <td>6/17/2022</td>\n",
              "      <td>9.07</td>\n",
              "      <td>475.240</td>\n",
              "      <td>0.95048</td>\n",
              "      <td>118</td>\n",
              "      <td>0.001065</td>\n",
              "      <td>0.22</td>\n",
              "    </tr>\n",
              "  </tbody>\n",
              "</table>\n",
              "</div>\n",
              "      <button class=\"colab-df-convert\" onclick=\"convertToInteractive('df-3ae249ad-ca94-42ee-bc73-ee55395acf33')\"\n",
              "              title=\"Convert this dataframe to an interactive table.\"\n",
              "              style=\"display:none;\">\n",
              "        \n",
              "  <svg xmlns=\"http://www.w3.org/2000/svg\" height=\"24px\"viewBox=\"0 0 24 24\"\n",
              "       width=\"24px\">\n",
              "    <path d=\"M0 0h24v24H0V0z\" fill=\"none\"/>\n",
              "    <path d=\"M18.56 5.44l.94 2.06.94-2.06 2.06-.94-2.06-.94-.94-2.06-.94 2.06-2.06.94zm-11 1L8.5 8.5l.94-2.06 2.06-.94-2.06-.94L8.5 2.5l-.94 2.06-2.06.94zm10 10l.94 2.06.94-2.06 2.06-.94-2.06-.94-.94-2.06-.94 2.06-2.06.94z\"/><path d=\"M17.41 7.96l-1.37-1.37c-.4-.4-.92-.59-1.43-.59-.52 0-1.04.2-1.43.59L10.3 9.45l-7.72 7.72c-.78.78-.78 2.05 0 2.83L4 21.41c.39.39.9.59 1.41.59.51 0 1.02-.2 1.41-.59l7.78-7.78 2.81-2.81c.8-.78.8-2.07 0-2.86zM5.41 20L4 18.59l7.72-7.72 1.47 1.35L5.41 20z\"/>\n",
              "  </svg>\n",
              "      </button>\n",
              "      \n",
              "  <style>\n",
              "    .colab-df-container {\n",
              "      display:flex;\n",
              "      flex-wrap:wrap;\n",
              "      gap: 12px;\n",
              "    }\n",
              "\n",
              "    .colab-df-convert {\n",
              "      background-color: #E8F0FE;\n",
              "      border: none;\n",
              "      border-radius: 50%;\n",
              "      cursor: pointer;\n",
              "      display: none;\n",
              "      fill: #1967D2;\n",
              "      height: 32px;\n",
              "      padding: 0 0 0 0;\n",
              "      width: 32px;\n",
              "    }\n",
              "\n",
              "    .colab-df-convert:hover {\n",
              "      background-color: #E2EBFA;\n",
              "      box-shadow: 0px 1px 2px rgba(60, 64, 67, 0.3), 0px 1px 3px 1px rgba(60, 64, 67, 0.15);\n",
              "      fill: #174EA6;\n",
              "    }\n",
              "\n",
              "    [theme=dark] .colab-df-convert {\n",
              "      background-color: #3B4455;\n",
              "      fill: #D2E3FC;\n",
              "    }\n",
              "\n",
              "    [theme=dark] .colab-df-convert:hover {\n",
              "      background-color: #434B5C;\n",
              "      box-shadow: 0px 1px 3px 1px rgba(0, 0, 0, 0.15);\n",
              "      filter: drop-shadow(0px 1px 2px rgba(0, 0, 0, 0.3));\n",
              "      fill: #FFFFFF;\n",
              "    }\n",
              "  </style>\n",
              "\n",
              "      <script>\n",
              "        const buttonEl =\n",
              "          document.querySelector('#df-3ae249ad-ca94-42ee-bc73-ee55395acf33 button.colab-df-convert');\n",
              "        buttonEl.style.display =\n",
              "          google.colab.kernel.accessAllowed ? 'block' : 'none';\n",
              "\n",
              "        async function convertToInteractive(key) {\n",
              "          const element = document.querySelector('#df-3ae249ad-ca94-42ee-bc73-ee55395acf33');\n",
              "          const dataTable =\n",
              "            await google.colab.kernel.invokeFunction('convertToInteractive',\n",
              "                                                     [key], {});\n",
              "          if (!dataTable) return;\n",
              "\n",
              "          const docLinkHtml = 'Like what you see? Visit the ' +\n",
              "            '<a target=\"_blank\" href=https://colab.research.google.com/notebooks/data_table.ipynb>data table notebook</a>'\n",
              "            + ' to learn more about interactive tables.';\n",
              "          element.innerHTML = '';\n",
              "          dataTable['output_type'] = 'display_data';\n",
              "          await google.colab.output.renderOutput(dataTable, element);\n",
              "          const docLink = document.createElement('div');\n",
              "          docLink.innerHTML = docLinkHtml;\n",
              "          element.appendChild(docLink);\n",
              "        }\n",
              "      </script>\n",
              "    </div>\n",
              "  </div>\n",
              "  "
            ]
          },
          "metadata": {},
          "execution_count": 4
        }
      ],
      "source": [
        "# Step 1. Upload file \"AlgoSeek_SPy500Jun172022.csv\" to Google Colab Document\n",
        "df = pd.read_csv('/content/sample_data/AlgoSeek_SPy500Jun172022.csv')\n",
        "df.head(5)"
      ]
    },
    {
      "cell_type": "markdown",
      "metadata": {
        "id": "g4B9XEdPWecY"
      },
      "source": [
        "**3. Data Preprocessing**"
      ]
    },
    {
      "cell_type": "code",
      "execution_count": null,
      "metadata": {
        "colab": {
          "base_uri": "https://localhost:8080/"
        },
        "id": "0wsmQWK_fwWD",
        "outputId": "621c1107-5632-4998-a6fb-091eaa20e303"
      },
      "outputs": [
        {
          "output_type": "execute_result",
          "data": {
            "text/plain": [
              "0   2022-01-03 10:01:00\n",
              "1   2022-01-03 10:05:00\n",
              "2   2022-01-03 10:37:00\n",
              "3   2022-01-03 11:11:00\n",
              "4   2022-01-03 11:18:00\n",
              "Name: datetime, dtype: datetime64[ns]"
            ]
          },
          "metadata": {},
          "execution_count": 5
        }
      ],
      "source": [
        "# Creating a new column with datatime module.\n",
        "df['datetime'] = df[['year', 'month', 'day', 'hour', 'minute']].apply(lambda row: datetime.datetime(year=row['year'], month=row['month'], day=row['day'],\n",
        "                                                                                          hour=row['hour'], minute=row['minute']), axis=1)\n",
        "# Sorting values in ascending order\n",
        "df.sort_values('datetime', ascending=True, inplace=True)\n",
        "df['datetime'].head()"
      ]
    },
    {
      "cell_type": "code",
      "execution_count": null,
      "metadata": {
        "colab": {
          "base_uri": "https://localhost:8080/",
          "height": 206
        },
        "id": "3__7Aeb7g6Uy",
        "outputId": "85facf19-0223-40ba-ddda-fd651e679e5a"
      },
      "outputs": [
        {
          "output_type": "execute_result",
          "data": {
            "text/plain": [
              "             datetime  moneyness  days_to_ex  treasury_rate  std_underlying  \\\n",
              "0 2022-01-03 10:01:00    0.95107         118           0.22        0.001322   \n",
              "1 2022-01-03 10:05:00    0.95039         118           0.22        0.001181   \n",
              "2 2022-01-03 10:37:00    0.95199         118           0.22        0.001080   \n",
              "3 2022-01-03 11:11:00    0.95113         118           0.22        0.001175   \n",
              "4 2022-01-03 11:18:00    0.95048         118           0.22        0.001065   \n",
              "\n",
              "   option_price  \n",
              "0          9.33  \n",
              "1          9.16  \n",
              "2          9.37  \n",
              "3          9.20  \n",
              "4          9.07  "
            ],
            "text/html": [
              "\n",
              "  <div id=\"df-3d389bd0-dab1-42f2-b8e7-1a9bb8ce75a5\">\n",
              "    <div class=\"colab-df-container\">\n",
              "      <div>\n",
              "<style scoped>\n",
              "    .dataframe tbody tr th:only-of-type {\n",
              "        vertical-align: middle;\n",
              "    }\n",
              "\n",
              "    .dataframe tbody tr th {\n",
              "        vertical-align: top;\n",
              "    }\n",
              "\n",
              "    .dataframe thead th {\n",
              "        text-align: right;\n",
              "    }\n",
              "</style>\n",
              "<table border=\"1\" class=\"dataframe\">\n",
              "  <thead>\n",
              "    <tr style=\"text-align: right;\">\n",
              "      <th></th>\n",
              "      <th>datetime</th>\n",
              "      <th>moneyness</th>\n",
              "      <th>days_to_ex</th>\n",
              "      <th>treasury_rate</th>\n",
              "      <th>std_underlying</th>\n",
              "      <th>option_price</th>\n",
              "    </tr>\n",
              "  </thead>\n",
              "  <tbody>\n",
              "    <tr>\n",
              "      <th>0</th>\n",
              "      <td>2022-01-03 10:01:00</td>\n",
              "      <td>0.95107</td>\n",
              "      <td>118</td>\n",
              "      <td>0.22</td>\n",
              "      <td>0.001322</td>\n",
              "      <td>9.33</td>\n",
              "    </tr>\n",
              "    <tr>\n",
              "      <th>1</th>\n",
              "      <td>2022-01-03 10:05:00</td>\n",
              "      <td>0.95039</td>\n",
              "      <td>118</td>\n",
              "      <td>0.22</td>\n",
              "      <td>0.001181</td>\n",
              "      <td>9.16</td>\n",
              "    </tr>\n",
              "    <tr>\n",
              "      <th>2</th>\n",
              "      <td>2022-01-03 10:37:00</td>\n",
              "      <td>0.95199</td>\n",
              "      <td>118</td>\n",
              "      <td>0.22</td>\n",
              "      <td>0.001080</td>\n",
              "      <td>9.37</td>\n",
              "    </tr>\n",
              "    <tr>\n",
              "      <th>3</th>\n",
              "      <td>2022-01-03 11:11:00</td>\n",
              "      <td>0.95113</td>\n",
              "      <td>118</td>\n",
              "      <td>0.22</td>\n",
              "      <td>0.001175</td>\n",
              "      <td>9.20</td>\n",
              "    </tr>\n",
              "    <tr>\n",
              "      <th>4</th>\n",
              "      <td>2022-01-03 11:18:00</td>\n",
              "      <td>0.95048</td>\n",
              "      <td>118</td>\n",
              "      <td>0.22</td>\n",
              "      <td>0.001065</td>\n",
              "      <td>9.07</td>\n",
              "    </tr>\n",
              "  </tbody>\n",
              "</table>\n",
              "</div>\n",
              "      <button class=\"colab-df-convert\" onclick=\"convertToInteractive('df-3d389bd0-dab1-42f2-b8e7-1a9bb8ce75a5')\"\n",
              "              title=\"Convert this dataframe to an interactive table.\"\n",
              "              style=\"display:none;\">\n",
              "        \n",
              "  <svg xmlns=\"http://www.w3.org/2000/svg\" height=\"24px\"viewBox=\"0 0 24 24\"\n",
              "       width=\"24px\">\n",
              "    <path d=\"M0 0h24v24H0V0z\" fill=\"none\"/>\n",
              "    <path d=\"M18.56 5.44l.94 2.06.94-2.06 2.06-.94-2.06-.94-.94-2.06-.94 2.06-2.06.94zm-11 1L8.5 8.5l.94-2.06 2.06-.94-2.06-.94L8.5 2.5l-.94 2.06-2.06.94zm10 10l.94 2.06.94-2.06 2.06-.94-2.06-.94-.94-2.06-.94 2.06-2.06.94z\"/><path d=\"M17.41 7.96l-1.37-1.37c-.4-.4-.92-.59-1.43-.59-.52 0-1.04.2-1.43.59L10.3 9.45l-7.72 7.72c-.78.78-.78 2.05 0 2.83L4 21.41c.39.39.9.59 1.41.59.51 0 1.02-.2 1.41-.59l7.78-7.78 2.81-2.81c.8-.78.8-2.07 0-2.86zM5.41 20L4 18.59l7.72-7.72 1.47 1.35L5.41 20z\"/>\n",
              "  </svg>\n",
              "      </button>\n",
              "      \n",
              "  <style>\n",
              "    .colab-df-container {\n",
              "      display:flex;\n",
              "      flex-wrap:wrap;\n",
              "      gap: 12px;\n",
              "    }\n",
              "\n",
              "    .colab-df-convert {\n",
              "      background-color: #E8F0FE;\n",
              "      border: none;\n",
              "      border-radius: 50%;\n",
              "      cursor: pointer;\n",
              "      display: none;\n",
              "      fill: #1967D2;\n",
              "      height: 32px;\n",
              "      padding: 0 0 0 0;\n",
              "      width: 32px;\n",
              "    }\n",
              "\n",
              "    .colab-df-convert:hover {\n",
              "      background-color: #E2EBFA;\n",
              "      box-shadow: 0px 1px 2px rgba(60, 64, 67, 0.3), 0px 1px 3px 1px rgba(60, 64, 67, 0.15);\n",
              "      fill: #174EA6;\n",
              "    }\n",
              "\n",
              "    [theme=dark] .colab-df-convert {\n",
              "      background-color: #3B4455;\n",
              "      fill: #D2E3FC;\n",
              "    }\n",
              "\n",
              "    [theme=dark] .colab-df-convert:hover {\n",
              "      background-color: #434B5C;\n",
              "      box-shadow: 0px 1px 3px 1px rgba(0, 0, 0, 0.15);\n",
              "      filter: drop-shadow(0px 1px 2px rgba(0, 0, 0, 0.3));\n",
              "      fill: #FFFFFF;\n",
              "    }\n",
              "  </style>\n",
              "\n",
              "      <script>\n",
              "        const buttonEl =\n",
              "          document.querySelector('#df-3d389bd0-dab1-42f2-b8e7-1a9bb8ce75a5 button.colab-df-convert');\n",
              "        buttonEl.style.display =\n",
              "          google.colab.kernel.accessAllowed ? 'block' : 'none';\n",
              "\n",
              "        async function convertToInteractive(key) {\n",
              "          const element = document.querySelector('#df-3d389bd0-dab1-42f2-b8e7-1a9bb8ce75a5');\n",
              "          const dataTable =\n",
              "            await google.colab.kernel.invokeFunction('convertToInteractive',\n",
              "                                                     [key], {});\n",
              "          if (!dataTable) return;\n",
              "\n",
              "          const docLinkHtml = 'Like what you see? Visit the ' +\n",
              "            '<a target=\"_blank\" href=https://colab.research.google.com/notebooks/data_table.ipynb>data table notebook</a>'\n",
              "            + ' to learn more about interactive tables.';\n",
              "          element.innerHTML = '';\n",
              "          dataTable['output_type'] = 'display_data';\n",
              "          await google.colab.output.renderOutput(dataTable, element);\n",
              "          const docLink = document.createElement('div');\n",
              "          docLink.innerHTML = docLinkHtml;\n",
              "          element.appendChild(docLink);\n",
              "        }\n",
              "      </script>\n",
              "    </div>\n",
              "  </div>\n",
              "  "
            ]
          },
          "metadata": {},
          "execution_count": 6
        }
      ],
      "source": [
        "# Cleaning the dataframe, selecting feature variables and output for the model.\n",
        "option_df = df[['datetime', 'moneyness', 'days_to_ex', 'treasury_rate', 'std_underlying', 'option_price']].copy()\n",
        "option_df.head()"
      ]
    },
    {
      "cell_type": "markdown",
      "metadata": {
        "id": "eNZrGmLVWvmj"
      },
      "source": [
        "**4. Train/Validation Split**"
      ]
    },
    {
      "cell_type": "markdown",
      "metadata": {
        "id": "AnzhDkzfg_Qo"
      },
      "source": [
        "Before starting the training the model we need to create four different arrays separating features variables from the output variables for both training and validation dataset.\n"
      ]
    },
    {
      "cell_type": "code",
      "execution_count": null,
      "metadata": {
        "colab": {
          "base_uri": "https://localhost:8080/"
        },
        "id": "c-I77SqmfxDQ",
        "outputId": "bd03cc48-2ddc-4112-fa3a-151715d29f9f"
      },
      "outputs": [
        {
          "output_type": "stream",
          "name": "stdout",
          "text": [
            "Shape of train: (4008, 6)\n",
            "Shape of test: (1045, 6)\n"
          ]
        }
      ],
      "source": [
        "# Spliting the data while mantaining the order of the dataset.\n",
        "split_date = datetime.datetime(year=2022, month=3, day=10, hour=0)\n",
        "df_train = option_df.loc[df['datetime']<split_date]\n",
        "df_val = option_df.loc[df['datetime']>=split_date]\n",
        "print('Shape of train:', df_train.shape)\n",
        "print('Shape of test:', df_val.shape)"
      ]
    },
    {
      "cell_type": "code",
      "execution_count": null,
      "metadata": {
        "colab": {
          "base_uri": "https://localhost:8080/",
          "height": 206
        },
        "id": "-ua5GrX0hKQG",
        "outputId": "4d7b0695-9a28-4fff-c168-36d274640505"
      },
      "outputs": [
        {
          "output_type": "execute_result",
          "data": {
            "text/plain": [
              "   moneyness  days_to_ex  treasury_rate  std_underlying  option_price\n",
              "0    0.95107         118           0.22        0.001322          9.33\n",
              "1    0.95039         118           0.22        0.001181          9.16\n",
              "2    0.95199         118           0.22        0.001080          9.37\n",
              "3    0.95113         118           0.22        0.001175          9.20\n",
              "4    0.95048         118           0.22        0.001065          9.07"
            ],
            "text/html": [
              "\n",
              "  <div id=\"df-feb78aeb-5081-46ac-ba00-8271b68c3efd\">\n",
              "    <div class=\"colab-df-container\">\n",
              "      <div>\n",
              "<style scoped>\n",
              "    .dataframe tbody tr th:only-of-type {\n",
              "        vertical-align: middle;\n",
              "    }\n",
              "\n",
              "    .dataframe tbody tr th {\n",
              "        vertical-align: top;\n",
              "    }\n",
              "\n",
              "    .dataframe thead th {\n",
              "        text-align: right;\n",
              "    }\n",
              "</style>\n",
              "<table border=\"1\" class=\"dataframe\">\n",
              "  <thead>\n",
              "    <tr style=\"text-align: right;\">\n",
              "      <th></th>\n",
              "      <th>moneyness</th>\n",
              "      <th>days_to_ex</th>\n",
              "      <th>treasury_rate</th>\n",
              "      <th>std_underlying</th>\n",
              "      <th>option_price</th>\n",
              "    </tr>\n",
              "  </thead>\n",
              "  <tbody>\n",
              "    <tr>\n",
              "      <th>0</th>\n",
              "      <td>0.95107</td>\n",
              "      <td>118</td>\n",
              "      <td>0.22</td>\n",
              "      <td>0.001322</td>\n",
              "      <td>9.33</td>\n",
              "    </tr>\n",
              "    <tr>\n",
              "      <th>1</th>\n",
              "      <td>0.95039</td>\n",
              "      <td>118</td>\n",
              "      <td>0.22</td>\n",
              "      <td>0.001181</td>\n",
              "      <td>9.16</td>\n",
              "    </tr>\n",
              "    <tr>\n",
              "      <th>2</th>\n",
              "      <td>0.95199</td>\n",
              "      <td>118</td>\n",
              "      <td>0.22</td>\n",
              "      <td>0.001080</td>\n",
              "      <td>9.37</td>\n",
              "    </tr>\n",
              "    <tr>\n",
              "      <th>3</th>\n",
              "      <td>0.95113</td>\n",
              "      <td>118</td>\n",
              "      <td>0.22</td>\n",
              "      <td>0.001175</td>\n",
              "      <td>9.20</td>\n",
              "    </tr>\n",
              "    <tr>\n",
              "      <th>4</th>\n",
              "      <td>0.95048</td>\n",
              "      <td>118</td>\n",
              "      <td>0.22</td>\n",
              "      <td>0.001065</td>\n",
              "      <td>9.07</td>\n",
              "    </tr>\n",
              "  </tbody>\n",
              "</table>\n",
              "</div>\n",
              "      <button class=\"colab-df-convert\" onclick=\"convertToInteractive('df-feb78aeb-5081-46ac-ba00-8271b68c3efd')\"\n",
              "              title=\"Convert this dataframe to an interactive table.\"\n",
              "              style=\"display:none;\">\n",
              "        \n",
              "  <svg xmlns=\"http://www.w3.org/2000/svg\" height=\"24px\"viewBox=\"0 0 24 24\"\n",
              "       width=\"24px\">\n",
              "    <path d=\"M0 0h24v24H0V0z\" fill=\"none\"/>\n",
              "    <path d=\"M18.56 5.44l.94 2.06.94-2.06 2.06-.94-2.06-.94-.94-2.06-.94 2.06-2.06.94zm-11 1L8.5 8.5l.94-2.06 2.06-.94-2.06-.94L8.5 2.5l-.94 2.06-2.06.94zm10 10l.94 2.06.94-2.06 2.06-.94-2.06-.94-.94-2.06-.94 2.06-2.06.94z\"/><path d=\"M17.41 7.96l-1.37-1.37c-.4-.4-.92-.59-1.43-.59-.52 0-1.04.2-1.43.59L10.3 9.45l-7.72 7.72c-.78.78-.78 2.05 0 2.83L4 21.41c.39.39.9.59 1.41.59.51 0 1.02-.2 1.41-.59l7.78-7.78 2.81-2.81c.8-.78.8-2.07 0-2.86zM5.41 20L4 18.59l7.72-7.72 1.47 1.35L5.41 20z\"/>\n",
              "  </svg>\n",
              "      </button>\n",
              "      \n",
              "  <style>\n",
              "    .colab-df-container {\n",
              "      display:flex;\n",
              "      flex-wrap:wrap;\n",
              "      gap: 12px;\n",
              "    }\n",
              "\n",
              "    .colab-df-convert {\n",
              "      background-color: #E8F0FE;\n",
              "      border: none;\n",
              "      border-radius: 50%;\n",
              "      cursor: pointer;\n",
              "      display: none;\n",
              "      fill: #1967D2;\n",
              "      height: 32px;\n",
              "      padding: 0 0 0 0;\n",
              "      width: 32px;\n",
              "    }\n",
              "\n",
              "    .colab-df-convert:hover {\n",
              "      background-color: #E2EBFA;\n",
              "      box-shadow: 0px 1px 2px rgba(60, 64, 67, 0.3), 0px 1px 3px 1px rgba(60, 64, 67, 0.15);\n",
              "      fill: #174EA6;\n",
              "    }\n",
              "\n",
              "    [theme=dark] .colab-df-convert {\n",
              "      background-color: #3B4455;\n",
              "      fill: #D2E3FC;\n",
              "    }\n",
              "\n",
              "    [theme=dark] .colab-df-convert:hover {\n",
              "      background-color: #434B5C;\n",
              "      box-shadow: 0px 1px 3px 1px rgba(0, 0, 0, 0.15);\n",
              "      filter: drop-shadow(0px 1px 2px rgba(0, 0, 0, 0.3));\n",
              "      fill: #FFFFFF;\n",
              "    }\n",
              "  </style>\n",
              "\n",
              "      <script>\n",
              "        const buttonEl =\n",
              "          document.querySelector('#df-feb78aeb-5081-46ac-ba00-8271b68c3efd button.colab-df-convert');\n",
              "        buttonEl.style.display =\n",
              "          google.colab.kernel.accessAllowed ? 'block' : 'none';\n",
              "\n",
              "        async function convertToInteractive(key) {\n",
              "          const element = document.querySelector('#df-feb78aeb-5081-46ac-ba00-8271b68c3efd');\n",
              "          const dataTable =\n",
              "            await google.colab.kernel.invokeFunction('convertToInteractive',\n",
              "                                                     [key], {});\n",
              "          if (!dataTable) return;\n",
              "\n",
              "          const docLinkHtml = 'Like what you see? Visit the ' +\n",
              "            '<a target=\"_blank\" href=https://colab.research.google.com/notebooks/data_table.ipynb>data table notebook</a>'\n",
              "            + ' to learn more about interactive tables.';\n",
              "          element.innerHTML = '';\n",
              "          dataTable['output_type'] = 'display_data';\n",
              "          await google.colab.output.renderOutput(dataTable, element);\n",
              "          const docLink = document.createElement('div');\n",
              "          docLink.innerHTML = docLinkHtml;\n",
              "          element.appendChild(docLink);\n",
              "        }\n",
              "      </script>\n",
              "    </div>\n",
              "  </div>\n",
              "  "
            ]
          },
          "metadata": {},
          "execution_count": 8
        }
      ],
      "source": [
        "# Datetime variable is eliminated as it is not a feature variable for the model.\n",
        "df_train = df_train[['moneyness', 'days_to_ex', 'treasury_rate', 'std_underlying', 'option_price']].copy()\n",
        "df_train.head()"
      ]
    },
    {
      "cell_type": "code",
      "execution_count": null,
      "metadata": {
        "colab": {
          "base_uri": "https://localhost:8080/",
          "height": 206
        },
        "id": "L4JK6sFRhyvV",
        "outputId": "f68c7dbe-f237-46cb-e8f6-f41b2d9bbcf9"
      },
      "outputs": [
        {
          "output_type": "execute_result",
          "data": {
            "text/plain": [
              "   moneyness  days_to_ex  treasury_rate  std_underlying  option_price\n",
              "0    0.84551          72           0.38        0.004437          0.65\n",
              "1    0.84491          72           0.38        0.004218          0.68\n",
              "2    0.84447          72           0.38        0.004123          0.63\n",
              "3    0.84587          72           0.38        0.004532          0.67\n",
              "4    0.84560          72           0.38        0.004523          0.68"
            ],
            "text/html": [
              "\n",
              "  <div id=\"df-80e41d93-475a-4159-b82f-b150e11279b4\">\n",
              "    <div class=\"colab-df-container\">\n",
              "      <div>\n",
              "<style scoped>\n",
              "    .dataframe tbody tr th:only-of-type {\n",
              "        vertical-align: middle;\n",
              "    }\n",
              "\n",
              "    .dataframe tbody tr th {\n",
              "        vertical-align: top;\n",
              "    }\n",
              "\n",
              "    .dataframe thead th {\n",
              "        text-align: right;\n",
              "    }\n",
              "</style>\n",
              "<table border=\"1\" class=\"dataframe\">\n",
              "  <thead>\n",
              "    <tr style=\"text-align: right;\">\n",
              "      <th></th>\n",
              "      <th>moneyness</th>\n",
              "      <th>days_to_ex</th>\n",
              "      <th>treasury_rate</th>\n",
              "      <th>std_underlying</th>\n",
              "      <th>option_price</th>\n",
              "    </tr>\n",
              "  </thead>\n",
              "  <tbody>\n",
              "    <tr>\n",
              "      <th>0</th>\n",
              "      <td>0.84551</td>\n",
              "      <td>72</td>\n",
              "      <td>0.38</td>\n",
              "      <td>0.004437</td>\n",
              "      <td>0.65</td>\n",
              "    </tr>\n",
              "    <tr>\n",
              "      <th>1</th>\n",
              "      <td>0.84491</td>\n",
              "      <td>72</td>\n",
              "      <td>0.38</td>\n",
              "      <td>0.004218</td>\n",
              "      <td>0.68</td>\n",
              "    </tr>\n",
              "    <tr>\n",
              "      <th>2</th>\n",
              "      <td>0.84447</td>\n",
              "      <td>72</td>\n",
              "      <td>0.38</td>\n",
              "      <td>0.004123</td>\n",
              "      <td>0.63</td>\n",
              "    </tr>\n",
              "    <tr>\n",
              "      <th>3</th>\n",
              "      <td>0.84587</td>\n",
              "      <td>72</td>\n",
              "      <td>0.38</td>\n",
              "      <td>0.004532</td>\n",
              "      <td>0.67</td>\n",
              "    </tr>\n",
              "    <tr>\n",
              "      <th>4</th>\n",
              "      <td>0.84560</td>\n",
              "      <td>72</td>\n",
              "      <td>0.38</td>\n",
              "      <td>0.004523</td>\n",
              "      <td>0.68</td>\n",
              "    </tr>\n",
              "  </tbody>\n",
              "</table>\n",
              "</div>\n",
              "      <button class=\"colab-df-convert\" onclick=\"convertToInteractive('df-80e41d93-475a-4159-b82f-b150e11279b4')\"\n",
              "              title=\"Convert this dataframe to an interactive table.\"\n",
              "              style=\"display:none;\">\n",
              "        \n",
              "  <svg xmlns=\"http://www.w3.org/2000/svg\" height=\"24px\"viewBox=\"0 0 24 24\"\n",
              "       width=\"24px\">\n",
              "    <path d=\"M0 0h24v24H0V0z\" fill=\"none\"/>\n",
              "    <path d=\"M18.56 5.44l.94 2.06.94-2.06 2.06-.94-2.06-.94-.94-2.06-.94 2.06-2.06.94zm-11 1L8.5 8.5l.94-2.06 2.06-.94-2.06-.94L8.5 2.5l-.94 2.06-2.06.94zm10 10l.94 2.06.94-2.06 2.06-.94-2.06-.94-.94-2.06-.94 2.06-2.06.94z\"/><path d=\"M17.41 7.96l-1.37-1.37c-.4-.4-.92-.59-1.43-.59-.52 0-1.04.2-1.43.59L10.3 9.45l-7.72 7.72c-.78.78-.78 2.05 0 2.83L4 21.41c.39.39.9.59 1.41.59.51 0 1.02-.2 1.41-.59l7.78-7.78 2.81-2.81c.8-.78.8-2.07 0-2.86zM5.41 20L4 18.59l7.72-7.72 1.47 1.35L5.41 20z\"/>\n",
              "  </svg>\n",
              "      </button>\n",
              "      \n",
              "  <style>\n",
              "    .colab-df-container {\n",
              "      display:flex;\n",
              "      flex-wrap:wrap;\n",
              "      gap: 12px;\n",
              "    }\n",
              "\n",
              "    .colab-df-convert {\n",
              "      background-color: #E8F0FE;\n",
              "      border: none;\n",
              "      border-radius: 50%;\n",
              "      cursor: pointer;\n",
              "      display: none;\n",
              "      fill: #1967D2;\n",
              "      height: 32px;\n",
              "      padding: 0 0 0 0;\n",
              "      width: 32px;\n",
              "    }\n",
              "\n",
              "    .colab-df-convert:hover {\n",
              "      background-color: #E2EBFA;\n",
              "      box-shadow: 0px 1px 2px rgba(60, 64, 67, 0.3), 0px 1px 3px 1px rgba(60, 64, 67, 0.15);\n",
              "      fill: #174EA6;\n",
              "    }\n",
              "\n",
              "    [theme=dark] .colab-df-convert {\n",
              "      background-color: #3B4455;\n",
              "      fill: #D2E3FC;\n",
              "    }\n",
              "\n",
              "    [theme=dark] .colab-df-convert:hover {\n",
              "      background-color: #434B5C;\n",
              "      box-shadow: 0px 1px 3px 1px rgba(0, 0, 0, 0.15);\n",
              "      filter: drop-shadow(0px 1px 2px rgba(0, 0, 0, 0.3));\n",
              "      fill: #FFFFFF;\n",
              "    }\n",
              "  </style>\n",
              "\n",
              "      <script>\n",
              "        const buttonEl =\n",
              "          document.querySelector('#df-80e41d93-475a-4159-b82f-b150e11279b4 button.colab-df-convert');\n",
              "        buttonEl.style.display =\n",
              "          google.colab.kernel.accessAllowed ? 'block' : 'none';\n",
              "\n",
              "        async function convertToInteractive(key) {\n",
              "          const element = document.querySelector('#df-80e41d93-475a-4159-b82f-b150e11279b4');\n",
              "          const dataTable =\n",
              "            await google.colab.kernel.invokeFunction('convertToInteractive',\n",
              "                                                     [key], {});\n",
              "          if (!dataTable) return;\n",
              "\n",
              "          const docLinkHtml = 'Like what you see? Visit the ' +\n",
              "            '<a target=\"_blank\" href=https://colab.research.google.com/notebooks/data_table.ipynb>data table notebook</a>'\n",
              "            + ' to learn more about interactive tables.';\n",
              "          element.innerHTML = '';\n",
              "          dataTable['output_type'] = 'display_data';\n",
              "          await google.colab.output.renderOutput(dataTable, element);\n",
              "          const docLink = document.createElement('div');\n",
              "          docLink.innerHTML = docLinkHtml;\n",
              "          element.appendChild(docLink);\n",
              "        }\n",
              "      </script>\n",
              "    </div>\n",
              "  </div>\n",
              "  "
            ]
          },
          "metadata": {},
          "execution_count": 9
        }
      ],
      "source": [
        "# Datetime variable is eliminated as it is not a feature variable for the model.\n",
        "df_val = df_val[['moneyness', 'days_to_ex', 'treasury_rate', 'std_underlying', 'option_price']].copy()\n",
        "df_val.reset_index(inplace = True, drop = True)\n",
        "df_val.head()"
      ]
    },
    {
      "cell_type": "code",
      "execution_count": null,
      "metadata": {
        "id": "Kf5oHlrfhL3e"
      },
      "outputs": [],
      "source": [
        "def train_X_Y(n_future, n_past):\n",
        "  # Inputs:\n",
        "  # n_future = Number of days to be predicted in the future based on past days.\n",
        "  # Output:\n",
        "  # train_X = 3D array (n_samples, n_timesteps, n_features)\n",
        "  # train_Y = 3D array (n_samples, n_timesteps, n_features)\n",
        "\n",
        "  train_X = []\n",
        "  train_Y = []\n",
        "\n",
        "  array_train = df_train.to_numpy()\n",
        "\n",
        "  for i in range(n_past, len(array_train) - n_future +1):\n",
        "      train_X.append(array_train[i - n_past:i, 0:(array_train.shape[1]-1)])\n",
        "      train_Y.append(array_train[i + n_future - 1:i + n_future, 4])\n",
        "\n",
        "  train_X, train_Y = np.array(train_X), np.array(train_Y)\n",
        "  return train_X, train_Y"
      ]
    },
    {
      "cell_type": "code",
      "execution_count": null,
      "metadata": {
        "colab": {
          "base_uri": "https://localhost:8080/"
        },
        "id": "xIAlzf_9hUy9",
        "outputId": "d16b42fe-dc0b-4d8f-c450-c5d216b7a720"
      },
      "outputs": [
        {
          "output_type": "stream",
          "name": "stdout",
          "text": [
            "train_X shape == (4003, 5, 4)\n",
            "train_Y shape == (4003, 1)\n"
          ]
        }
      ],
      "source": [
        "n_future = 1\n",
        "n_past = 5\n",
        "\n",
        "train_X, train_Y = train_X_Y(n_future, n_past)\n",
        "print('train_X shape == {}'.format(train_X.shape))\n",
        "print('train_Y shape == {}'.format(train_Y.shape))"
      ]
    },
    {
      "cell_type": "code",
      "execution_count": null,
      "metadata": {
        "id": "DJk87zwLhZUH"
      },
      "outputs": [],
      "source": [
        "def valid_X_Y(n_future, n_past):\n",
        "  # Inputs:\n",
        "  # n_future = Number of days to be predicted in the future based on past days.\n",
        "  # Output:\n",
        "  # valid_X = 3D array (n_samples, n_timesteps, n_features)\n",
        "  # valid_Y = 3D array (n_samples, n_timesteps, n_features)\n",
        "\n",
        "  valid_X = []\n",
        "  valid_Y = []\n",
        "\n",
        "  array_valid = df_val.to_numpy()\n",
        "\n",
        "  for i in range(n_past, len(array_valid ) - n_future +1):\n",
        "      valid_X.append(array_valid[i - n_past:i, 0:(array_valid.shape[1]-1)])\n",
        "      valid_Y.append(array_valid[i + n_future - 1:i + n_future, 4])\n",
        "\n",
        "  valid_X, valid_Y = np.array(valid_X), np.array(valid_Y)\n",
        "  return valid_X, valid_Y "
      ]
    },
    {
      "cell_type": "code",
      "execution_count": null,
      "metadata": {
        "colab": {
          "base_uri": "https://localhost:8080/"
        },
        "id": "Q44Tw2FThdd6",
        "outputId": "bc2b7351-9dab-496f-b6f4-c54025d6c1aa"
      },
      "outputs": [
        {
          "output_type": "stream",
          "name": "stdout",
          "text": [
            "valid_X shape == (1040, 5, 4)\n",
            "valid_Y shape == (1040, 1)\n"
          ]
        }
      ],
      "source": [
        "n_future = 1\n",
        "n_past = 5\n",
        "\n",
        "valid_X, valid_Y = valid_X_Y(n_future, n_past)\n",
        "print('valid_X shape == {}'.format(valid_X.shape))\n",
        "print('valid_Y shape == {}'.format(valid_Y.shape))"
      ]
    },
    {
      "cell_type": "markdown",
      "metadata": {
        "id": "MU8-0hXiW1Am"
      },
      "source": [
        "**5. Standardizing data**"
      ]
    },
    {
      "cell_type": "code",
      "execution_count": null,
      "metadata": {
        "colab": {
          "base_uri": "https://localhost:8080/"
        },
        "id": "f8go2D9Sfx8Z",
        "outputId": "96ba54ab-493f-4613-dd7e-635923ffbdf2"
      },
      "outputs": [
        {
          "output_type": "stream",
          "name": "stdout",
          "text": [
            "Shape of scaled train X: (4003, 5, 4)\n",
            "Shape of scaled train Y: (4003, 1)\n"
          ]
        }
      ],
      "source": [
        "# Standarization of feature variables is a common requirement for machine learning estimators:\n",
        "from sklearn import preprocessing\n",
        "# Datetime variable is eliminated as it is not a feature variable for the model.\n",
        "df_train = df_train[['moneyness', 'days_to_ex', 'treasury_rate', 'std_underlying', 'option_price']].copy()\n",
        "\n",
        "# Preprocessing transforms dataframe into array\n",
        "scaler_X = preprocessing.StandardScaler().fit(train_X.reshape(-1, train_X.shape[-1]))\n",
        "scaler_Y = preprocessing.StandardScaler().fit(train_Y.reshape(-1, train_Y.shape[-1]))\n",
        "\n",
        "array_train_scaled_X = scaler_X.transform(train_X.reshape(-1, train_X.shape[-1])).reshape(train_X.shape)\n",
        "array_train_scaled_Y = scaler_Y.transform(train_Y.reshape(-1, train_Y.shape[-1])).reshape(train_Y.shape)\n",
        "\n",
        "print('Shape of scaled train X:', array_train_scaled_X.shape)\n",
        "print('Shape of scaled train Y:', array_train_scaled_Y.shape)\n",
        "\n",
        "# MinMaxScaler(feature_range=(0, 1)) / StandardScaler()"
      ]
    },
    {
      "cell_type": "code",
      "execution_count": null,
      "metadata": {
        "colab": {
          "base_uri": "https://localhost:8080/"
        },
        "id": "sPJmwVZGhk5D",
        "outputId": "e0dcd6a5-5d16-48f4-9832-879d7e0649df"
      },
      "outputs": [
        {
          "output_type": "stream",
          "name": "stdout",
          "text": [
            "Shape of scaled test X: (1040, 5, 4)\n",
            "Shape of scaled test Y: (1040, 1)\n"
          ]
        }
      ],
      "source": [
        "# Preprocessing transforms dataframe into array\n",
        "array_val_scaled_X = scaler_X.transform(valid_X.reshape(-1, valid_X.shape[-1])).reshape(valid_X.shape)\n",
        "array_val_scaled_Y = scaler_Y.transform(valid_Y.reshape(-1, valid_Y.shape[-1])).reshape(valid_Y.shape)\n",
        "print('Shape of scaled test X:', array_val_scaled_X.shape)\n",
        "print('Shape of scaled test Y:', array_val_scaled_Y.shape)"
      ]
    },
    {
      "cell_type": "markdown",
      "metadata": {
        "id": "hkJ6KvGFW1yQ"
      },
      "source": [
        "**6. Defining the model**"
      ]
    },
    {
      "cell_type": "code",
      "execution_count": null,
      "metadata": {
        "id": "IO7KHECbfyfo"
      },
      "outputs": [],
      "source": [
        "from keras.models import Model\n",
        "from keras.models import load_model\n",
        "from keras.layers import Input\n",
        "from keras.layers import Dense\n",
        "from keras.layers import BatchNormalization\n",
        "from keras.layers import Dropout\n",
        "from keras.layers import Flatten\n",
        "from keras.layers.convolutional import ZeroPadding1D\n",
        "from keras.layers.convolutional import Conv1D\n",
        "from keras.layers.pooling import MaxPooling1D\n",
        "from tensorflow.keras.optimizers import Adam\n",
        "from keras.callbacks import ModelCheckpoint"
      ]
    },
    {
      "cell_type": "code",
      "execution_count": null,
      "metadata": {
        "id": "OuK_bntTjL2J"
      },
      "outputs": [],
      "source": [
        "# Defining the shape of the input layer as (None, 5, 4),\n",
        "# where \"None\" indicates the number of instances\n",
        "# five indicates the number of timesteps, and four, the number of features.\n",
        "# data type is float32\n",
        "input_shape = array_train_scaled_X[0,:, :].shape\n",
        "model_input = Input(shape=input_shape, dtype='float32')"
      ]
    },
    {
      "cell_type": "code",
      "execution_count": null,
      "metadata": {
        "id": "viBV39nqjpN6"
      },
      "outputs": [],
      "source": [
        "# Output Activation funtion - relu \n",
        "def cnn1d_model_specs(model_input):\n",
        "  zeropadding_layer = ZeroPadding1D(padding=3)(model_input)\n",
        "  conv1D_layer = Conv1D(100, 3, strides=1, use_bias=True)(zeropadding_layer)\n",
        "  batch_normalization = BatchNormalization()(conv1D_layer)\n",
        "  maxpooling_layer = MaxPooling1D(pool_size=2, strides=1)(batch_normalization)\n",
        "  conv1D_layer2 = Conv1D(100, 3, strides=1, use_bias=True)(maxpooling_layer)\n",
        "  batch_normalization_2 = BatchNormalization()(conv1D_layer2)\n",
        "  maxpooling_layer2 = MaxPooling1D(pool_size=2, strides=1)(batch_normalization_2)\n",
        "  conv1D_layer3 = Conv1D(100, 3, strides=1, use_bias=True)(maxpooling_layer2)\n",
        "  batch_normalization_3 = BatchNormalization()(conv1D_layer3)\n",
        "  maxpooling_layer3 = MaxPooling1D(pool_size=2, strides=1)(batch_normalization_3)\n",
        "  flatten_layer = Flatten()(maxpooling_layer3)\n",
        "  dropout_layer = Dropout(0.2)(flatten_layer)\n",
        "  output_layer = Dense(1, activation='relu')(dropout_layer)\n",
        "  model = Model(model_input, output_layer, name='cnn1d_model')\n",
        "  return model\n",
        "\n",
        "# Zero padding will transform the input shape into shape=(None, 11, 4), \n",
        "# this will allow to stack the 3 1D CNN and 3 1D Max Pooling layers"
      ]
    },
    {
      "cell_type": "code",
      "execution_count": null,
      "metadata": {
        "id": "C03b4Jr6XZP9"
      },
      "outputs": [],
      "source": [
        "cnn_model_relu = cnn1d_model_specs(model_input)"
      ]
    },
    {
      "cell_type": "code",
      "execution_count": null,
      "metadata": {
        "id": "R6xH6u9WkyVT"
      },
      "outputs": [],
      "source": [
        "# Hyperparameters\n",
        "num_epochs = 20\n",
        "batch_size=16"
      ]
    },
    {
      "cell_type": "code",
      "execution_count": null,
      "metadata": {
        "id": "kdJSfQVdlsKS"
      },
      "outputs": [],
      "source": [
        "# ADAM OPTIMIZER, LEARNING RATE 1e-3\n",
        "def compile_and_train(model, num_epochs, batch_size): \n",
        "  model.compile(loss='mse', optimizer=Adam(1e-3))\n",
        "  model.summary()\n",
        "  save_weights_at = os.path.join('keras_cnn_models', 'Option_Prices_CNN_relu_weights.{epoch:02d}-{val_loss:.4f}.hdf5')\n",
        "  save_best = ModelCheckpoint(save_weights_at, monitor='val_loss', verbose=0, save_weights_only=False,\n",
        "                                                 save_best_only=True, mode='min', period=1)\n",
        "  history = model.fit(x=array_train_scaled_X, y=array_train_scaled_Y, batch_size=batch_size, \n",
        "                     epochs=num_epochs, verbose=1, callbacks=[save_best], \n",
        "                     validation_data=(array_val_scaled_X, array_val_scaled_Y), shuffle=True)\n",
        "  return history"
      ]
    },
    {
      "cell_type": "code",
      "execution_count": null,
      "metadata": {
        "colab": {
          "base_uri": "https://localhost:8080/"
        },
        "id": "uvIEUQjTmCQY",
        "outputId": "017eefb8-3381-45ea-c9fa-68345a52cfef"
      },
      "outputs": [
        {
          "output_type": "stream",
          "name": "stdout",
          "text": [
            "Model: \"cnn1d_model\"\n",
            "_________________________________________________________________\n",
            " Layer (type)                Output Shape              Param #   \n",
            "=================================================================\n",
            " input_1 (InputLayer)        [(None, 5, 4)]            0         \n",
            "                                                                 \n",
            " zero_padding1d (ZeroPadding  (None, 11, 4)            0         \n",
            " 1D)                                                             \n",
            "                                                                 \n",
            " conv1d (Conv1D)             (None, 9, 100)            1300      \n",
            "                                                                 \n",
            " batch_normalization (BatchN  (None, 9, 100)           400       \n",
            " ormalization)                                                   \n",
            "                                                                 \n",
            " max_pooling1d (MaxPooling1D  (None, 8, 100)           0         \n",
            " )                                                               \n",
            "                                                                 \n",
            " conv1d_1 (Conv1D)           (None, 6, 100)            30100     \n",
            "                                                                 \n",
            " batch_normalization_1 (Batc  (None, 6, 100)           400       \n",
            " hNormalization)                                                 \n",
            "                                                                 \n",
            " max_pooling1d_1 (MaxPooling  (None, 5, 100)           0         \n",
            " 1D)                                                             \n",
            "                                                                 \n",
            " conv1d_2 (Conv1D)           (None, 3, 100)            30100     \n",
            "                                                                 \n",
            " batch_normalization_2 (Batc  (None, 3, 100)           400       \n",
            " hNormalization)                                                 \n",
            "                                                                 \n",
            " max_pooling1d_2 (MaxPooling  (None, 2, 100)           0         \n",
            " 1D)                                                             \n",
            "                                                                 \n",
            " flatten (Flatten)           (None, 200)               0         \n",
            "                                                                 \n",
            " dropout (Dropout)           (None, 200)               0         \n",
            "                                                                 \n",
            " dense (Dense)               (None, 1)                 201       \n",
            "                                                                 \n",
            "=================================================================\n",
            "Total params: 62,901\n",
            "Trainable params: 62,301\n",
            "Non-trainable params: 600\n",
            "_________________________________________________________________\n",
            "WARNING:tensorflow:`period` argument is deprecated. Please use `save_freq` to specify the frequency in number of batches seen.\n",
            "Epoch 1/20\n",
            "251/251 [==============================] - 4s 9ms/step - loss: 0.5070 - val_loss: 0.7255\n",
            "Epoch 2/20\n",
            "251/251 [==============================] - 2s 8ms/step - loss: 0.3353 - val_loss: 0.7255\n",
            "Epoch 3/20\n",
            "251/251 [==============================] - 2s 8ms/step - loss: 0.3964 - val_loss: 0.7255\n",
            "Epoch 4/20\n",
            "251/251 [==============================] - 2s 8ms/step - loss: 0.3002 - val_loss: 0.7255\n",
            "Epoch 5/20\n",
            "251/251 [==============================] - 2s 9ms/step - loss: 0.2826 - val_loss: 0.7255\n",
            "Epoch 6/20\n",
            "251/251 [==============================] - 2s 9ms/step - loss: 0.2777 - val_loss: 0.7255\n",
            "Epoch 7/20\n",
            "251/251 [==============================] - 2s 8ms/step - loss: 0.3092 - val_loss: 0.7255\n",
            "Epoch 8/20\n",
            "251/251 [==============================] - 2s 8ms/step - loss: 0.2849 - val_loss: 0.7255\n",
            "Epoch 9/20\n",
            "251/251 [==============================] - 2s 8ms/step - loss: 0.2733 - val_loss: 0.7255\n",
            "Epoch 10/20\n",
            "251/251 [==============================] - 2s 8ms/step - loss: 0.2660 - val_loss: 0.7255\n",
            "Epoch 11/20\n",
            "251/251 [==============================] - 2s 8ms/step - loss: 0.2658 - val_loss: 0.7255\n",
            "Epoch 12/20\n",
            "251/251 [==============================] - 2s 8ms/step - loss: 0.2678 - val_loss: 0.7255\n",
            "Epoch 13/20\n",
            "251/251 [==============================] - 2s 8ms/step - loss: 0.2634 - val_loss: 0.7255\n",
            "Epoch 14/20\n",
            "251/251 [==============================] - 2s 8ms/step - loss: 0.2661 - val_loss: 0.7255\n",
            "Epoch 15/20\n",
            "251/251 [==============================] - 2s 8ms/step - loss: 0.2769 - val_loss: 0.7255\n",
            "Epoch 16/20\n",
            "251/251 [==============================] - 2s 8ms/step - loss: 0.2641 - val_loss: 0.7255\n",
            "Epoch 17/20\n",
            "251/251 [==============================] - 2s 8ms/step - loss: 0.2615 - val_loss: 0.7255\n",
            "Epoch 18/20\n",
            "251/251 [==============================] - 2s 8ms/step - loss: 0.2668 - val_loss: 0.7255\n",
            "Epoch 19/20\n",
            "251/251 [==============================] - 2s 8ms/step - loss: 0.2593 - val_loss: 0.7255\n",
            "Epoch 20/20\n",
            "251/251 [==============================] - 2s 8ms/step - loss: 0.2596 - val_loss: 0.7255\n"
          ]
        }
      ],
      "source": [
        "cnn_model_history_relu = compile_and_train(cnn_model_relu, num_epochs, batch_size)"
      ]
    },
    {
      "cell_type": "code",
      "execution_count": null,
      "metadata": {
        "id": "3BAxYjpCn2fI"
      },
      "outputs": [],
      "source": [
        "# Output layer activation function = relu, \n",
        "# results in a constant output for the validation loss.\n",
        "# Option_Prices_CNN_relu_weights.01-0.7255.hdf5"
      ]
    },
    {
      "cell_type": "code",
      "execution_count": null,
      "metadata": {
        "id": "rnZd4XCfmmOV"
      },
      "outputs": [],
      "source": [
        "# Output Activation funtion - linear \n",
        "\n",
        "def cnn1d_model_specs_1(model_input):\n",
        "  zeropadding_layer = ZeroPadding1D(padding=3)(model_input)\n",
        "  conv1D_layer = Conv1D(100, 3, strides=1, use_bias=True)(zeropadding_layer)\n",
        "  batch_normalization = BatchNormalization()(conv1D_layer)\n",
        "  maxpooling_layer = MaxPooling1D(pool_size=2, strides=1)(batch_normalization)\n",
        "  conv1D_layer2 = Conv1D(100, 3, strides=1, use_bias=True)(maxpooling_layer)\n",
        "  batch_normalization_2 = BatchNormalization()(conv1D_layer2)\n",
        "  maxpooling_layer2 = MaxPooling1D(pool_size=2, strides=1)(batch_normalization_2)\n",
        "  conv1D_layer3 = Conv1D(100, 3, strides=1, use_bias=True)(maxpooling_layer2)\n",
        "  batch_normalization_3 = BatchNormalization()(conv1D_layer3)\n",
        "  maxpooling_layer3 = MaxPooling1D(pool_size=2, strides=1)(batch_normalization_3)\n",
        "  flatten_layer = Flatten()(maxpooling_layer3)\n",
        "  dropout_layer = Dropout(0.2)(flatten_layer)\n",
        "  output_layer = Dense(1, activation='linear')(dropout_layer)\n",
        "  model = Model(model_input, output_layer, name='cnn1d_model')\n",
        "  return model\n",
        "\n",
        "# Zero padding will transform the input shape into shape=(None, 11, 4), \n",
        "# this will allow to stack the 3 1D CNN and 3 1D Max Pooling layers"
      ]
    },
    {
      "cell_type": "code",
      "execution_count": null,
      "metadata": {
        "id": "lwCftB2tmysO"
      },
      "outputs": [],
      "source": [
        "cnn_model = cnn1d_model_specs_1(model_input)"
      ]
    },
    {
      "cell_type": "code",
      "execution_count": null,
      "metadata": {
        "id": "J1PsQD0DazgZ"
      },
      "outputs": [],
      "source": [
        "# ADAM OPTIMIZER, LEARNING RATE 1e-3\n",
        "def compile_and_train_1(model, num_epochs, batch_size): \n",
        "  model.compile(loss='mse', optimizer=Adam(1e-3))\n",
        "  model.summary()\n",
        "  save_weights_at = os.path.join('keras_cnn_models', 'Option_Prices_CNN_1e3Adam_weights.{epoch:02d}-{val_loss:.4f}.hdf5')\n",
        "  save_best = ModelCheckpoint(save_weights_at, monitor='val_loss', verbose=0, save_weights_only=False,\n",
        "                                                 save_best_only=True, mode='min', period=1)\n",
        "  history = model.fit(x=array_train_scaled_X, y=array_train_scaled_Y, batch_size=batch_size, \n",
        "                     epochs=num_epochs, verbose=1, callbacks=[save_best], \n",
        "                     validation_data=(array_val_scaled_X, array_val_scaled_Y), shuffle=True)\n",
        "  return history"
      ]
    },
    {
      "cell_type": "code",
      "execution_count": null,
      "metadata": {
        "colab": {
          "base_uri": "https://localhost:8080/"
        },
        "id": "c5C-FVIVm8BH",
        "outputId": "e3f65400-c668-465e-e7ae-0fc8aef89c54"
      },
      "outputs": [
        {
          "output_type": "stream",
          "name": "stdout",
          "text": [
            "Model: \"cnn1d_model\"\n",
            "_________________________________________________________________\n",
            " Layer (type)                Output Shape              Param #   \n",
            "=================================================================\n",
            " input_1 (InputLayer)        [(None, 5, 4)]            0         \n",
            "                                                                 \n",
            " zero_padding1d_1 (ZeroPaddi  (None, 11, 4)            0         \n",
            " ng1D)                                                           \n",
            "                                                                 \n",
            " conv1d_3 (Conv1D)           (None, 9, 100)            1300      \n",
            "                                                                 \n",
            " batch_normalization_3 (Batc  (None, 9, 100)           400       \n",
            " hNormalization)                                                 \n",
            "                                                                 \n",
            " max_pooling1d_3 (MaxPooling  (None, 8, 100)           0         \n",
            " 1D)                                                             \n",
            "                                                                 \n",
            " conv1d_4 (Conv1D)           (None, 6, 100)            30100     \n",
            "                                                                 \n",
            " batch_normalization_4 (Batc  (None, 6, 100)           400       \n",
            " hNormalization)                                                 \n",
            "                                                                 \n",
            " max_pooling1d_4 (MaxPooling  (None, 5, 100)           0         \n",
            " 1D)                                                             \n",
            "                                                                 \n",
            " conv1d_5 (Conv1D)           (None, 3, 100)            30100     \n",
            "                                                                 \n",
            " batch_normalization_5 (Batc  (None, 3, 100)           400       \n",
            " hNormalization)                                                 \n",
            "                                                                 \n",
            " max_pooling1d_5 (MaxPooling  (None, 2, 100)           0         \n",
            " 1D)                                                             \n",
            "                                                                 \n",
            " flatten_1 (Flatten)         (None, 200)               0         \n",
            "                                                                 \n",
            " dropout_1 (Dropout)         (None, 200)               0         \n",
            "                                                                 \n",
            " dense_1 (Dense)             (None, 1)                 201       \n",
            "                                                                 \n",
            "=================================================================\n",
            "Total params: 62,901\n",
            "Trainable params: 62,301\n",
            "Non-trainable params: 600\n",
            "_________________________________________________________________\n",
            "WARNING:tensorflow:`period` argument is deprecated. Please use `save_freq` to specify the frequency in number of batches seen.\n",
            "Epoch 1/20\n",
            "251/251 [==============================] - 3s 9ms/step - loss: 0.5799 - val_loss: 0.0326\n",
            "Epoch 2/20\n",
            "251/251 [==============================] - 2s 8ms/step - loss: 0.2887 - val_loss: 0.0334\n",
            "Epoch 3/20\n",
            "251/251 [==============================] - 2s 8ms/step - loss: 0.1838 - val_loss: 0.1192\n",
            "Epoch 4/20\n",
            "251/251 [==============================] - 2s 8ms/step - loss: 0.1240 - val_loss: 0.2369\n",
            "Epoch 5/20\n",
            "251/251 [==============================] - 2s 8ms/step - loss: 0.0841 - val_loss: 0.1130\n",
            "Epoch 6/20\n",
            "251/251 [==============================] - 2s 8ms/step - loss: 0.0580 - val_loss: 0.1473\n",
            "Epoch 7/20\n",
            "251/251 [==============================] - 2s 8ms/step - loss: 0.0443 - val_loss: 0.1640\n",
            "Epoch 8/20\n",
            "251/251 [==============================] - 2s 8ms/step - loss: 0.0411 - val_loss: 0.0614\n",
            "Epoch 9/20\n",
            "251/251 [==============================] - 2s 8ms/step - loss: 0.0343 - val_loss: 0.1030\n",
            "Epoch 10/20\n",
            "251/251 [==============================] - 2s 8ms/step - loss: 0.0335 - val_loss: 0.1887\n",
            "Epoch 11/20\n",
            "251/251 [==============================] - 2s 8ms/step - loss: 0.0335 - val_loss: 0.0757\n",
            "Epoch 12/20\n",
            "251/251 [==============================] - 2s 8ms/step - loss: 0.0343 - val_loss: 0.0385\n",
            "Epoch 13/20\n",
            "251/251 [==============================] - 2s 8ms/step - loss: 0.0350 - val_loss: 0.0865\n",
            "Epoch 14/20\n",
            "251/251 [==============================] - 2s 8ms/step - loss: 0.0286 - val_loss: 0.0667\n",
            "Epoch 15/20\n",
            "251/251 [==============================] - 2s 8ms/step - loss: 0.0262 - val_loss: 0.1093\n",
            "Epoch 16/20\n",
            "251/251 [==============================] - 2s 8ms/step - loss: 0.0249 - val_loss: 0.1016\n",
            "Epoch 17/20\n",
            "251/251 [==============================] - 2s 8ms/step - loss: 0.0277 - val_loss: 0.1291\n",
            "Epoch 18/20\n",
            "251/251 [==============================] - 3s 12ms/step - loss: 0.0254 - val_loss: 0.0528\n",
            "Epoch 19/20\n",
            "251/251 [==============================] - 2s 8ms/step - loss: 0.0238 - val_loss: 0.1843\n",
            "Epoch 20/20\n",
            "251/251 [==============================] - 2s 8ms/step - loss: 0.0252 - val_loss: 0.0660\n"
          ]
        }
      ],
      "source": [
        "# Compiling model with Adam optimizer - lr 1e-3\n",
        "cnn_model_history = compile_and_train_1(cnn_model, num_epochs, batch_size)"
      ]
    },
    {
      "cell_type": "code",
      "execution_count": 32,
      "metadata": {
        "id": "nL05qWo4nxLQ"
      },
      "outputs": [],
      "source": [
        "# Chosing the best epoch for the calculation of predictions.\n",
        "best_model_cnn = load_model(os.path.join('keras_cnn_models', 'Option_Prices_CNN_1e3Adam_weights.01-0.0326.hdf5'))\n",
        "preds_cnn = best_model_cnn(array_val_scaled_X)\n",
        "\n",
        "# Option_Prices_CNN_1e3Adam_weights.01-0.0326.hdf5, 18/05/2022"
      ]
    },
    {
      "cell_type": "code",
      "execution_count": 33,
      "metadata": {
        "id": "-8_B7sC4opmI"
      },
      "outputs": [],
      "source": [
        "# Reversing the standard scalar transformation\n",
        "preds_cnn_Y = scaler_Y.inverse_transform(preds_cnn)"
      ]
    },
    {
      "cell_type": "code",
      "execution_count": 34,
      "metadata": {
        "colab": {
          "base_uri": "https://localhost:8080/"
        },
        "id": "lO_psuOEowbp",
        "outputId": "872fc8b5-4b9e-4f4b-854e-fe3af6452f1b"
      },
      "outputs": [
        {
          "output_type": "execute_result",
          "data": {
            "text/plain": [
              "count    1040.000000\n",
              "mean        1.135098\n",
              "std         0.413451\n",
              "min         0.006476\n",
              "25%         0.732593\n",
              "50%         1.237070\n",
              "75%         1.441820\n",
              "max         1.805933\n",
              "Name: 0, dtype: float64"
            ]
          },
          "metadata": {},
          "execution_count": 34
        }
      ],
      "source": [
        "# Checking the results obtained\n",
        "preds_cnn_df = pd.DataFrame(preds_cnn_Y)\n",
        "preds_cnn_df[0].describe()"
      ]
    },
    {
      "cell_type": "code",
      "execution_count": 35,
      "metadata": {
        "id": "ZUe46IOeqy7x"
      },
      "outputs": [],
      "source": [
        "# ADAM OPTIMIZER, LEARNING RATE 1e-4\n",
        "def compile_and_train_2(model, num_epochs, batch_size): \n",
        "  model.compile(loss='mse', optimizer=Adam(1e-4))\n",
        "  model.summary()\n",
        "  save_weights_at = os.path.join('keras_cnn_models', 'Option_Prices_CNN_1e4Adam_weights.{epoch:02d}-{val_loss:.4f}.hdf5')\n",
        "  save_best = ModelCheckpoint(save_weights_at, monitor='val_loss', verbose=0, save_weights_only=False,\n",
        "                                                 save_best_only=True, mode='min', period=1)\n",
        "  history = model.fit(x=array_train_scaled_X, y=array_train_scaled_Y, batch_size=batch_size, \n",
        "                     epochs=num_epochs, verbose=1, callbacks=[save_best], \n",
        "                     validation_data=(array_val_scaled_X, array_val_scaled_Y), shuffle=True)\n",
        "  return history"
      ]
    },
    {
      "cell_type": "code",
      "execution_count": 36,
      "metadata": {
        "colab": {
          "base_uri": "https://localhost:8080/"
        },
        "id": "iSoBLuRjq86_",
        "outputId": "51862102-474a-4da6-e1d8-b63faf908ea9"
      },
      "outputs": [
        {
          "output_type": "stream",
          "name": "stdout",
          "text": [
            "Model: \"cnn1d_model\"\n",
            "_________________________________________________________________\n",
            " Layer (type)                Output Shape              Param #   \n",
            "=================================================================\n",
            " input_1 (InputLayer)        [(None, 5, 4)]            0         \n",
            "                                                                 \n",
            " zero_padding1d_1 (ZeroPaddi  (None, 11, 4)            0         \n",
            " ng1D)                                                           \n",
            "                                                                 \n",
            " conv1d_3 (Conv1D)           (None, 9, 100)            1300      \n",
            "                                                                 \n",
            " batch_normalization_3 (Batc  (None, 9, 100)           400       \n",
            " hNormalization)                                                 \n",
            "                                                                 \n",
            " max_pooling1d_3 (MaxPooling  (None, 8, 100)           0         \n",
            " 1D)                                                             \n",
            "                                                                 \n",
            " conv1d_4 (Conv1D)           (None, 6, 100)            30100     \n",
            "                                                                 \n",
            " batch_normalization_4 (Batc  (None, 6, 100)           400       \n",
            " hNormalization)                                                 \n",
            "                                                                 \n",
            " max_pooling1d_4 (MaxPooling  (None, 5, 100)           0         \n",
            " 1D)                                                             \n",
            "                                                                 \n",
            " conv1d_5 (Conv1D)           (None, 3, 100)            30100     \n",
            "                                                                 \n",
            " batch_normalization_5 (Batc  (None, 3, 100)           400       \n",
            " hNormalization)                                                 \n",
            "                                                                 \n",
            " max_pooling1d_5 (MaxPooling  (None, 2, 100)           0         \n",
            " 1D)                                                             \n",
            "                                                                 \n",
            " flatten_1 (Flatten)         (None, 200)               0         \n",
            "                                                                 \n",
            " dropout_1 (Dropout)         (None, 200)               0         \n",
            "                                                                 \n",
            " dense_1 (Dense)             (None, 1)                 201       \n",
            "                                                                 \n",
            "=================================================================\n",
            "Total params: 62,901\n",
            "Trainable params: 62,301\n",
            "Non-trainable params: 600\n",
            "_________________________________________________________________\n",
            "WARNING:tensorflow:`period` argument is deprecated. Please use `save_freq` to specify the frequency in number of batches seen.\n",
            "Epoch 1/20\n",
            "251/251 [==============================] - 3s 8ms/step - loss: 0.0178 - val_loss: 0.1637\n",
            "Epoch 2/20\n",
            "251/251 [==============================] - 2s 7ms/step - loss: 0.0160 - val_loss: 0.2925\n",
            "Epoch 3/20\n",
            "251/251 [==============================] - 2s 7ms/step - loss: 0.0168 - val_loss: 0.2661\n",
            "Epoch 4/20\n",
            "251/251 [==============================] - 2s 7ms/step - loss: 0.0161 - val_loss: 0.2145\n",
            "Epoch 5/20\n",
            "251/251 [==============================] - 2s 7ms/step - loss: 0.0150 - val_loss: 0.2194\n",
            "Epoch 6/20\n",
            "251/251 [==============================] - 2s 7ms/step - loss: 0.0146 - val_loss: 0.2362\n",
            "Epoch 7/20\n",
            "251/251 [==============================] - 2s 7ms/step - loss: 0.0145 - val_loss: 0.1876\n",
            "Epoch 8/20\n",
            "251/251 [==============================] - 2s 7ms/step - loss: 0.0146 - val_loss: 0.2834\n",
            "Epoch 9/20\n",
            "251/251 [==============================] - 2s 7ms/step - loss: 0.0149 - val_loss: 0.2049\n",
            "Epoch 10/20\n",
            "251/251 [==============================] - 2s 7ms/step - loss: 0.0141 - val_loss: 0.1646\n",
            "Epoch 11/20\n",
            "251/251 [==============================] - 3s 10ms/step - loss: 0.0137 - val_loss: 0.2329\n",
            "Epoch 12/20\n",
            "251/251 [==============================] - 2s 7ms/step - loss: 0.0126 - val_loss: 0.2939\n",
            "Epoch 13/20\n",
            "251/251 [==============================] - 2s 7ms/step - loss: 0.0138 - val_loss: 0.2616\n",
            "Epoch 14/20\n",
            "251/251 [==============================] - 2s 7ms/step - loss: 0.0135 - val_loss: 0.2999\n",
            "Epoch 15/20\n",
            "251/251 [==============================] - 2s 7ms/step - loss: 0.0127 - val_loss: 0.2759\n",
            "Epoch 16/20\n",
            "251/251 [==============================] - 2s 7ms/step - loss: 0.0129 - val_loss: 0.2042\n",
            "Epoch 17/20\n",
            "251/251 [==============================] - 2s 7ms/step - loss: 0.0139 - val_loss: 0.2555\n",
            "Epoch 18/20\n",
            "251/251 [==============================] - 2s 7ms/step - loss: 0.0140 - val_loss: 0.1832\n",
            "Epoch 19/20\n",
            "251/251 [==============================] - 2s 7ms/step - loss: 0.0123 - val_loss: 0.2416\n",
            "Epoch 20/20\n",
            "251/251 [==============================] - 2s 7ms/step - loss: 0.0118 - val_loss: 0.2503\n"
          ]
        }
      ],
      "source": [
        "# linear activation function in output layer, Adam optimizer learning rate 1e-4\n",
        "cnn_model_history_2 = compile_and_train_2(cnn_model, num_epochs, batch_size)"
      ]
    },
    {
      "cell_type": "code",
      "execution_count": 37,
      "metadata": {
        "id": "G4Hm_2HNrz5d"
      },
      "outputs": [],
      "source": [
        "# Chosing the best epoch for the calculation of predictions.\n",
        "best_model_cnn_2 = load_model(os.path.join('keras_cnn_models', 'Option_Prices_CNN_1e4Adam_weights.01-0.1637.hdf5'))\n",
        "preds_cnn_2 = best_model_cnn_2(array_val_scaled_X)\n",
        "\n",
        "# Option_Prices_CNN_1e4Adam_weights.01-0.1637.hdf5., 18/05/2022"
      ]
    },
    {
      "cell_type": "code",
      "execution_count": 38,
      "metadata": {
        "id": "tqLrv9-jsXEl"
      },
      "outputs": [],
      "source": [
        "# Reversing the standard scalar transformation\n",
        "preds_cnn_Y_2 = scaler_Y.inverse_transform(preds_cnn_2)"
      ]
    },
    {
      "cell_type": "code",
      "execution_count": 39,
      "metadata": {
        "colab": {
          "base_uri": "https://localhost:8080/"
        },
        "id": "ZbtMGoJjsPBo",
        "outputId": "754a3e25-694e-4989-96c9-557db403c529"
      },
      "outputs": [
        {
          "output_type": "execute_result",
          "data": {
            "text/plain": [
              "count    1040.000000\n",
              "mean        1.513229\n",
              "std         0.656037\n",
              "min         0.099511\n",
              "25%         0.994920\n",
              "50%         1.585377\n",
              "75%         2.061196\n",
              "max         2.538767\n",
              "Name: 0, dtype: float64"
            ]
          },
          "metadata": {},
          "execution_count": 39
        }
      ],
      "source": [
        "# Checking the results obtained\n",
        "preds_cnn_df_2 = pd.DataFrame(preds_cnn_Y_2)\n",
        "preds_cnn_df_2[0].describe()"
      ]
    },
    {
      "cell_type": "code",
      "execution_count": 40,
      "metadata": {
        "id": "rsSkXgBd4_He"
      },
      "outputs": [],
      "source": [
        "# ADAM OPTIMIZER, LEARNING RATE 1e-5\n",
        "def compile_and_train_3(model, num_epochs, batch_size): \n",
        "  model.compile(loss='mse', optimizer=Adam(1e-5))\n",
        "  model.summary()\n",
        "  save_weights_at = os.path.join('keras_cnn_models', 'Option_Prices_CNN_1e5Adam_weights.{epoch:02d}-{val_loss:.4f}.hdf5')\n",
        "  save_best = ModelCheckpoint(save_weights_at, monitor='val_loss', verbose=0, save_weights_only=False,\n",
        "                                                 save_best_only=True, mode='min', period=1)\n",
        "  history = model.fit(x=array_train_scaled_X, y=array_train_scaled_Y, batch_size=batch_size, \n",
        "                     epochs=num_epochs, verbose=1, callbacks=[save_best], \n",
        "                     validation_data=(array_val_scaled_X, array_val_scaled_Y), shuffle=True)\n",
        "  return history"
      ]
    },
    {
      "cell_type": "code",
      "execution_count": 41,
      "metadata": {
        "colab": {
          "base_uri": "https://localhost:8080/"
        },
        "id": "_ua5548h5Sa_",
        "outputId": "61646173-491a-48b2-f2a5-954d8cd9fa0b"
      },
      "outputs": [
        {
          "output_type": "stream",
          "name": "stdout",
          "text": [
            "Model: \"cnn1d_model\"\n",
            "_________________________________________________________________\n",
            " Layer (type)                Output Shape              Param #   \n",
            "=================================================================\n",
            " input_1 (InputLayer)        [(None, 5, 4)]            0         \n",
            "                                                                 \n",
            " zero_padding1d_1 (ZeroPaddi  (None, 11, 4)            0         \n",
            " ng1D)                                                           \n",
            "                                                                 \n",
            " conv1d_3 (Conv1D)           (None, 9, 100)            1300      \n",
            "                                                                 \n",
            " batch_normalization_3 (Batc  (None, 9, 100)           400       \n",
            " hNormalization)                                                 \n",
            "                                                                 \n",
            " max_pooling1d_3 (MaxPooling  (None, 8, 100)           0         \n",
            " 1D)                                                             \n",
            "                                                                 \n",
            " conv1d_4 (Conv1D)           (None, 6, 100)            30100     \n",
            "                                                                 \n",
            " batch_normalization_4 (Batc  (None, 6, 100)           400       \n",
            " hNormalization)                                                 \n",
            "                                                                 \n",
            " max_pooling1d_4 (MaxPooling  (None, 5, 100)           0         \n",
            " 1D)                                                             \n",
            "                                                                 \n",
            " conv1d_5 (Conv1D)           (None, 3, 100)            30100     \n",
            "                                                                 \n",
            " batch_normalization_5 (Batc  (None, 3, 100)           400       \n",
            " hNormalization)                                                 \n",
            "                                                                 \n",
            " max_pooling1d_5 (MaxPooling  (None, 2, 100)           0         \n",
            " 1D)                                                             \n",
            "                                                                 \n",
            " flatten_1 (Flatten)         (None, 200)               0         \n",
            "                                                                 \n",
            " dropout_1 (Dropout)         (None, 200)               0         \n",
            "                                                                 \n",
            " dense_1 (Dense)             (None, 1)                 201       \n",
            "                                                                 \n",
            "=================================================================\n",
            "Total params: 62,901\n",
            "Trainable params: 62,301\n",
            "Non-trainable params: 600\n",
            "_________________________________________________________________\n",
            "WARNING:tensorflow:`period` argument is deprecated. Please use `save_freq` to specify the frequency in number of batches seen.\n",
            "Epoch 1/20\n",
            "251/251 [==============================] - 3s 8ms/step - loss: 0.0109 - val_loss: 0.2372\n",
            "Epoch 2/20\n",
            "251/251 [==============================] - 2s 7ms/step - loss: 0.0113 - val_loss: 0.2486\n",
            "Epoch 3/20\n",
            "251/251 [==============================] - 2s 8ms/step - loss: 0.0103 - val_loss: 0.2200\n",
            "Epoch 4/20\n",
            "251/251 [==============================] - 2s 7ms/step - loss: 0.0104 - val_loss: 0.2308\n",
            "Epoch 5/20\n",
            "251/251 [==============================] - 2s 7ms/step - loss: 0.0113 - val_loss: 0.2373\n",
            "Epoch 6/20\n",
            "251/251 [==============================] - 2s 7ms/step - loss: 0.0107 - val_loss: 0.2297\n",
            "Epoch 7/20\n",
            "251/251 [==============================] - 2s 7ms/step - loss: 0.0109 - val_loss: 0.2326\n",
            "Epoch 8/20\n",
            "251/251 [==============================] - 2s 7ms/step - loss: 0.0114 - val_loss: 0.2470\n",
            "Epoch 9/20\n",
            "251/251 [==============================] - 2s 7ms/step - loss: 0.0102 - val_loss: 0.2459\n",
            "Epoch 10/20\n",
            "251/251 [==============================] - 2s 7ms/step - loss: 0.0110 - val_loss: 0.2443\n",
            "Epoch 11/20\n",
            "251/251 [==============================] - 2s 7ms/step - loss: 0.0108 - val_loss: 0.2332\n",
            "Epoch 12/20\n",
            "251/251 [==============================] - 2s 7ms/step - loss: 0.0114 - val_loss: 0.2193\n",
            "Epoch 13/20\n",
            "251/251 [==============================] - 2s 7ms/step - loss: 0.0104 - val_loss: 0.2382\n",
            "Epoch 14/20\n",
            "251/251 [==============================] - 2s 8ms/step - loss: 0.0096 - val_loss: 0.2341\n",
            "Epoch 15/20\n",
            "251/251 [==============================] - 2s 7ms/step - loss: 0.0098 - val_loss: 0.2327\n",
            "Epoch 16/20\n",
            "251/251 [==============================] - 2s 7ms/step - loss: 0.0108 - val_loss: 0.2293\n",
            "Epoch 17/20\n",
            "251/251 [==============================] - 2s 7ms/step - loss: 0.0103 - val_loss: 0.2290\n",
            "Epoch 18/20\n",
            "251/251 [==============================] - 2s 7ms/step - loss: 0.0101 - val_loss: 0.2420\n",
            "Epoch 19/20\n",
            "251/251 [==============================] - 2s 7ms/step - loss: 0.0101 - val_loss: 0.2352\n",
            "Epoch 20/20\n",
            "251/251 [==============================] - 2s 7ms/step - loss: 0.0100 - val_loss: 0.2364\n"
          ]
        }
      ],
      "source": [
        "# linear activation function in output layer, Adam optimizer learning rate 1e-5\n",
        "cnn_model_history_3 = compile_and_train_3(cnn_model, num_epochs, batch_size)"
      ]
    },
    {
      "cell_type": "code",
      "execution_count": 42,
      "metadata": {
        "id": "aILzO2Px5ME4"
      },
      "outputs": [],
      "source": [
        "# Chosing the best epoch for the calculation of predictions.\n",
        "best_model_cnn_3 = load_model(os.path.join('keras_cnn_models', 'Option_Prices_CNN_1e5Adam_weights.12-0.2193.hdf5'))\n",
        "preds_cnn_3= best_model_cnn_3(array_val_scaled_X)\n",
        "\n",
        "# Option_Prices_CNN_1e5Adam_weights.12-0.2193.hdf5"
      ]
    },
    {
      "cell_type": "code",
      "execution_count": 43,
      "metadata": {
        "id": "OnATNidF5Uxs"
      },
      "outputs": [],
      "source": [
        "# Reversing the standard scalar transformation\n",
        "preds_cnn_Y_3 = scaler_Y.inverse_transform(preds_cnn_3)"
      ]
    },
    {
      "cell_type": "code",
      "execution_count": 44,
      "metadata": {
        "colab": {
          "base_uri": "https://localhost:8080/"
        },
        "id": "ITQ1zn3E5VgV",
        "outputId": "533d131d-0399-4770-e42b-461a93f5bf88"
      },
      "outputs": [
        {
          "output_type": "execute_result",
          "data": {
            "text/plain": [
              "count    1040.000000\n",
              "mean        1.636266\n",
              "std         0.684003\n",
              "min         0.173185\n",
              "25%         1.074718\n",
              "50%         1.726331\n",
              "75%         2.210829\n",
              "max         2.695356\n",
              "Name: 0, dtype: float64"
            ]
          },
          "metadata": {},
          "execution_count": 44
        }
      ],
      "source": [
        "# Checking the results obtained\n",
        "preds_cnn_df_3 = pd.DataFrame(preds_cnn_Y_3)\n",
        "preds_cnn_df_3[0].describe()"
      ]
    },
    {
      "cell_type": "code",
      "execution_count": 45,
      "metadata": {
        "id": "vwz3aote5Iyb"
      },
      "outputs": [],
      "source": [
        "# ADAM OPTIMIZER, LEARNING RATE 1e-6\n",
        "def compile_and_train_4(model, num_epochs, batch_size): \n",
        "  model.compile(loss='mse', optimizer=Adam(1e-6))\n",
        "  model.summary()\n",
        "  save_weights_at = os.path.join('keras_cnn_models', 'Option_Prices_CNN_1e6Adam_weights.{epoch:02d}-{val_loss:.4f}.hdf5')\n",
        "  save_best = ModelCheckpoint(save_weights_at, monitor='val_loss', verbose=0, save_weights_only=False,\n",
        "                                                 save_best_only=True, mode='min', period=1)\n",
        "  history = model.fit(x=array_train_scaled_X, y=array_train_scaled_Y, batch_size=batch_size, \n",
        "                     epochs=num_epochs, verbose=1, callbacks=[save_best], \n",
        "                     validation_data=(array_val_scaled_X, array_val_scaled_Y), shuffle=True)\n",
        "  return history"
      ]
    },
    {
      "cell_type": "code",
      "execution_count": 46,
      "metadata": {
        "colab": {
          "base_uri": "https://localhost:8080/"
        },
        "id": "PMcsFnFH5yM4",
        "outputId": "fbbef7dc-1801-4517-ec8a-e7a947fc4e48"
      },
      "outputs": [
        {
          "output_type": "stream",
          "name": "stdout",
          "text": [
            "Model: \"cnn1d_model\"\n",
            "_________________________________________________________________\n",
            " Layer (type)                Output Shape              Param #   \n",
            "=================================================================\n",
            " input_1 (InputLayer)        [(None, 5, 4)]            0         \n",
            "                                                                 \n",
            " zero_padding1d_1 (ZeroPaddi  (None, 11, 4)            0         \n",
            " ng1D)                                                           \n",
            "                                                                 \n",
            " conv1d_3 (Conv1D)           (None, 9, 100)            1300      \n",
            "                                                                 \n",
            " batch_normalization_3 (Batc  (None, 9, 100)           400       \n",
            " hNormalization)                                                 \n",
            "                                                                 \n",
            " max_pooling1d_3 (MaxPooling  (None, 8, 100)           0         \n",
            " 1D)                                                             \n",
            "                                                                 \n",
            " conv1d_4 (Conv1D)           (None, 6, 100)            30100     \n",
            "                                                                 \n",
            " batch_normalization_4 (Batc  (None, 6, 100)           400       \n",
            " hNormalization)                                                 \n",
            "                                                                 \n",
            " max_pooling1d_4 (MaxPooling  (None, 5, 100)           0         \n",
            " 1D)                                                             \n",
            "                                                                 \n",
            " conv1d_5 (Conv1D)           (None, 3, 100)            30100     \n",
            "                                                                 \n",
            " batch_normalization_5 (Batc  (None, 3, 100)           400       \n",
            " hNormalization)                                                 \n",
            "                                                                 \n",
            " max_pooling1d_5 (MaxPooling  (None, 2, 100)           0         \n",
            " 1D)                                                             \n",
            "                                                                 \n",
            " flatten_1 (Flatten)         (None, 200)               0         \n",
            "                                                                 \n",
            " dropout_1 (Dropout)         (None, 200)               0         \n",
            "                                                                 \n",
            " dense_1 (Dense)             (None, 1)                 201       \n",
            "                                                                 \n",
            "=================================================================\n",
            "Total params: 62,901\n",
            "Trainable params: 62,301\n",
            "Non-trainable params: 600\n",
            "_________________________________________________________________\n",
            "WARNING:tensorflow:`period` argument is deprecated. Please use `save_freq` to specify the frequency in number of batches seen.\n",
            "Epoch 1/20\n",
            "251/251 [==============================] - 3s 8ms/step - loss: 0.0098 - val_loss: 0.2366\n",
            "Epoch 2/20\n",
            "251/251 [==============================] - 2s 8ms/step - loss: 0.0096 - val_loss: 0.2322\n",
            "Epoch 3/20\n",
            "251/251 [==============================] - 2s 8ms/step - loss: 0.0103 - val_loss: 0.2326\n",
            "Epoch 4/20\n",
            "251/251 [==============================] - 2s 8ms/step - loss: 0.0100 - val_loss: 0.2302\n",
            "Epoch 5/20\n",
            "251/251 [==============================] - 2s 7ms/step - loss: 0.0105 - val_loss: 0.2326\n",
            "Epoch 6/20\n",
            "251/251 [==============================] - 2s 7ms/step - loss: 0.0104 - val_loss: 0.2370\n",
            "Epoch 7/20\n",
            "251/251 [==============================] - 2s 7ms/step - loss: 0.0102 - val_loss: 0.2347\n",
            "Epoch 8/20\n",
            "251/251 [==============================] - 2s 7ms/step - loss: 0.0107 - val_loss: 0.2311\n",
            "Epoch 9/20\n",
            "251/251 [==============================] - 2s 7ms/step - loss: 0.0100 - val_loss: 0.2315\n",
            "Epoch 10/20\n",
            "251/251 [==============================] - 2s 7ms/step - loss: 0.0102 - val_loss: 0.2322\n",
            "Epoch 11/20\n",
            "251/251 [==============================] - 2s 7ms/step - loss: 0.0095 - val_loss: 0.2360\n",
            "Epoch 12/20\n",
            "251/251 [==============================] - 2s 7ms/step - loss: 0.0102 - val_loss: 0.2401\n",
            "Epoch 13/20\n",
            "251/251 [==============================] - 2s 7ms/step - loss: 0.0100 - val_loss: 0.2346\n",
            "Epoch 14/20\n",
            "251/251 [==============================] - 2s 7ms/step - loss: 0.0104 - val_loss: 0.2353\n",
            "Epoch 15/20\n",
            "251/251 [==============================] - 2s 7ms/step - loss: 0.0098 - val_loss: 0.2325\n",
            "Epoch 16/20\n",
            "251/251 [==============================] - 2s 8ms/step - loss: 0.0098 - val_loss: 0.2318\n",
            "Epoch 17/20\n",
            "251/251 [==============================] - 2s 7ms/step - loss: 0.0103 - val_loss: 0.2327\n",
            "Epoch 18/20\n",
            "251/251 [==============================] - 2s 7ms/step - loss: 0.0103 - val_loss: 0.2326\n",
            "Epoch 19/20\n",
            "251/251 [==============================] - 2s 7ms/step - loss: 0.0095 - val_loss: 0.2249\n",
            "Epoch 20/20\n",
            "251/251 [==============================] - 2s 7ms/step - loss: 0.0108 - val_loss: 0.2301\n"
          ]
        }
      ],
      "source": [
        "# linear activation function in output layer, Adam optimizer learning rate 1e-6\n",
        "cnn_model_history_4 = compile_and_train_4(cnn_model, num_epochs, batch_size)"
      ]
    },
    {
      "cell_type": "code",
      "execution_count": 47,
      "metadata": {
        "id": "0oq73ioW52Fv"
      },
      "outputs": [],
      "source": [
        "# Chosing the best epoch for the calculation of predictions.\n",
        "best_model_cnn_4 = load_model(os.path.join('keras_cnn_models', 'Option_Prices_CNN_1e6Adam_weights.19-0.2249.hdf5'))\n",
        "preds_cnn_4= best_model_cnn_4(array_val_scaled_X)"
      ]
    },
    {
      "cell_type": "code",
      "execution_count": 48,
      "metadata": {
        "id": "Ut2dXYkDFLTd"
      },
      "outputs": [],
      "source": [
        "# Reversing the standard scalar transformation\n",
        "preds_cnn_Y_4 = scaler_Y.inverse_transform(preds_cnn_4)"
      ]
    },
    {
      "cell_type": "code",
      "execution_count": 49,
      "metadata": {
        "id": "mCJXNXje516m"
      },
      "outputs": [],
      "source": [
        "# Checking the results obtained\n",
        "preds_cnn_df_4 = pd.DataFrame(preds_cnn_Y_4)"
      ]
    },
    {
      "cell_type": "code",
      "execution_count": 50,
      "metadata": {
        "colab": {
          "base_uri": "https://localhost:8080/"
        },
        "id": "hQ4vpM5s9_XA",
        "outputId": "2c64a650-2433-4279-e58d-08e9331c353d"
      },
      "outputs": [
        {
          "output_type": "execute_result",
          "data": {
            "text/plain": [
              "count    1040.000000\n",
              "mean        1.646094\n",
              "std         0.688697\n",
              "min         0.165374\n",
              "25%         1.084590\n",
              "50%         1.742253\n",
              "75%         2.221836\n",
              "max         2.705311\n",
              "Name: 0, dtype: float64"
            ]
          },
          "metadata": {},
          "execution_count": 50
        }
      ],
      "source": [
        "preds_cnn_df_4[0].describe()"
      ]
    },
    {
      "cell_type": "markdown",
      "metadata": {
        "id": "hwZIVdpffklX"
      },
      "source": [
        "**7. Results**"
      ]
    },
    {
      "cell_type": "code",
      "execution_count": 51,
      "metadata": {
        "colab": {
          "base_uri": "https://localhost:8080/",
          "height": 377
        },
        "id": "CJld4MIlfkAR",
        "outputId": "cdde2e79-7a83-4107-cdae-4cb4107da8d6"
      },
      "outputs": [
        {
          "output_type": "display_data",
          "data": {
            "text/plain": [
              "<Figure size 756x396 with 1 Axes>"
            ],
            "image/png": "[encoded data removed]"
          },
          "metadata": {
            "needs_background": "light"
          }
        }
      ],
      "source": [
        "# Plotting actual vs predicted values\n",
        "plt.figure(figsize=(10.5, 5.5))\n",
        "plt.plot(df_val['option_price'], linestyle='-', marker='.', linewidth=1, color='orangered')\n",
        "plt.plot(preds_cnn_df, linestyle='-', marker='.', linewidth=1, color='royalblue')\n",
        "plt.legend(['Actual','Predicted'], loc=2)\n",
        "plt.title('Actual vs Predicted Option prices - CNN (Adam - Learning Rate 1e-3)')\n",
        "plt.ylabel('Option prices')\n",
        "plt.xlabel('Time series steps')\n",
        "plot_path = 'sample_data'\n",
        "plot_file = 'cnn_lr1e-3.png'\n",
        "plt.savefig(os.path.join(plot_path, plot_file), format='png', dpi=300)"
      ]
    },
    {
      "cell_type": "code",
      "execution_count": 52,
      "metadata": {
        "colab": {
          "base_uri": "https://localhost:8080/",
          "height": 377
        },
        "id": "0LAorrA-4O5p",
        "outputId": "c5099aa8-92f2-4f18-dc47-7d41a2757c34"
      },
      "outputs": [
        {
          "output_type": "display_data",
          "data": {
            "text/plain": [
              "<Figure size 756x396 with 1 Axes>"
            ],
            "image/png": "[encoded data removed]"
          },
          "metadata": {
            "needs_background": "light"
          }
        }
      ],
      "source": [
        "# Plotting actual vs predicted values\n",
        "plt.figure(figsize=(10.5, 5.5))\n",
        "plt.plot(df_val['option_price'], linestyle='-', marker='.', linewidth=1, color='orangered')\n",
        "plt.plot(preds_cnn_df_2, linestyle='-', marker='.', linewidth=1, color='royalblue')\n",
        "plt.legend(['Actual','Predicted'], loc=2)\n",
        "plt.title('Actual vs Predicted Option prices - CNN (Adam - Learning Rate 1e-4)')\n",
        "plt.ylabel('Option prices')\n",
        "plt.xlabel('Time series steps')\n",
        "plot_path = 'sample_data'\n",
        "plot_file = 'cnn_lr1e-4.png'\n",
        "plt.savefig(os.path.join(plot_path, plot_file), format='png', dpi=300)"
      ]
    },
    {
      "cell_type": "code",
      "execution_count": 53,
      "metadata": {
        "colab": {
          "base_uri": "https://localhost:8080/",
          "height": 377
        },
        "id": "hhSQQ5mt4rrc",
        "outputId": "fbb74c97-90c6-46a7-8968-bb2c93c474d5"
      },
      "outputs": [
        {
          "output_type": "display_data",
          "data": {
            "text/plain": [
              "<Figure size 756x396 with 1 Axes>"
            ],
            "image/png": "[encoded data removed]"
          },
          "metadata": {
            "needs_background": "light"
          }
        }
      ],
      "source": [
        "# Plotting actual vs predicted values\n",
        "plt.figure(figsize=(10.5, 5.5))\n",
        "plt.plot(df_val['option_price'], linestyle='-', marker='.', linewidth=1, color='orangered')\n",
        "plt.plot(preds_cnn_df_3, linestyle='-', marker='.', linewidth=1, color='royalblue')\n",
        "plt.legend(['Actual','Predicted'], loc=2)\n",
        "plt.title('Actual vs Predicted Option prices - CNN (Adam - Learning Rate 1e-5)')\n",
        "plt.ylabel('Option prices')\n",
        "plt.xlabel('Time series steps')\n",
        "plot_path = 'sample_data'\n",
        "plot_file = 'cnn_lr1e-5.png'\n",
        "plt.savefig(os.path.join(plot_path, plot_file), format='png', dpi=300)"
      ]
    },
    {
      "cell_type": "code",
      "execution_count": 54,
      "metadata": {
        "colab": {
          "base_uri": "https://localhost:8080/",
          "height": 377
        },
        "id": "cBnxLenC-Rm8",
        "outputId": "eaf02967-7c45-4b94-e3e5-4981c75cd096"
      },
      "outputs": [
        {
          "output_type": "display_data",
          "data": {
            "text/plain": [
              "<Figure size 756x396 with 1 Axes>"
            ],
            "image/png": "[encoded data removed]"
          },
          "metadata": {
            "needs_background": "light"
          }
        }
      ],
      "source": [
        "# Plotting actual vs predicted values\n",
        "plt.figure(figsize=(10.5, 5.5))\n",
        "plt.plot(df_val['option_price'], linestyle='-', marker='.', linewidth=1, color='orangered')\n",
        "plt.plot(preds_cnn_df_4, linestyle='-', marker='.', linewidth=1, color='royalblue')\n",
        "plt.legend(['Actual','Predicted'], loc=2)\n",
        "plt.title('Actual vs Predicted Option prices - CNN (Adam - Learning Rate 1e-6)')\n",
        "plt.ylabel('Option prices')\n",
        "plt.xlabel('Time series steps')\n",
        "plot_path = 'sample_data'\n",
        "plot_file = 'cnn_lr1e-6.png'\n",
        "plt.savefig(os.path.join(plot_path, plot_file), format='png', dpi=300)"
      ]
    },
    {
      "cell_type": "code",
      "execution_count": 55,
      "metadata": {
        "id": "q9ZSHiRcpL5E"
      },
      "outputs": [],
      "source": [
        "from sklearn.metrics import mean_absolute_error, mean_squared_error, mean_absolute_percentage_error, r2_score\n",
        "from math import sqrt"
      ]
    },
    {
      "cell_type": "code",
      "execution_count": 56,
      "metadata": {
        "colab": {
          "base_uri": "https://localhost:8080/"
        },
        "id": "WkoodYFKWN-z",
        "outputId": "d8297e7b-b7c5-4987-9ccf-9cbf9489edc9"
      },
      "outputs": [
        {
          "output_type": "execute_result",
          "data": {
            "text/plain": [
              "(1040, 1)"
            ]
          },
          "metadata": {},
          "execution_count": 56
        }
      ],
      "source": [
        "# Creating a dataframe for validation data.\n",
        "# Drop the 5 first entries to be able to calculate performance metrics:\n",
        "actual_option_df = df_val[['option_price']].copy()\n",
        "actual_option_df = actual_option_df.iloc[5:]\n",
        "actual_option_df.shape\n",
        "# Found input variables with inconsistent numbers of samples: [1045, 1040]"
      ]
    },
    {
      "cell_type": "code",
      "execution_count": 57,
      "metadata": {
        "id": "YWLv7fZIpicj"
      },
      "outputs": [],
      "source": [
        "# Adam - Learning Rate 1e-3\n",
        "def compute_metrics():\n",
        "  rmse = sqrt(mean_squared_error(actual_option_df, preds_cnn_df))\n",
        "  mae = mean_absolute_error(actual_option_df, preds_cnn_df)\n",
        "  mape = mean_absolute_percentage_error(actual_option_df, preds_cnn_df)\n",
        "  r_squared = r2_score(actual_option_df, preds_cnn_df)\n",
        "  return rmse, mae, mape, r_squared"
      ]
    },
    {
      "cell_type": "code",
      "execution_count": 58,
      "metadata": {
        "colab": {
          "base_uri": "https://localhost:8080/"
        },
        "id": "fLQKfM7xptPx",
        "outputId": "5d900c69-7ef7-4827-a1e4-79b232492065"
      },
      "outputs": [
        {
          "output_type": "stream",
          "name": "stdout",
          "text": [
            "RMSE for the validation set: 0.3397\n",
            "MAE for the validation set: 0.2971\n",
            "MAPE for the validation set: 0.3333\n",
            "R Squared for the validation set: -0.7538\n"
          ]
        }
      ],
      "source": [
        "rmse, mae, mape, r_squared = compute_metrics()\n",
        "\n",
        "print('RMSE for the validation set:', round(rmse, 4))\n",
        "print('MAE for the validation set:', round(mae, 4))\n",
        "print('MAPE for the validation set:', round(mape, 4))\n",
        "print('R Squared for the validation set:', round(r_squared, 4))"
      ]
    },
    {
      "cell_type": "code",
      "execution_count": 59,
      "metadata": {
        "id": "G9HwWhv24b4n"
      },
      "outputs": [],
      "source": [
        "# Adam - Learning Rate 1e-4\n",
        "def compute_metrics_2():\n",
        "  rmse = sqrt(mean_squared_error(actual_option_df, preds_cnn_df_2))\n",
        "  mae = mean_absolute_error(actual_option_df, preds_cnn_df_2)\n",
        "  mape = mean_absolute_percentage_error(actual_option_df, preds_cnn_df_2)\n",
        "  r_squared = r2_score(actual_option_df, preds_cnn_df_2)\n",
        "  return rmse, mae, mape, r_squared"
      ]
    },
    {
      "cell_type": "code",
      "execution_count": 60,
      "metadata": {
        "colab": {
          "base_uri": "https://localhost:8080/"
        },
        "id": "U6en5AMb4n6b",
        "outputId": "225c2872-1547-4ecd-d7f7-40bfaf8af4b3"
      },
      "outputs": [
        {
          "output_type": "stream",
          "name": "stdout",
          "text": [
            "RMSE for the validation set: 0.7616\n",
            "MAE for the validation set: 0.6688\n",
            "MAPE for the validation set: 0.7106\n",
            "R Squared for the validation set: -7.8165\n"
          ]
        }
      ],
      "source": [
        "rmse, mae, mape, r_squared = compute_metrics_2()\n",
        "\n",
        "print('RMSE for the validation set:', round(rmse, 4))\n",
        "print('MAE for the validation set:', round(mae, 4))\n",
        "print('MAPE for the validation set:', round(mape, 4))\n",
        "print('R Squared for the validation set:', round(r_squared, 4))"
      ]
    },
    {
      "cell_type": "code",
      "execution_count": 61,
      "metadata": {
        "id": "AUQbQvar6QM-"
      },
      "outputs": [],
      "source": [
        "# Adam - Learning Rate 1e-5\n",
        "def compute_metrics_3():\n",
        "  rmse = sqrt(mean_squared_error(actual_option_df, preds_cnn_df_3))\n",
        "  mae = mean_absolute_error(actual_option_df, preds_cnn_df_3)\n",
        "  mape = mean_absolute_percentage_error(actual_option_df, preds_cnn_df_3)\n",
        "  r_squared = r2_score(actual_option_df, preds_cnn_df_3)\n",
        "  return rmse, mae, mape, r_squared"
      ]
    },
    {
      "cell_type": "code",
      "execution_count": 62,
      "metadata": {
        "colab": {
          "base_uri": "https://localhost:8080/"
        },
        "id": "Rw_a-Ag66TQp",
        "outputId": "3b9ce73c-52d2-49ff-8dae-e292e5965d8d"
      },
      "outputs": [
        {
          "output_type": "stream",
          "name": "stdout",
          "text": [
            "RMSE for the validation set: 0.8812\n",
            "MAE for the validation set: 0.7721\n",
            "MAPE for the validation set: 0.8168\n",
            "R Squared for the validation set: -10.8054\n"
          ]
        }
      ],
      "source": [
        "rmse, mae, mape, r_squared = compute_metrics_3()\n",
        "\n",
        "print('RMSE for the validation set:', round(rmse, 4))\n",
        "print('MAE for the validation set:', round(mae, 4))\n",
        "print('MAPE for the validation set:', round(mape, 4))\n",
        "print('R Squared for the validation set:', round(r_squared, 4))"
      ]
    },
    {
      "cell_type": "code",
      "execution_count": 63,
      "metadata": {
        "id": "hg_LuzjE6UHV"
      },
      "outputs": [],
      "source": [
        "# Adam - Learning Rate 1e-6\n",
        "def compute_metrics_4():\n",
        "  rmse = sqrt(mean_squared_error(actual_option_df, preds_cnn_df_4))\n",
        "  mae = mean_absolute_error(actual_option_df, preds_cnn_df_4)\n",
        "  mape = mean_absolute_percentage_error(actual_option_df, preds_cnn_df_4)\n",
        "  r_squared = r2_score(actual_option_df, preds_cnn_df_4)\n",
        "  return rmse, mae, mape, r_squared"
      ]
    },
    {
      "cell_type": "code",
      "execution_count": 64,
      "metadata": {
        "colab": {
          "base_uri": "https://localhost:8080/"
        },
        "id": "irAcMvVn846v",
        "outputId": "f1452be2-bd2f-4fb7-dd50-3b4d3686e263"
      },
      "outputs": [
        {
          "output_type": "stream",
          "name": "stdout",
          "text": [
            "RMSE for the validation set: 0.8924\n",
            "MAE for the validation set: 0.7825\n",
            "MAPE for the validation set: 0.8285\n",
            "R Squared for the validation set: -11.1067\n"
          ]
        }
      ],
      "source": [
        "rmse, mae, mape, r_squared = compute_metrics_4()\n",
        "\n",
        "print('RMSE for the validation set:', round(rmse, 4))\n",
        "print('MAE for the validation set:', round(mae, 4))\n",
        "print('MAPE for the validation set:', round(mape, 4))\n",
        "print('R Squared for the validation set:', round(r_squared, 4))"
      ]
    }
  ],
  "metadata": {
    "colab": {
      "collapsed_sections": [],
      "name": "1D_CNN_ShortPaperSpecs_AdamOptimizer.ipynb",
      "provenance": [],
      "authorship_tag": "ABX9TyP/Zn8UFqOtqtjdb2GNETbt",
      "include_colab_link": true
    },
    "kernelspec": {
      "display_name": "Python 3",
      "name": "python3"
    },
    "language_info": {
      "name": "python"
    }
  },
  "nbformat": 4,
  "nbformat_minor": 0
}